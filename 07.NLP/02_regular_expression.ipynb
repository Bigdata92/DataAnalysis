{
  "nbformat": 4,
  "nbformat_minor": 0,
  "metadata": {
    "colab": {
      "name": "02_regular_expression.ipynb",
      "provenance": [],
      "collapsed_sections": []
    },
    "kernelspec": {
      "name": "python3",
      "display_name": "Python 3"
    },
    "language_info": {
      "name": "python"
    }
  },
  "cells": [
    {
      "cell_type": "markdown",
      "metadata": {
        "id": "upPXcc6tcjeM"
      },
      "source": [
        "# 정규 표현식(regular expression)"
      ]
    },
    {
      "cell_type": "code",
      "metadata": {
        "id": "g1AfSN6jccHl"
      },
      "source": [
        "import re"
      ],
      "execution_count": 8,
      "outputs": []
    },
    {
      "cell_type": "markdown",
      "metadata": {
        "id": "nuf10YVaew6i"
      },
      "source": [
        "## 1. regular expression practice"
      ]
    },
    {
      "cell_type": "markdown",
      "metadata": {
        "id": "UsRu20W6fDvw"
      },
      "source": [
        "- . 기호 : 한 개의 임의의 문자를 나타냅니다. (줄바꿈 문자인 \\n는 제외)"
      ]
    },
    {
      "cell_type": "code",
      "metadata": {
        "id": "M94wvoR0ewDN"
      },
      "source": [
        "re.search('a.c', 'kkk')"
      ],
      "execution_count": 9,
      "outputs": []
    },
    {
      "cell_type": "code",
      "metadata": {
        "colab": {
          "base_uri": "https://localhost:8080/"
        },
        "id": "CawjlzgjfCxj",
        "outputId": "72a0e10f-9101-4a1d-b36f-046ce662e2ce"
      },
      "source": [
        "re.search('a.c', 'abc')"
      ],
      "execution_count": 10,
      "outputs": [
        {
          "output_type": "execute_result",
          "data": {
            "text/plain": [
              "<re.Match object; span=(0, 3), match='abc'>"
            ]
          },
          "metadata": {},
          "execution_count": 10
        }
      ]
    },
    {
      "cell_type": "markdown",
      "metadata": {
        "id": "Nea-yEJQ0NxH"
      },
      "source": [
        "- \\* 기호 : 바로 앞의 문자가 0개 이상일 경우"
      ]
    },
    {
      "cell_type": "code",
      "metadata": {
        "id": "sVr7OuJ30TXX"
      },
      "source": [
        "import re\n",
        "r=re.compile(\"ab*c\")\n",
        "r.search(\"a\") # 아무런 결과도 출력되지 않는다."
      ],
      "execution_count": 30,
      "outputs": []
    },
    {
      "cell_type": "code",
      "metadata": {
        "colab": {
          "base_uri": "https://localhost:8080/"
        },
        "id": "5oMluYfi0VAM",
        "outputId": "13e4f7a7-31a1-4ed8-96e6-d078abb0ab40"
      },
      "source": [
        "r.search(\"ac\")"
      ],
      "execution_count": 31,
      "outputs": [
        {
          "output_type": "execute_result",
          "data": {
            "text/plain": [
              "<re.Match object; span=(0, 2), match='ac'>"
            ]
          },
          "metadata": {},
          "execution_count": 31
        }
      ]
    },
    {
      "cell_type": "code",
      "metadata": {
        "colab": {
          "base_uri": "https://localhost:8080/"
        },
        "id": "uBZxuter0U9E",
        "outputId": "9e1537fc-15d0-4872-f349-a43240752b38"
      },
      "source": [
        "r.search(\"abc\") "
      ],
      "execution_count": 32,
      "outputs": [
        {
          "output_type": "execute_result",
          "data": {
            "text/plain": [
              "<re.Match object; span=(0, 3), match='abc'>"
            ]
          },
          "metadata": {},
          "execution_count": 32
        }
      ]
    },
    {
      "cell_type": "code",
      "metadata": {
        "colab": {
          "base_uri": "https://localhost:8080/"
        },
        "id": "KvFAK4Lk0XII",
        "outputId": "ecaaae36-da0d-43a8-fc7e-b7122561aa19"
      },
      "source": [
        "r.search(\"abbbbc\") "
      ],
      "execution_count": 33,
      "outputs": [
        {
          "output_type": "execute_result",
          "data": {
            "text/plain": [
              "<re.Match object; span=(0, 6), match='abbbbc'>"
            ]
          },
          "metadata": {},
          "execution_count": 33
        }
      ]
    },
    {
      "cell_type": "markdown",
      "metadata": {
        "id": "7q8DZItTfS4Q"
      },
      "source": [
        "- ? 기호 : 앞의 문자가 존재할 수도 있고, 존재하지 않을 수도 있습니다. (문자가 0개 또는 1개)"
      ]
    },
    {
      "cell_type": "code",
      "metadata": {
        "id": "zH2DUotafIt1"
      },
      "source": [
        "r = re.compile('ab?c')\n",
        "r.search('abbc') "
      ],
      "execution_count": 11,
      "outputs": []
    },
    {
      "cell_type": "code",
      "metadata": {
        "colab": {
          "base_uri": "https://localhost:8080/"
        },
        "id": "FKsgbagnfYfV",
        "outputId": "7b154fb2-14f6-4122-97a0-da7c5bd4e8a2"
      },
      "source": [
        "r.search('abc') "
      ],
      "execution_count": 12,
      "outputs": [
        {
          "output_type": "execute_result",
          "data": {
            "text/plain": [
              "<re.Match object; span=(0, 3), match='abc'>"
            ]
          },
          "metadata": {},
          "execution_count": 12
        }
      ]
    },
    {
      "cell_type": "markdown",
      "metadata": {
        "id": "8Lq1LjozyNf1"
      },
      "source": [
        "- \\+ 기호: 앞의 문자가 최소 한 개 이상 존재합니다. (문자가 1개 이상)"
      ]
    },
    {
      "cell_type": "code",
      "metadata": {
        "id": "4GuwlWERfpxi"
      },
      "source": [
        "r = re.compile('ab+c')\n",
        "r.search('ac') "
      ],
      "execution_count": 13,
      "outputs": []
    },
    {
      "cell_type": "code",
      "metadata": {
        "colab": {
          "base_uri": "https://localhost:8080/"
        },
        "id": "y9O4rEevyVr8",
        "outputId": "6baa5c3d-7d86-48f4-fa20-c15a6a6ac6bf"
      },
      "source": [
        "r.search('abbbbbc')"
      ],
      "execution_count": 14,
      "outputs": [
        {
          "output_type": "execute_result",
          "data": {
            "text/plain": [
              "<re.Match object; span=(0, 7), match='abbbbbc'>"
            ]
          },
          "metadata": {},
          "execution_count": 14
        }
      ]
    },
    {
      "cell_type": "markdown",
      "metadata": {
        "id": "WRZRNaqSyaOX"
      },
      "source": [
        "- ^기호: 뒤의 문자로 문자열이 시작됩니다"
      ]
    },
    {
      "cell_type": "code",
      "metadata": {
        "id": "4dmbp_qgyYD4"
      },
      "source": [
        "import re\n",
        "r=re.compile(\"^a\")\n",
        "r.search(\"bbc\") # 아무런 결과도 출력되지 않는다."
      ],
      "execution_count": 28,
      "outputs": []
    },
    {
      "cell_type": "code",
      "metadata": {
        "colab": {
          "base_uri": "https://localhost:8080/"
        },
        "id": "xodYCwWQykrd",
        "outputId": "c4e8b647-b822-4286-80d2-0a37c98c1143"
      },
      "source": [
        "r.search(\"ab\")"
      ],
      "execution_count": 29,
      "outputs": [
        {
          "output_type": "execute_result",
          "data": {
            "text/plain": [
              "<re.Match object; span=(0, 1), match='a'>"
            ]
          },
          "metadata": {},
          "execution_count": 29
        }
      ]
    },
    {
      "cell_type": "markdown",
      "metadata": {
        "id": "wB7zm3svyt7Y"
      },
      "source": [
        "- {숫자} 기호 : 숫자만큼 반복합니다."
      ]
    },
    {
      "cell_type": "code",
      "metadata": {
        "id": "vW90SLRdys3r"
      },
      "source": [
        "r = re.compile('ab{2}c')\n",
        "r.search('ac')\n",
        "r.search('abc')"
      ],
      "execution_count": 17,
      "outputs": []
    },
    {
      "cell_type": "code",
      "metadata": {
        "colab": {
          "base_uri": "https://localhost:8080/"
        },
        "id": "P9NzQy4iy4br",
        "outputId": "5a97ecda-0de1-4a39-ac06-d2a1a875b5d8"
      },
      "source": [
        "r.search('abbc')"
      ],
      "execution_count": 18,
      "outputs": [
        {
          "output_type": "execute_result",
          "data": {
            "text/plain": [
              "<re.Match object; span=(0, 4), match='abbc'>"
            ]
          },
          "metadata": {},
          "execution_count": 18
        }
      ]
    },
    {
      "cell_type": "markdown",
      "metadata": {
        "id": "krZMKuYZy6Um"
      },
      "source": [
        "- {숫자1, 숫자2} 기호 : 숫자1 이상 숫자2 이하만큼 반복합니다. ?, *, +를 이것으로 대체할 수 있습니다."
      ]
    },
    {
      "cell_type": "code",
      "metadata": {
        "id": "yWgBd3myy5RM"
      },
      "source": [
        "r = re.compile('ab{2, 8}c')\n",
        "r.search('ac')\n",
        "r.search('abc')"
      ],
      "execution_count": 19,
      "outputs": []
    },
    {
      "cell_type": "code",
      "metadata": {
        "id": "5QsKgnAmzBNY"
      },
      "source": [
        "r.search('abbbbbc')"
      ],
      "execution_count": 20,
      "outputs": []
    },
    {
      "cell_type": "markdown",
      "metadata": {
        "id": "X5ea9aMXzFaB"
      },
      "source": [
        "- \\[ \\]기호 : 대괄호 안의 문자들 중 한 개의 문자와 매치"
      ]
    },
    {
      "cell_type": "code",
      "metadata": {
        "id": "CX7uyyuWzDmS"
      },
      "source": [
        "r = re.compile('[abc]')\n",
        "r.search('zzz')"
      ],
      "execution_count": 21,
      "outputs": []
    },
    {
      "cell_type": "code",
      "metadata": {
        "colab": {
          "base_uri": "https://localhost:8080/"
        },
        "id": "Mme-AQxdzQ26",
        "outputId": "c77eb41d-feb1-43d2-9e09-f7837970b807"
      },
      "source": [
        "r.search('baac')"
      ],
      "execution_count": 22,
      "outputs": [
        {
          "output_type": "execute_result",
          "data": {
            "text/plain": [
              "<re.Match object; span=(0, 1), match='b'>"
            ]
          },
          "metadata": {},
          "execution_count": 22
        }
      ]
    },
    {
      "cell_type": "code",
      "metadata": {
        "id": "FPj5GunwzS0F"
      },
      "source": [
        "# 소문자\n",
        "re.search('[a-z]', 'ABC')"
      ],
      "execution_count": 23,
      "outputs": []
    },
    {
      "cell_type": "code",
      "metadata": {
        "colab": {
          "base_uri": "https://localhost:8080/"
        },
        "id": "uyUGrowhznAb",
        "outputId": "158a773a-d00d-4419-e0c2-a3783971ed63"
      },
      "source": [
        "re.search('[a-z]', 'AbC')"
      ],
      "execution_count": 24,
      "outputs": [
        {
          "output_type": "execute_result",
          "data": {
            "text/plain": [
              "<re.Match object; span=(1, 2), match='b'>"
            ]
          },
          "metadata": {},
          "execution_count": 24
        }
      ]
    },
    {
      "cell_type": "code",
      "metadata": {
        "id": "1AtkEZii0e0U"
      },
      "source": [
        "# 문자 또는 숫자\n",
        "re.search('[0-9A-Za-z]', '$%^%')\n",
        "re.search('\\w', '$%^%')"
      ],
      "execution_count": 34,
      "outputs": []
    },
    {
      "cell_type": "markdown",
      "metadata": {
        "id": "LcmdEaNtz2g-"
      },
      "source": [
        "- \\[^문자\\] 기호 : 해당 문자를 제외한 문자를 매치"
      ]
    },
    {
      "cell_type": "code",
      "metadata": {
        "id": "YB_ZiO2gznrA"
      },
      "source": [
        "import re\n",
        "r=re.compile(\"[^abc]\")\n",
        "r.search(\"a\") # 아무런 결과도 출력되지 않는다.\n",
        "r.search(\"ab\") # 아무런 결과도 출력되지 않는다.\n",
        "r.search(\"b\") # 아무런 결과도 출력되지 않는다."
      ],
      "execution_count": 25,
      "outputs": []
    },
    {
      "cell_type": "code",
      "metadata": {
        "colab": {
          "base_uri": "https://localhost:8080/"
        },
        "id": "1yFXnznH0AA8",
        "outputId": "a9f7b1d7-820f-4de5-fda8-27b0041d79a7"
      },
      "source": [
        "r.search(\"d\")"
      ],
      "execution_count": 26,
      "outputs": [
        {
          "output_type": "execute_result",
          "data": {
            "text/plain": [
              "<re.Match object; span=(0, 1), match='d'>"
            ]
          },
          "metadata": {},
          "execution_count": 26
        }
      ]
    },
    {
      "cell_type": "code",
      "metadata": {
        "colab": {
          "base_uri": "https://localhost:8080/"
        },
        "id": "IuwKBsnG0BRa",
        "outputId": "2edccc02-d44a-4d99-dd8b-51f6f05ed13a"
      },
      "source": [
        "r.search(\"1\")"
      ],
      "execution_count": 27,
      "outputs": [
        {
          "output_type": "execute_result",
          "data": {
            "text/plain": [
              "<re.Match object; span=(0, 1), match='1'>"
            ]
          },
          "metadata": {},
          "execution_count": 27
        }
      ]
    },
    {
      "cell_type": "code",
      "metadata": {
        "colab": {
          "base_uri": "https://localhost:8080/",
          "height": 35
        },
        "id": "G0Wyl6Qd0CdM",
        "outputId": "fbf5d66c-0700-4b12-bbc0-0363f5d8b855"
      },
      "source": [
        "# 한글과 공백을 제외한 모든 문자 제거\n",
        "re.sub('[^ㄱ-ㅎㅏ-ㅣ가-힣 ]', '', '^ 기호 뒤에 붙은 문자.')"
      ],
      "execution_count": 36,
      "outputs": [
        {
          "output_type": "execute_result",
          "data": {
            "application/vnd.google.colaboratory.intrinsic+json": {
              "type": "string"
            },
            "text/plain": [
              "' 기호 뒤에 붙은 문자'"
            ]
          },
          "metadata": {},
          "execution_count": 36
        }
      ]
    },
    {
      "cell_type": "markdown",
      "metadata": {
        "id": "pBnRS2uR1oQg"
      },
      "source": [
        "## 2. re moule func"
      ]
    },
    {
      "cell_type": "code",
      "metadata": {
        "id": "lawL41lv1fu5"
      },
      "source": [
        "re.match(\"ab.\", 'kkkabc')"
      ],
      "execution_count": 39,
      "outputs": []
    },
    {
      "cell_type": "code",
      "metadata": {
        "colab": {
          "base_uri": "https://localhost:8080/"
        },
        "id": "kcc4ruJy1-j3",
        "outputId": "d5745946-ee60-4566-9f22-dc8b9b292b7b"
      },
      "source": [
        "re.search(\"ab.\", 'kkkabc')"
      ],
      "execution_count": 40,
      "outputs": [
        {
          "output_type": "execute_result",
          "data": {
            "text/plain": [
              "<re.Match object; span=(3, 6), match='abc'>"
            ]
          },
          "metadata": {},
          "execution_count": 40
        }
      ]
    },
    {
      "cell_type": "markdown",
      "metadata": {
        "id": "qKfvCWuL2O74"
      },
      "source": [
        "- re.split()"
      ]
    },
    {
      "cell_type": "code",
      "metadata": {
        "colab": {
          "base_uri": "https://localhost:8080/"
        },
        "id": "7_cXWu7k2ACX",
        "outputId": "2cd4ce3a-6642-4b93-9a6a-847de43714b8"
      },
      "source": [
        "text=\"사과 딸기 수박 메론 바나나\"\n",
        "re.split(\" \",text)  "
      ],
      "execution_count": 41,
      "outputs": [
        {
          "output_type": "execute_result",
          "data": {
            "text/plain": [
              "['사과', '딸기', '수박', '메론', '바나나']"
            ]
          },
          "metadata": {},
          "execution_count": 41
        }
      ]
    },
    {
      "cell_type": "code",
      "metadata": {
        "colab": {
          "base_uri": "https://localhost:8080/"
        },
        "id": "KPrkWOw-2ZJW",
        "outputId": "95e2e1ea-cabb-4003-bb08-162d024737ce"
      },
      "source": [
        "text.split()"
      ],
      "execution_count": 42,
      "outputs": [
        {
          "output_type": "execute_result",
          "data": {
            "text/plain": [
              "['사과', '딸기', '수박', '메론', '바나나']"
            ]
          },
          "metadata": {},
          "execution_count": 42
        }
      ]
    },
    {
      "cell_type": "code",
      "metadata": {
        "colab": {
          "base_uri": "https://localhost:8080/"
        },
        "id": "LHR_eo882kWU",
        "outputId": "306af726-7e27-4d11-f60c-6f644b740a77"
      },
      "source": [
        "text=\"\"\"사과\n",
        "딸기\n",
        "수박\n",
        "메론\n",
        "바나나\"\"\"\n",
        "text.split() # default '\\s+'"
      ],
      "execution_count": 43,
      "outputs": [
        {
          "output_type": "execute_result",
          "data": {
            "text/plain": [
              "['사과', '딸기', '수박', '메론', '바나나']"
            ]
          },
          "metadata": {},
          "execution_count": 43
        }
      ]
    },
    {
      "cell_type": "code",
      "metadata": {
        "colab": {
          "base_uri": "https://localhost:8080/"
        },
        "id": "2HR03sMU2z9t",
        "outputId": "cf132e97-cdfe-4f46-861b-a2d288f765a1"
      },
      "source": [
        "re.split('\\s+', text)"
      ],
      "execution_count": 44,
      "outputs": [
        {
          "output_type": "execute_result",
          "data": {
            "text/plain": [
              "['사과', '딸기', '수박', '메론', '바나나']"
            ]
          },
          "metadata": {},
          "execution_count": 44
        }
      ]
    },
    {
      "cell_type": "markdown",
      "metadata": {
        "id": "EmgEn_UO3CUl"
      },
      "source": [
        "- re.findall()"
      ]
    },
    {
      "cell_type": "code",
      "metadata": {
        "colab": {
          "base_uri": "https://localhost:8080/"
        },
        "id": "TZc2eO62269W",
        "outputId": "19ba175a-952c-4b8c-cf6e-efb15f888f80"
      },
      "source": [
        "text=\"\"\"이름 : 김철수\n",
        "전화번호 : 010 - 1234 - 1234\n",
        "나이 : 30\n",
        "성별 : 남\"\"\"  \n",
        "re.findall(\"\\d+\",text)"
      ],
      "execution_count": 45,
      "outputs": [
        {
          "output_type": "execute_result",
          "data": {
            "text/plain": [
              "['010', '1234', '1234', '30']"
            ]
          },
          "metadata": {},
          "execution_count": 45
        }
      ]
    },
    {
      "cell_type": "code",
      "metadata": {
        "colab": {
          "base_uri": "https://localhost:8080/"
        },
        "id": "LARFHNR53JBH",
        "outputId": "dfbfbb2e-91fa-4f43-fa37-8fefa165ce07"
      },
      "source": [
        "re.findall(\"\\d+\",'김철수')"
      ],
      "execution_count": 46,
      "outputs": [
        {
          "output_type": "execute_result",
          "data": {
            "text/plain": [
              "[]"
            ]
          },
          "metadata": {},
          "execution_count": 46
        }
      ]
    },
    {
      "cell_type": "markdown",
      "metadata": {
        "id": "3S6rODM63kAE"
      },
      "source": [
        "- re.sub()"
      ]
    },
    {
      "cell_type": "code",
      "metadata": {
        "colab": {
          "base_uri": "https://localhost:8080/",
          "height": 54
        },
        "id": "Ie83MgUn3jMD",
        "outputId": "52804258-6872-4c35-ffd9-a7c4a778a179"
      },
      "source": [
        "text=\"Regular expression : A regular expression, regex or regexp[1] (sometimes called a rational expression)[2][3] is, in theoretical computer science and formal language theory, a sequence of characters that define a search pattern.\"\n",
        "re.sub('[^a-zA-Z]',' ',text)"
      ],
      "execution_count": 47,
      "outputs": [
        {
          "output_type": "execute_result",
          "data": {
            "application/vnd.google.colaboratory.intrinsic+json": {
              "type": "string"
            },
            "text/plain": [
              "'Regular expression   A regular expression  regex or regexp     sometimes called a rational expression        is  in theoretical computer science and formal language theory  a sequence of characters that define a search pattern '"
            ]
          },
          "metadata": {},
          "execution_count": 47
        }
      ]
    },
    {
      "cell_type": "markdown",
      "metadata": {
        "id": "ylRiTi6238TH"
      },
      "source": [
        "### 3. regular expression text preprocessing ex"
      ]
    },
    {
      "cell_type": "code",
      "metadata": {
        "colab": {
          "base_uri": "https://localhost:8080/"
        },
        "id": "_4oaln-Q3q2f",
        "outputId": "220179c4-4877-4b10-a465-aba49d463ca2"
      },
      "source": [
        "text = \"\"\"100 John    PROF\n",
        "101 James   STUD\n",
        "102 Mac   STUD\"\"\"  \n",
        "\n",
        "re.split('\\s+', text)  "
      ],
      "execution_count": 48,
      "outputs": [
        {
          "output_type": "execute_result",
          "data": {
            "text/plain": [
              "['100', 'John', 'PROF', '101', 'James', 'STUD', '102', 'Mac', 'STUD']"
            ]
          },
          "metadata": {},
          "execution_count": 48
        }
      ]
    },
    {
      "cell_type": "code",
      "metadata": {
        "colab": {
          "base_uri": "https://localhost:8080/"
        },
        "id": "enaTI_JX4FFh",
        "outputId": "42212e90-21a4-425f-8648-ffbb482f13a6"
      },
      "source": [
        "re.findall('\\d+', text)"
      ],
      "execution_count": 49,
      "outputs": [
        {
          "output_type": "execute_result",
          "data": {
            "text/plain": [
              "['100', '101', '102']"
            ]
          },
          "metadata": {},
          "execution_count": 49
        }
      ]
    },
    {
      "cell_type": "code",
      "metadata": {
        "colab": {
          "base_uri": "https://localhost:8080/"
        },
        "id": "kvDdlO7y4QAf",
        "outputId": "5e85fcfd-c9cd-4bd3-f694-7921acae09b1"
      },
      "source": [
        "re.findall('[A-Z]+', text)"
      ],
      "execution_count": 51,
      "outputs": [
        {
          "output_type": "execute_result",
          "data": {
            "text/plain": [
              "['J', 'PROF', 'J', 'STUD', 'M', 'STUD']"
            ]
          },
          "metadata": {},
          "execution_count": 51
        }
      ]
    },
    {
      "cell_type": "code",
      "metadata": {
        "colab": {
          "base_uri": "https://localhost:8080/"
        },
        "id": "Kajlt9wi4d4x",
        "outputId": "b821426a-ca1f-4e23-a40c-84a7223ec882"
      },
      "source": [
        "re.findall('[A-Z]{4}', text)"
      ],
      "execution_count": 52,
      "outputs": [
        {
          "output_type": "execute_result",
          "data": {
            "text/plain": [
              "['PROF', 'STUD', 'STUD']"
            ]
          },
          "metadata": {},
          "execution_count": 52
        }
      ]
    },
    {
      "cell_type": "code",
      "metadata": {
        "colab": {
          "base_uri": "https://localhost:8080/"
        },
        "id": "-Cxsg2wR4sfF",
        "outputId": "4c82d26b-baf2-45ed-8db1-cd02da3670dd"
      },
      "source": [
        "re.findall('[A-Z][a-z]+', text)"
      ],
      "execution_count": 55,
      "outputs": [
        {
          "output_type": "execute_result",
          "data": {
            "text/plain": [
              "['John', 'James', 'Mac']"
            ]
          },
          "metadata": {},
          "execution_count": 55
        }
      ]
    },
    {
      "cell_type": "markdown",
      "metadata": {
        "id": "LHU8sTIz6TAd"
      },
      "source": [
        "## 4. POSIX regular expression"
      ]
    },
    {
      "cell_type": "code",
      "metadata": {
        "colab": {
          "base_uri": "https://localhost:8080/"
        },
        "id": "tp49-Cmn5E5T",
        "outputId": "b3be6be8-0059-44bc-ddcd-c24832837b46"
      },
      "source": [
        "re.findall('[:alpha:]', '1 b C')"
      ],
      "execution_count": 57,
      "outputs": [
        {
          "output_type": "execute_result",
          "data": {
            "text/plain": [
              "[]"
            ]
          },
          "metadata": {},
          "execution_count": 57
        }
      ]
    }
  ]
}