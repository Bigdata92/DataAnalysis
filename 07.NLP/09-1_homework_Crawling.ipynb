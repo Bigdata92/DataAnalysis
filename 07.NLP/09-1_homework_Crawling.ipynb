{
 "cells": [
  {
   "cell_type": "code",
   "execution_count": 1,
   "source": [
    "from selenium import webdriver\r\n",
    "from bs4 import BeautifulSoup\r\n",
    "import time\r\n",
    "import pandas as pd\r\n",
    "from urllib.parse import quote"
   ],
   "outputs": [],
   "metadata": {}
  },
  {
   "cell_type": "code",
   "execution_count": 2,
   "source": [
    "chromedriver = 'C:\\\\Workspace\\\\02.DataAnalysis\\\\05.Crawling&Web\\\\chromedriver.exe'\r\n",
    "driver = webdriver.Chrome(chromedriver)\r\n"
   ],
   "outputs": [],
   "metadata": {}
  },
  {
   "cell_type": "code",
   "execution_count": 3,
   "source": [
    "base_url = 'https://search.naver.com/search.naver?where=view&sm=tab_jum&query='\r\n",
    "url = base_url + quote('게임')"
   ],
   "outputs": [],
   "metadata": {}
  },
  {
   "cell_type": "code",
   "execution_count": 4,
   "source": [
    "driver.get(url)"
   ],
   "outputs": [],
   "metadata": {}
  },
  {
   "cell_type": "code",
   "execution_count": 7,
   "source": [
    "# Paging down blog and Collecting multiple data\r\n",
    "from selenium.webdriver.common.keys import Keys\r\n",
    "\r\n",
    "body = driver.find_element_by_tag_name('body')\r\n",
    "for i in range(20):\r\n",
    "    body.send_keys(Keys.PAGE_DOWN)\r\n",
    "    time.sleep(1)"
   ],
   "outputs": [],
   "metadata": {}
  },
  {
   "cell_type": "code",
   "execution_count": 8,
   "source": [
    "html = driver.page_source\r\n",
    "soup = BeautifulSoup(html, 'html.parser')"
   ],
   "outputs": [],
   "metadata": {}
  },
  {
   "cell_type": "code",
   "execution_count": 9,
   "source": [
    "lis = soup.select('li.bx._svp_item')\r\n",
    "len(lis)"
   ],
   "outputs": [
    {
     "output_type": "execute_result",
     "data": {
      "text/plain": [
       "45"
      ]
     },
     "metadata": {},
     "execution_count": 9
    }
   ],
   "metadata": {}
  },
  {
   "cell_type": "code",
   "execution_count": 15,
   "source": [
    "li = lis[0]\r\n",
    "title = li.select_one('a.api_txt_lines.total_tit._cross_trigger').get_text()\r\n",
    "content = li.select_one('div.api_txt_lines.dsc_txt').get_text()\r\n",
    "date = li.select_one('span.sub_time.sub_txt').get_text()\r\n",
    "title, date, content"
   ],
   "outputs": [
    {
     "output_type": "execute_result",
     "data": {
      "text/plain": [
       "(\"엘's 디아블로2 레저렉션 게임 리뷰\",\n",
       " '2021.08.14.',\n",
       " '전체적인 게임 리뷰로 진행을 해보려고 한다 확실히 깔끔해진 그래픽!! 더 무서운 느낌! 우선 그래픽부터... 굿굿 게임이 리마스터 된 개념이니만큼 게임성은 달라진 점은 없었다. 스탯 찍는 것도 그대로!! 와 이것 때문에...')"
      ]
     },
     "metadata": {},
     "execution_count": 15
    }
   ],
   "metadata": {}
  },
  {
   "cell_type": "code",
   "execution_count": 18,
   "source": [
    "title_list, content_list, date_list = [], [], []\r\n",
    "# for i, li in enumerate(lis):\r\n",
    "#     try:\r\n",
    "#         adv = li.select_one('a.link_ad').get_text()\r\n",
    "#         if adv.strip() == '광고':\r\n",
    "#             continue\r\n",
    "#     except:\r\n",
    "#         title = li.select_one('a.api_txt_lines.total_tit._cross_trigger').get_text()\r\n",
    "#         content = li.select_one('div.api_txt_lines.dsc_txt').get_text()\r\n",
    "#         date = li.select_one('sub_time.sub_txt').get_text()\r\n",
    "\r\n",
    "#         title_list.append(title)\r\n",
    "#         content_list.append(content)\r\n",
    "#         date_list.append(date)\r\n",
    "#         # print(i)\r\n",
    "\r\n",
    "for i, li in enumerate(lis):\r\n",
    "    title = li.select_one('a.api_txt_lines.total_tit._cross_trigger').get_text()\r\n",
    "    content = li.select_one('div.api_txt_lines.dsc_txt').get_text()\r\n",
    "    date = li.select_one('span.sub_time.sub_txt').get_text()\r\n",
    "\r\n",
    "    title_list.append(title)\r\n",
    "    content_list.append(content)\r\n",
    "    date_list.append(date)"
   ],
   "outputs": [],
   "metadata": {}
  },
  {
   "cell_type": "code",
   "execution_count": 19,
   "source": [
    "df = pd.DataFrame({\r\n",
    "    'title':title_list,\r\n",
    "    'date':date_list,\r\n",
    "    'content':content_list\r\n",
    "})\r\n",
    "df.head()"
   ],
   "outputs": [
    {
     "output_type": "execute_result",
     "data": {
      "text/plain": [
       "                                        title         date  \\\n",
       "0                        엘's 디아블로2 레저렉션 게임 리뷰  2021.08.14.   \n",
       "1        엔씨소프트 대작게임 사전예약! 신작MMORPG 리니지W 미리보기!         6일 전   \n",
       "2         모바일게임 프렌즈샷 누구나골프 보석 얻는법 공략 & 스폰서 계약        1시간 전   \n",
       "3               프렌즈샷 누구나골프 손맛이 괜찮은 게임 보석 모으는법       20시간 전   \n",
       "4  마블 퓨처 레볼루션 모바일게임 인기순위 1위 달성, 29일 미래혁명 대격돌!         3일 전   \n",
       "\n",
       "                                             content  \n",
       "0  전체적인 게임 리뷰로 진행을 해보려고 한다 확실히 깔끔해진 그래픽!! 더 무서운 느...  \n",
       "1  엔씨소프트의 새로운 대작 게임이 발표되었다. 마지막이라는 마음가짐으로 모든 것을 쏟...  \n",
       "2  국내에 괜찮은 골프 모바이게임이 없었는데 최근 카카오에서 프렌즈샷 누구나골프를 출시...  \n",
       "3  카카오게임즈 신작 모바일게임 프렌즈샷 누구나골프가 정식 출시했다. 이 게임을 한 마...  \n",
       "4  국내에서는 런칭 당일 국내 구글 플레이와 앱스토어 양대 마켓에서 모바일게임 인기순위...  "
      ],
      "text/html": [
       "<div>\n",
       "<style scoped>\n",
       "    .dataframe tbody tr th:only-of-type {\n",
       "        vertical-align: middle;\n",
       "    }\n",
       "\n",
       "    .dataframe tbody tr th {\n",
       "        vertical-align: top;\n",
       "    }\n",
       "\n",
       "    .dataframe thead th {\n",
       "        text-align: right;\n",
       "    }\n",
       "</style>\n",
       "<table border=\"1\" class=\"dataframe\">\n",
       "  <thead>\n",
       "    <tr style=\"text-align: right;\">\n",
       "      <th></th>\n",
       "      <th>title</th>\n",
       "      <th>date</th>\n",
       "      <th>content</th>\n",
       "    </tr>\n",
       "  </thead>\n",
       "  <tbody>\n",
       "    <tr>\n",
       "      <th>0</th>\n",
       "      <td>엘's 디아블로2 레저렉션 게임 리뷰</td>\n",
       "      <td>2021.08.14.</td>\n",
       "      <td>전체적인 게임 리뷰로 진행을 해보려고 한다 확실히 깔끔해진 그래픽!! 더 무서운 느...</td>\n",
       "    </tr>\n",
       "    <tr>\n",
       "      <th>1</th>\n",
       "      <td>엔씨소프트 대작게임 사전예약! 신작MMORPG 리니지W 미리보기!</td>\n",
       "      <td>6일 전</td>\n",
       "      <td>엔씨소프트의 새로운 대작 게임이 발표되었다. 마지막이라는 마음가짐으로 모든 것을 쏟...</td>\n",
       "    </tr>\n",
       "    <tr>\n",
       "      <th>2</th>\n",
       "      <td>모바일게임 프렌즈샷 누구나골프 보석 얻는법 공략 &amp; 스폰서 계약</td>\n",
       "      <td>1시간 전</td>\n",
       "      <td>국내에 괜찮은 골프 모바이게임이 없었는데 최근 카카오에서 프렌즈샷 누구나골프를 출시...</td>\n",
       "    </tr>\n",
       "    <tr>\n",
       "      <th>3</th>\n",
       "      <td>프렌즈샷 누구나골프 손맛이 괜찮은 게임 보석 모으는법</td>\n",
       "      <td>20시간 전</td>\n",
       "      <td>카카오게임즈 신작 모바일게임 프렌즈샷 누구나골프가 정식 출시했다. 이 게임을 한 마...</td>\n",
       "    </tr>\n",
       "    <tr>\n",
       "      <th>4</th>\n",
       "      <td>마블 퓨처 레볼루션 모바일게임 인기순위 1위 달성, 29일 미래혁명 대격돌!</td>\n",
       "      <td>3일 전</td>\n",
       "      <td>국내에서는 런칭 당일 국내 구글 플레이와 앱스토어 양대 마켓에서 모바일게임 인기순위...</td>\n",
       "    </tr>\n",
       "  </tbody>\n",
       "</table>\n",
       "</div>"
      ]
     },
     "metadata": {},
     "execution_count": 19
    }
   ],
   "metadata": {}
  },
  {
   "cell_type": "code",
   "execution_count": 20,
   "source": [
    "df.shape"
   ],
   "outputs": [
    {
     "output_type": "execute_result",
     "data": {
      "text/plain": [
       "(45, 3)"
      ]
     },
     "metadata": {},
     "execution_count": 20
    }
   ],
   "metadata": {}
  },
  {
   "cell_type": "code",
   "execution_count": 21,
   "source": [
    "df.to_csv('data/game.txt')"
   ],
   "outputs": [],
   "metadata": {}
  },
  {
   "cell_type": "code",
   "execution_count": 22,
   "source": [
    "driver.close()"
   ],
   "outputs": [],
   "metadata": {}
  },
  {
   "cell_type": "code",
   "execution_count": null,
   "source": [],
   "outputs": [],
   "metadata": {}
  }
 ],
 "metadata": {
  "orig_nbformat": 4,
  "language_info": {
   "name": "python",
   "version": "3.8.10",
   "mimetype": "text/x-python",
   "codemirror_mode": {
    "name": "ipython",
    "version": 3
   },
   "pygments_lexer": "ipython3",
   "nbconvert_exporter": "python",
   "file_extension": ".py"
  },
  "kernelspec": {
   "name": "python3",
   "display_name": "Python 3.8.10 64-bit ('base': conda)"
  },
  "interpreter": {
   "hash": "1d4a37089763eedf05167b4d91032ae33ee46c4649b3ca79aee62ee7dedd33dd"
  }
 },
 "nbformat": 4,
 "nbformat_minor": 2
}