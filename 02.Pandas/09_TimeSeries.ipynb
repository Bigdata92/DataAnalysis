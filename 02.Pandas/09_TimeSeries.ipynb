{
  "nbformat": 4,
  "nbformat_minor": 0,
  "metadata": {
    "colab": {
      "name": "09_TimeSeries.ipynb",
      "provenance": [],
      "collapsed_sections": []
    },
    "kernelspec": {
      "name": "python3",
      "display_name": "Python 3"
    },
    "language_info": {
      "name": "python"
    }
  },
  "cells": [
    {
      "cell_type": "markdown",
      "metadata": {
        "id": "hpuoPuhR3x10"
      },
      "source": [
        "# Handle TimeSeries data"
      ]
    },
    {
      "cell_type": "code",
      "metadata": {
        "id": "3j4G3Qiq3sP5"
      },
      "source": [
        "import numpy as np\n",
        "import pandas as pd"
      ],
      "execution_count": 1,
      "outputs": []
    },
    {
      "cell_type": "markdown",
      "metadata": {
        "id": "8L6ciYbo33-1"
      },
      "source": [
        "### DatetimeIndex "
      ]
    },
    {
      "cell_type": "code",
      "metadata": {
        "colab": {
          "base_uri": "https://localhost:8080/"
        },
        "id": "Z-4yQ0Av33FW",
        "outputId": "8297b8e7-be19-4724-e292-2e6ac47ca5b8"
      },
      "source": [
        "date_str = [\"2021, 8, 10\", \"2021-8-11\", \"20210812\", \"2021.8.13\", \"081421\", '15/8/21']\n",
        "idx = pd.to_datetime(date_str)\n",
        "idx"
      ],
      "execution_count": 9,
      "outputs": [
        {
          "output_type": "execute_result",
          "data": {
            "text/plain": [
              "DatetimeIndex(['2021-08-10', '2021-08-11', '2021-08-12', '2021-08-13',\n",
              "               '2021-08-14', '2021-08-15'],\n",
              "              dtype='datetime64[ns]', freq=None)"
            ]
          },
          "metadata": {
            "tags": []
          },
          "execution_count": 9
        }
      ]
    },
    {
      "cell_type": "code",
      "metadata": {
        "colab": {
          "base_uri": "https://localhost:8080/"
        },
        "id": "LfTtD8O64wCg",
        "outputId": "d0e4c722-3f19-4f70-bc94-4ad167ca337a"
      },
      "source": [
        "np.random.seed(2021)\n",
        "s = pd.Series(np.random.randn(6), index=idx)\n",
        "s"
      ],
      "execution_count": 10,
      "outputs": [
        {
          "output_type": "execute_result",
          "data": {
            "text/plain": [
              "2021-08-10    1.488609\n",
              "2021-08-11    0.676011\n",
              "2021-08-12   -0.418451\n",
              "2021-08-13   -0.806521\n",
              "2021-08-14    0.555876\n",
              "2021-08-15   -0.705504\n",
              "dtype: float64"
            ]
          },
          "metadata": {
            "tags": []
          },
          "execution_count": 10
        }
      ]
    },
    {
      "cell_type": "code",
      "metadata": {
        "colab": {
          "base_uri": "https://localhost:8080/"
        },
        "id": "UDT8SYzb53Yy",
        "outputId": "e6f671f0-36a9-4dba-b429-2b5e43c9ffe7"
      },
      "source": [
        "pd.date_range('20210801', '2021-8-31')"
      ],
      "execution_count": 8,
      "outputs": [
        {
          "output_type": "execute_result",
          "data": {
            "text/plain": [
              "DatetimeIndex(['2021-08-01', '2021-08-02', '2021-08-03', '2021-08-04',\n",
              "               '2021-08-05', '2021-08-06', '2021-08-07', '2021-08-08',\n",
              "               '2021-08-09', '2021-08-10', '2021-08-11', '2021-08-12',\n",
              "               '2021-08-13', '2021-08-14', '2021-08-15', '2021-08-16',\n",
              "               '2021-08-17', '2021-08-18', '2021-08-19', '2021-08-20',\n",
              "               '2021-08-21', '2021-08-22', '2021-08-23', '2021-08-24',\n",
              "               '2021-08-25', '2021-08-26', '2021-08-27', '2021-08-28',\n",
              "               '2021-08-29', '2021-08-30', '2021-08-31'],\n",
              "              dtype='datetime64[ns]', freq='D')"
            ]
          },
          "metadata": {
            "tags": []
          },
          "execution_count": 8
        }
      ]
    },
    {
      "cell_type": "code",
      "metadata": {
        "colab": {
          "base_uri": "https://localhost:8080/"
        },
        "id": "7gSqoeWM6CKX",
        "outputId": "f2a94739-b8b1-4395-9842-b7e4e99a4745"
      },
      "source": [
        "# day unit\n",
        "pd.date_range('20210801', periods=31)"
      ],
      "execution_count": 11,
      "outputs": [
        {
          "output_type": "execute_result",
          "data": {
            "text/plain": [
              "DatetimeIndex(['2021-08-01', '2021-08-02', '2021-08-03', '2021-08-04',\n",
              "               '2021-08-05', '2021-08-06', '2021-08-07', '2021-08-08',\n",
              "               '2021-08-09', '2021-08-10', '2021-08-11', '2021-08-12',\n",
              "               '2021-08-13', '2021-08-14', '2021-08-15', '2021-08-16',\n",
              "               '2021-08-17', '2021-08-18', '2021-08-19', '2021-08-20',\n",
              "               '2021-08-21', '2021-08-22', '2021-08-23', '2021-08-24',\n",
              "               '2021-08-25', '2021-08-26', '2021-08-27', '2021-08-28',\n",
              "               '2021-08-29', '2021-08-30', '2021-08-31'],\n",
              "              dtype='datetime64[ns]', freq='D')"
            ]
          },
          "metadata": {
            "tags": []
          },
          "execution_count": 11
        }
      ]
    },
    {
      "cell_type": "code",
      "metadata": {
        "colab": {
          "base_uri": "https://localhost:8080/"
        },
        "id": "Lucpvv6Z6Qvf",
        "outputId": "d4269772-dbfd-4927-a813-7daf98e1ba9a"
      },
      "source": [
        "# Biz-day\n",
        "pd.date_range('20210801', periods=22, freq='B')"
      ],
      "execution_count": 13,
      "outputs": [
        {
          "output_type": "execute_result",
          "data": {
            "text/plain": [
              "DatetimeIndex(['2021-08-02', '2021-08-03', '2021-08-04', '2021-08-05',\n",
              "               '2021-08-06', '2021-08-09', '2021-08-10', '2021-08-11',\n",
              "               '2021-08-12', '2021-08-13', '2021-08-16', '2021-08-17',\n",
              "               '2021-08-18', '2021-08-19', '2021-08-20', '2021-08-23',\n",
              "               '2021-08-24', '2021-08-25', '2021-08-26', '2021-08-27',\n",
              "               '2021-08-30', '2021-08-31'],\n",
              "              dtype='datetime64[ns]', freq='B')"
            ]
          },
          "metadata": {
            "tags": []
          },
          "execution_count": 13
        }
      ]
    },
    {
      "cell_type": "code",
      "metadata": {
        "colab": {
          "base_uri": "https://localhost:8080/"
        },
        "id": "Kmu6scfg9dKL",
        "outputId": "008c2000-61c3-4cc9-8d52-52ea12f5e042"
      },
      "source": [
        "# Sunday\n",
        "pd.date_range('20210801', '20210831', freq='W')"
      ],
      "execution_count": 14,
      "outputs": [
        {
          "output_type": "execute_result",
          "data": {
            "text/plain": [
              "DatetimeIndex(['2021-08-01', '2021-08-08', '2021-08-15', '2021-08-22',\n",
              "               '2021-08-29'],\n",
              "              dtype='datetime64[ns]', freq='W-SUN')"
            ]
          },
          "metadata": {
            "tags": []
          },
          "execution_count": 14
        }
      ]
    },
    {
      "cell_type": "markdown",
      "metadata": {
        "id": "Ryzs0805-c1H"
      },
      "source": [
        "### resample operation"
      ]
    },
    {
      "cell_type": "code",
      "metadata": {
        "colab": {
          "base_uri": "https://localhost:8080/"
        },
        "id": "XdiNig0Q-B3J",
        "outputId": "f2ad29f0-0148-46a4-9ad1-335adcf76582"
      },
      "source": [
        "ts = pd.Series(np.random.randn(100), index=pd.date_range(\n",
        "    \"2021-1-1\", periods=100, freq=\"D\"))\n",
        "ts.tail(20)"
      ],
      "execution_count": 16,
      "outputs": [
        {
          "output_type": "execute_result",
          "data": {
            "text/plain": [
              "2021-03-22    0.684467\n",
              "2021-03-23   -1.346683\n",
              "2021-03-24   -0.977484\n",
              "2021-03-25   -1.514921\n",
              "2021-03-26   -1.071030\n",
              "2021-03-27    0.353427\n",
              "2021-03-28   -0.827718\n",
              "2021-03-29   -1.496504\n",
              "2021-03-30   -1.517695\n",
              "2021-03-31   -1.037998\n",
              "2021-04-01    0.662567\n",
              "2021-04-02   -0.624228\n",
              "2021-04-03   -0.643762\n",
              "2021-04-04   -0.686254\n",
              "2021-04-05    0.441222\n",
              "2021-04-06    0.855880\n",
              "2021-04-07    0.147717\n",
              "2021-04-08   -1.594633\n",
              "2021-04-09    2.636894\n",
              "2021-04-10   -0.716528\n",
              "Freq: D, dtype: float64"
            ]
          },
          "metadata": {
            "tags": []
          },
          "execution_count": 16
        }
      ]
    },
    {
      "cell_type": "code",
      "metadata": {
        "colab": {
          "base_uri": "https://localhost:8080/"
        },
        "id": "HEvrogNX-i4t",
        "outputId": "3fd5d95b-3fe5-4011-8173-2c477d87d9dc"
      },
      "source": [
        "ts.resample('W').sum()"
      ],
      "execution_count": 17,
      "outputs": [
        {
          "output_type": "execute_result",
          "data": {
            "text/plain": [
              "2021-01-03    0.812279\n",
              "2021-01-10   -1.076052\n",
              "2021-01-17    2.881679\n",
              "2021-01-24    2.060777\n",
              "2021-01-31    3.531142\n",
              "2021-02-07    2.868890\n",
              "2021-02-14    1.290510\n",
              "2021-02-21   -0.462595\n",
              "2021-02-28   -2.849328\n",
              "2021-03-07    3.296231\n",
              "2021-03-14    0.548376\n",
              "2021-03-21   -0.942030\n",
              "2021-03-28   -4.699942\n",
              "2021-04-04   -5.343875\n",
              "2021-04-11    1.770552\n",
              "Freq: W-SUN, dtype: float64"
            ]
          },
          "metadata": {
            "tags": []
          },
          "execution_count": 17
        }
      ]
    },
    {
      "cell_type": "code",
      "metadata": {
        "colab": {
          "base_uri": "https://localhost:8080/"
        },
        "id": "UoYGuCCe_Qaf",
        "outputId": "785a6b66-7e25-4a94-de28-f3f2fa517be9"
      },
      "source": [
        "ts.resample('M').first()"
      ],
      "execution_count": 19,
      "outputs": [
        {
          "output_type": "execute_result",
          "data": {
            "text/plain": [
              "2021-01-31   -0.435382\n",
              "2021-02-28    1.900322\n",
              "2021-03-31    1.425841\n",
              "2021-04-30    0.662567\n",
              "Freq: M, dtype: float64"
            ]
          },
          "metadata": {
            "tags": []
          },
          "execution_count": 19
        }
      ]
    },
    {
      "cell_type": "code",
      "metadata": {
        "id": "lPJOsq2e_XUq"
      },
      "source": [
        ""
      ],
      "execution_count": null,
      "outputs": []
    }
  ]
}