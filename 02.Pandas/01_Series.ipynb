{
  "nbformat": 4,
  "nbformat_minor": 0,
  "metadata": {
    "colab": {
      "name": "01_Series.ipynb",
      "provenance": []
    },
    "kernelspec": {
      "name": "python3",
      "display_name": "Python 3"
    },
    "language_info": {
      "name": "python"
    }
  },
  "cells": [
    {
      "cell_type": "markdown",
      "metadata": {
        "id": "fI8m7YqNrFc-"
      },
      "source": [
        "# Pandas - Series"
      ]
    },
    {
      "cell_type": "code",
      "metadata": {
        "id": "_Aul6z8-rBvu"
      },
      "source": [
        "import numpy as np\n",
        "import pandas as pd"
      ],
      "execution_count": 18,
      "outputs": []
    },
    {
      "cell_type": "markdown",
      "metadata": {
        "id": "5a8_dmU_rb9W"
      },
      "source": [
        "## Create Series"
      ]
    },
    {
      "cell_type": "code",
      "metadata": {
        "colab": {
          "base_uri": "https://localhost:8080/"
        },
        "id": "5tUhFmIRratp",
        "outputId": "25aba2ac-de57-4bf3-ec16-47bf87973800"
      },
      "source": [
        "s = pd.Series([123231,223232,3232323,4232324])\n",
        "s"
      ],
      "execution_count": 11,
      "outputs": [
        {
          "output_type": "execute_result",
          "data": {
            "text/plain": [
              "0     123231\n",
              "1     223232\n",
              "2    3232323\n",
              "3    4232324\n",
              "dtype: int64"
            ]
          },
          "metadata": {
            "tags": []
          },
          "execution_count": 11
        }
      ]
    },
    {
      "cell_type": "code",
      "metadata": {
        "colab": {
          "base_uri": "https://localhost:8080/"
        },
        "id": "yEpBsLewrYtP",
        "outputId": "10d2709d-3086-4236-9d68-a55defddd5c6"
      },
      "source": [
        "s = pd.Series([123231,223232,3232323,4232324],\n",
        "              index=['서울','부산','인천','대구'], dtype=np.int32)\n",
        "s"
      ],
      "execution_count": 19,
      "outputs": [
        {
          "output_type": "execute_result",
          "data": {
            "text/plain": [
              "서울     123231\n",
              "부산     223232\n",
              "인천    3232323\n",
              "대구    4232324\n",
              "dtype: int32"
            ]
          },
          "metadata": {
            "tags": []
          },
          "execution_count": 19
        }
      ]
    },
    {
      "cell_type": "code",
      "metadata": {
        "colab": {
          "base_uri": "https://localhost:8080/"
        },
        "id": "rVnknwvBxAn8",
        "outputId": "27ba360e-64ce-4d20-c400-17f7b2df41b7"
      },
      "source": [
        "# val of Series : numpy array \n",
        "s.values"
      ],
      "execution_count": 20,
      "outputs": [
        {
          "output_type": "execute_result",
          "data": {
            "text/plain": [
              "array([ 123231,  223232, 3232323, 4232324], dtype=int32)"
            ]
          },
          "metadata": {
            "tags": []
          },
          "execution_count": 20
        }
      ]
    },
    {
      "cell_type": "code",
      "metadata": {
        "colab": {
          "base_uri": "https://localhost:8080/"
        },
        "id": "eCCZ5P2Dxdd1",
        "outputId": "579e192d-ba8d-4ccb-e58b-35c0c2b26a0e"
      },
      "source": [
        "# index of Series \n",
        "s.index"
      ],
      "execution_count": 21,
      "outputs": [
        {
          "output_type": "execute_result",
          "data": {
            "text/plain": [
              "Index(['서울', '부산', '인천', '대구'], dtype='object')"
            ]
          },
          "metadata": {
            "tags": []
          },
          "execution_count": 21
        }
      ]
    },
    {
      "cell_type": "code",
      "metadata": {
        "colab": {
          "base_uri": "https://localhost:8080/"
        },
        "id": "KBrH9HUPxp7E",
        "outputId": "6e0588bc-253a-4db0-c764-da83742062da"
      },
      "source": [
        "s.name = '인구'\n",
        "s.index.name = '도시'\n",
        "s"
      ],
      "execution_count": 22,
      "outputs": [
        {
          "output_type": "execute_result",
          "data": {
            "text/plain": [
              "도시\n",
              "서울     123231\n",
              "부산     223232\n",
              "인천    3232323\n",
              "대구    4232324\n",
              "Name: 인구, dtype: int32"
            ]
          },
          "metadata": {
            "tags": []
          },
          "execution_count": 22
        }
      ]
    },
    {
      "cell_type": "markdown",
      "metadata": {
        "id": "x3bsb1YjyJfb"
      },
      "source": [
        "## Series operation"
      ]
    },
    {
      "cell_type": "code",
      "metadata": {
        "colab": {
          "base_uri": "https://localhost:8080/"
        },
        "id": "N-nai-Fgx5ot",
        "outputId": "57ffcc78-d1be-4f06-c8c6-4a54178daa81"
      },
      "source": [
        "s / 100000"
      ],
      "execution_count": 24,
      "outputs": [
        {
          "output_type": "execute_result",
          "data": {
            "text/plain": [
              "도시\n",
              "서울     1.23231\n",
              "부산     2.23232\n",
              "인천    32.32323\n",
              "대구    42.32324\n",
              "Name: 인구, dtype: float64"
            ]
          },
          "metadata": {
            "tags": []
          },
          "execution_count": 24
        }
      ]
    },
    {
      "cell_type": "markdown",
      "metadata": {
        "id": "XU6IxYZhykGW"
      },
      "source": [
        "## Series Indexing"
      ]
    },
    {
      "cell_type": "code",
      "metadata": {
        "colab": {
          "base_uri": "https://localhost:8080/"
        },
        "id": "tzYhw0sNyajE",
        "outputId": "75fe2353-c0f3-4b75-b2b6-60553f2da77b"
      },
      "source": [
        "s[1], s['부산'], s.부산"
      ],
      "execution_count": 33,
      "outputs": [
        {
          "output_type": "execute_result",
          "data": {
            "text/plain": [
              "(223232, 223232, 223232)"
            ]
          },
          "metadata": {
            "tags": []
          },
          "execution_count": 33
        }
      ]
    },
    {
      "cell_type": "code",
      "metadata": {
        "colab": {
          "base_uri": "https://localhost:8080/"
        },
        "id": "Bzv8eyWRzCtE",
        "outputId": "4cc2b1f0-2a40-4189-b5dc-5a092c623aba"
      },
      "source": [
        "# fancy indexing\n",
        "s[[0,3,1]]"
      ],
      "execution_count": 26,
      "outputs": [
        {
          "output_type": "execute_result",
          "data": {
            "text/plain": [
              "도시\n",
              "서울     123231\n",
              "대구    4232324\n",
              "부산     223232\n",
              "Name: 인구, dtype: int32"
            ]
          },
          "metadata": {
            "tags": []
          },
          "execution_count": 26
        }
      ]
    },
    {
      "cell_type": "code",
      "metadata": {
        "colab": {
          "base_uri": "https://localhost:8080/"
        },
        "id": "G5jZLjHGzZ21",
        "outputId": "c0f9e7b4-be2e-42a0-9224-b2d30c46a200"
      },
      "source": [
        "# slicing\n",
        "s[1:3]"
      ],
      "execution_count": 27,
      "outputs": [
        {
          "output_type": "execute_result",
          "data": {
            "text/plain": [
              "도시\n",
              "부산     223232\n",
              "인천    3232323\n",
              "Name: 인구, dtype: int32"
            ]
          },
          "metadata": {
            "tags": []
          },
          "execution_count": 27
        }
      ]
    },
    {
      "cell_type": "code",
      "metadata": {
        "colab": {
          "base_uri": "https://localhost:8080/"
        },
        "id": "PcbUv6gZzuWt",
        "outputId": "b4931116-b552-42ab-d8bd-f5f429489b8b"
      },
      "source": [
        "# string index slicing : last('대구') include\n",
        "s['부산':'대구']"
      ],
      "execution_count": 28,
      "outputs": [
        {
          "output_type": "execute_result",
          "data": {
            "text/plain": [
              "도시\n",
              "부산     223232\n",
              "인천    3232323\n",
              "대구    4232324\n",
              "Name: 인구, dtype: int32"
            ]
          },
          "metadata": {
            "tags": []
          },
          "execution_count": 28
        }
      ]
    },
    {
      "cell_type": "code",
      "metadata": {
        "colab": {
          "base_uri": "https://localhost:8080/"
        },
        "id": "YxnheCGsz-TP",
        "outputId": "7f41e158-7085-4bf8-d543-cba3ce3b97df"
      },
      "source": [
        "# filtering\n",
        "s[(300000 < s) & (s < 4000000)] # s[300000 < s < 4000000)] cannot"
      ],
      "execution_count": 29,
      "outputs": [
        {
          "output_type": "execute_result",
          "data": {
            "text/plain": [
              "도시\n",
              "인천    3232323\n",
              "Name: 인구, dtype: int32"
            ]
          },
          "metadata": {
            "tags": []
          },
          "execution_count": 29
        }
      ]
    },
    {
      "cell_type": "code",
      "metadata": {
        "colab": {
          "base_uri": "https://localhost:8080/"
        },
        "id": "5LkL5ces0vT-",
        "outputId": "9f0bd3c3-4f9d-4e83-b1a5-78623f30ee8d"
      },
      "source": [
        "s[(29e5 < s) | (s < 4e6)]"
      ],
      "execution_count": 31,
      "outputs": [
        {
          "output_type": "execute_result",
          "data": {
            "text/plain": [
              "도시\n",
              "서울     123231\n",
              "부산     223232\n",
              "인천    3232323\n",
              "대구    4232324\n",
              "Name: 인구, dtype: int32"
            ]
          },
          "metadata": {
            "tags": []
          },
          "execution_count": 31
        }
      ]
    },
    {
      "cell_type": "code",
      "metadata": {
        "colab": {
          "base_uri": "https://localhost:8080/"
        },
        "id": "DA3EgZoi1PuS",
        "outputId": "34ee4225-f05d-469d-8338-7150d02f5c65"
      },
      "source": [
        "s.부산"
      ],
      "execution_count": 32,
      "outputs": [
        {
          "output_type": "execute_result",
          "data": {
            "text/plain": [
              "223232"
            ]
          },
          "metadata": {
            "tags": []
          },
          "execution_count": 32
        }
      ]
    },
    {
      "cell_type": "markdown",
      "metadata": {
        "id": "nYAtbVge2jTJ"
      },
      "source": [
        "## Series & Dictionary"
      ]
    },
    {
      "cell_type": "code",
      "metadata": {
        "colab": {
          "base_uri": "https://localhost:8080/"
        },
        "id": "q0uxUOk310gL",
        "outputId": "8c371946-1ed7-46e1-9de1-cd3753ebe4da"
      },
      "source": [
        "'서울' in s, '대전' in s"
      ],
      "execution_count": 34,
      "outputs": [
        {
          "output_type": "execute_result",
          "data": {
            "text/plain": [
              "(True, False)"
            ]
          },
          "metadata": {
            "tags": []
          },
          "execution_count": 34
        }
      ]
    },
    {
      "cell_type": "code",
      "metadata": {
        "colab": {
          "base_uri": "https://localhost:8080/"
        },
        "id": "dNxfZRcC3gvM",
        "outputId": "855a0800-9e40-4116-aa4b-e77727eb1b62"
      },
      "source": [
        "s2 = pd.Series({'서울':123412, '부산':123123,'인천':353555,'대전':546374})\n",
        "s2"
      ],
      "execution_count": 38,
      "outputs": [
        {
          "output_type": "execute_result",
          "data": {
            "text/plain": [
              "서울    123412\n",
              "부산    123123\n",
              "인천    353555\n",
              "대전    546374\n",
              "dtype: int64"
            ]
          },
          "metadata": {
            "tags": []
          },
          "execution_count": 38
        }
      ]
    },
    {
      "cell_type": "markdown",
      "metadata": {
        "id": "Ibcx8OYU3xXn"
      },
      "source": [
        "## Index base Operation"
      ]
    },
    {
      "cell_type": "code",
      "metadata": {
        "colab": {
          "base_uri": "https://localhost:8080/"
        },
        "id": "va7SneLj3t1u",
        "outputId": "eed09387-5dc0-49fc-bc0e-bcdfe720fcb7"
      },
      "source": [
        "s - s2"
      ],
      "execution_count": 39,
      "outputs": [
        {
          "output_type": "execute_result",
          "data": {
            "text/plain": [
              "대구          NaN\n",
              "대전          NaN\n",
              "부산     100109.0\n",
              "서울       -181.0\n",
              "인천    2878768.0\n",
              "dtype: float64"
            ]
          },
          "metadata": {
            "tags": []
          },
          "execution_count": 39
        }
      ]
    },
    {
      "cell_type": "code",
      "metadata": {
        "colab": {
          "base_uri": "https://localhost:8080/"
        },
        "id": "5LV1cubc316A",
        "outputId": "e0aa0605-feaa-41d8-d6dd-77d5dd5c1fd0"
      },
      "source": [
        "s.values - s2.values"
      ],
      "execution_count": 40,
      "outputs": [
        {
          "output_type": "execute_result",
          "data": {
            "text/plain": [
              "array([   -181,  100109, 2878768, 3685950])"
            ]
          },
          "metadata": {
            "tags": []
          },
          "execution_count": 40
        }
      ]
    },
    {
      "cell_type": "code",
      "metadata": {
        "colab": {
          "base_uri": "https://localhost:8080/"
        },
        "id": "vqRiAscO4Go4",
        "outputId": "582b4a40-80a3-4ea8-c2e3-d2e187404391"
      },
      "source": [
        "rs = (s-s2)/s2 * 100\n",
        "rs"
      ],
      "execution_count": 42,
      "outputs": [
        {
          "output_type": "execute_result",
          "data": {
            "text/plain": [
              "대구           NaN\n",
              "대전           NaN\n",
              "부산     81.308123\n",
              "서울     -0.146663\n",
              "인천    814.234843\n",
              "dtype: float64"
            ]
          },
          "metadata": {
            "tags": []
          },
          "execution_count": 42
        }
      ]
    },
    {
      "cell_type": "code",
      "metadata": {
        "colab": {
          "base_uri": "https://localhost:8080/"
        },
        "id": "yqKwmCmt4J0y",
        "outputId": "7c7bd073-3e68-4cf9-beae-d91a808dab39"
      },
      "source": [
        "rs.notnull()"
      ],
      "execution_count": 43,
      "outputs": [
        {
          "output_type": "execute_result",
          "data": {
            "text/plain": [
              "대구    False\n",
              "대전    False\n",
              "부산     True\n",
              "서울     True\n",
              "인천     True\n",
              "dtype: bool"
            ]
          },
          "metadata": {
            "tags": []
          },
          "execution_count": 43
        }
      ]
    },
    {
      "cell_type": "code",
      "metadata": {
        "colab": {
          "base_uri": "https://localhost:8080/"
        },
        "id": "QbWmOGrB4NuA",
        "outputId": "7c34a957-619e-49e0-e1e7-c9c47d29d60e"
      },
      "source": [
        "rs[rs.notnull()]"
      ],
      "execution_count": 44,
      "outputs": [
        {
          "output_type": "execute_result",
          "data": {
            "text/plain": [
              "부산     81.308123\n",
              "서울     -0.146663\n",
              "인천    814.234843\n",
              "dtype: float64"
            ]
          },
          "metadata": {
            "tags": []
          },
          "execution_count": 44
        }
      ]
    },
    {
      "cell_type": "markdown",
      "metadata": {
        "id": "oZ691iF44gxd"
      },
      "source": [
        "## Data Update, Add, Delete"
      ]
    },
    {
      "cell_type": "code",
      "metadata": {
        "colab": {
          "base_uri": "https://localhost:8080/"
        },
        "id": "FZi6KUsL4Qt-",
        "outputId": "4d0cdc52-a3f2-4979-f061-6e74dd915950"
      },
      "source": [
        "# update\n",
        "rs['부산'] = 1.63\n",
        "rs"
      ],
      "execution_count": 45,
      "outputs": [
        {
          "output_type": "execute_result",
          "data": {
            "text/plain": [
              "대구           NaN\n",
              "대전           NaN\n",
              "부산      1.630000\n",
              "서울     -0.146663\n",
              "인천    814.234843\n",
              "dtype: float64"
            ]
          },
          "metadata": {
            "tags": []
          },
          "execution_count": 45
        }
      ]
    },
    {
      "cell_type": "code",
      "metadata": {
        "colab": {
          "base_uri": "https://localhost:8080/"
        },
        "id": "59bP8EmF4qcy",
        "outputId": "477effa6-8c9a-44ff-816b-4b7928a4a64d"
      },
      "source": [
        "# add\n",
        "rs['대구'] = 1.41\n",
        "rs"
      ],
      "execution_count": 46,
      "outputs": [
        {
          "output_type": "execute_result",
          "data": {
            "text/plain": [
              "대구      1.410000\n",
              "대전           NaN\n",
              "부산      1.630000\n",
              "서울     -0.146663\n",
              "인천    814.234843\n",
              "dtype: float64"
            ]
          },
          "metadata": {
            "tags": []
          },
          "execution_count": 46
        }
      ]
    },
    {
      "cell_type": "code",
      "metadata": {
        "colab": {
          "base_uri": "https://localhost:8080/"
        },
        "id": "eQaG-tul4xYT",
        "outputId": "c0a8c0c4-6126-4826-cd8b-d830ebdcdcca"
      },
      "source": [
        "# delete\n",
        "del(rs['부산'])\n",
        "rs"
      ],
      "execution_count": 47,
      "outputs": [
        {
          "output_type": "execute_result",
          "data": {
            "text/plain": [
              "대구      1.410000\n",
              "대전           NaN\n",
              "서울     -0.146663\n",
              "인천    814.234843\n",
              "dtype: float64"
            ]
          },
          "metadata": {
            "tags": []
          },
          "execution_count": 47
        }
      ]
    },
    {
      "cell_type": "code",
      "metadata": {
        "id": "tOWZl6af4-o7"
      },
      "source": [
        ""
      ],
      "execution_count": null,
      "outputs": []
    }
  ]
}