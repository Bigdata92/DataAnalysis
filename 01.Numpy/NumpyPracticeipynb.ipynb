{
  "nbformat": 4,
  "nbformat_minor": 0,
  "metadata": {
    "colab": {
      "name": "NumpyPracticeipynb",
      "provenance": []
    },
    "kernelspec": {
      "display_name": "Python 3",
      "name": "python3"
    },
    "language_info": {
      "name": "python"
    }
  },
  "cells": [
    {
      "cell_type": "markdown",
      "metadata": {
        "id": "fh7RzKnHTXna"
      },
      "source": [
        "# Numpy Practice"
      ]
    },
    {
      "cell_type": "code",
      "metadata": {
        "id": "lvkGQUuWTTLu"
      },
      "source": [
        "import numpy as np"
      ],
      "execution_count": 2,
      "outputs": []
    },
    {
      "cell_type": "markdown",
      "metadata": {
        "id": "tK8kvlBXThZ2"
      },
      "source": [
        "## Q1. Creating a matrix"
      ]
    },
    {
      "cell_type": "code",
      "metadata": {
        "colab": {
          "base_uri": "https://localhost:8080/"
        },
        "id": "oJ9tu7t4Tck3",
        "outputId": "5c685911-7725-4a96-e55e-4bd75c837118"
      },
      "source": [
        "np.arange(1, 11).reshape(2, -1)*10"
      ],
      "execution_count": 3,
      "outputs": [
        {
          "output_type": "execute_result",
          "data": {
            "text/plain": [
              "array([[ 10,  20,  30,  40,  50],\n",
              "       [ 60,  70,  80,  90, 100]])"
            ]
          },
          "metadata": {
            "tags": []
          },
          "execution_count": 3
        }
      ]
    },
    {
      "cell_type": "markdown",
      "metadata": {
        "id": "dp1-ZdSBTqss"
      },
      "source": [
        "## Q2. matrix indexing, slicing"
      ]
    },
    {
      "cell_type": "code",
      "metadata": {
        "colab": {
          "base_uri": "https://localhost:8080/"
        },
        "id": "5ljmFzNkTqss",
        "outputId": "85e9d36c-abb2-4121-a36d-e04932bde510"
      },
      "source": [
        "m = np.arange(0, 15).reshape(3,-1)\n",
        "m"
      ],
      "execution_count": 4,
      "outputs": [
        {
          "output_type": "execute_result",
          "data": {
            "text/plain": [
              "array([[ 0,  1,  2,  3,  4],\n",
              "       [ 5,  6,  7,  8,  9],\n",
              "       [10, 11, 12, 13, 14]])"
            ]
          },
          "metadata": {
            "tags": []
          },
          "execution_count": 4
        }
      ]
    },
    {
      "cell_type": "code",
      "metadata": {
        "colab": {
          "base_uri": "https://localhost:8080/"
        },
        "id": "2eeB66M3LmZ_",
        "outputId": "846d484f-a2f4-43a6-80c5-73657f5dfa7c"
      },
      "source": [
        "m[1,2], m[2,-1], m[1,1:3], m[1:,2], m[:2,-2:]"
      ],
      "execution_count": 5,
      "outputs": [
        {
          "output_type": "execute_result",
          "data": {
            "text/plain": [
              "(7, 14, array([6, 7]), array([ 7, 12]), array([[3, 4],\n",
              "        [8, 9]]))"
            ]
          },
          "metadata": {
            "tags": []
          },
          "execution_count": 5
        }
      ]
    },
    {
      "cell_type": "markdown",
      "metadata": {
        "id": "WknqxT4eTq95"
      },
      "source": [
        "## Q3. Boolean Indexing"
      ]
    },
    {
      "cell_type": "code",
      "metadata": {
        "colab": {
          "base_uri": "https://localhost:8080/"
        },
        "id": "zpIGvN66Tq95",
        "outputId": "320337b5-a84d-474c-c153-f3f3530d0115"
      },
      "source": [
        "f = m.flatten()\n",
        "f"
      ],
      "execution_count": 6,
      "outputs": [
        {
          "output_type": "execute_result",
          "data": {
            "text/plain": [
              "array([ 0,  1,  2,  3,  4,  5,  6,  7,  8,  9, 10, 11, 12, 13, 14])"
            ]
          },
          "metadata": {
            "tags": []
          },
          "execution_count": 6
        }
      ]
    },
    {
      "cell_type": "code",
      "metadata": {
        "colab": {
          "base_uri": "https://localhost:8080/"
        },
        "id": "pzJV66jzMIAJ",
        "outputId": "cef53752-b0c6-4549-eb87-d0e53c35db40"
      },
      "source": [
        "f[f%3==0]"
      ],
      "execution_count": 7,
      "outputs": [
        {
          "output_type": "execute_result",
          "data": {
            "text/plain": [
              "array([ 0,  3,  6,  9, 12])"
            ]
          },
          "metadata": {
            "tags": []
          },
          "execution_count": 7
        }
      ]
    },
    {
      "cell_type": "code",
      "metadata": {
        "colab": {
          "base_uri": "https://localhost:8080/"
        },
        "id": "JyKAPd3CMNNT",
        "outputId": "783683e8-b7dc-4dac-a0cb-087c4a350d13"
      },
      "source": [
        "f[f%4==1]"
      ],
      "execution_count": 8,
      "outputs": [
        {
          "output_type": "execute_result",
          "data": {
            "text/plain": [
              "array([ 1,  5,  9, 13])"
            ]
          },
          "metadata": {
            "tags": []
          },
          "execution_count": 8
        }
      ]
    },
    {
      "cell_type": "code",
      "metadata": {
        "colab": {
          "base_uri": "https://localhost:8080/"
        },
        "id": "WZtbmKh5MPUa",
        "outputId": "bb6e185d-f1ab-4941-c1ce-1e699d5749fb"
      },
      "source": [
        "f[np.logical_and(f%3==0, f%4==1)]"
      ],
      "execution_count": 9,
      "outputs": [
        {
          "output_type": "execute_result",
          "data": {
            "text/plain": [
              "array([9])"
            ]
          },
          "metadata": {
            "tags": []
          },
          "execution_count": 9
        }
      ]
    },
    {
      "cell_type": "markdown",
      "metadata": {
        "id": "_tOSEcdITrHE"
      },
      "source": [
        "## Q4. Creating a matrix with eye()"
      ]
    },
    {
      "cell_type": "code",
      "metadata": {
        "colab": {
          "base_uri": "https://localhost:8080/"
        },
        "id": "LcGYSWlHTrHF",
        "outputId": "2c9fe482-3bc8-484f-ff7a-aad5a5a5a2fa"
      },
      "source": [
        "np.eye(5, k=-1)*3 + np.eye(5)*2 + np.eye(5, k=1) "
      ],
      "execution_count": 10,
      "outputs": [
        {
          "output_type": "execute_result",
          "data": {
            "text/plain": [
              "array([[2., 1., 0., 0., 0.],\n",
              "       [3., 2., 1., 0., 0.],\n",
              "       [0., 3., 2., 1., 0.],\n",
              "       [0., 0., 3., 2., 1.],\n",
              "       [0., 0., 0., 3., 2.]])"
            ]
          },
          "metadata": {
            "tags": []
          },
          "execution_count": 10
        }
      ]
    },
    {
      "cell_type": "markdown",
      "metadata": {
        "id": "wPKPKxSqTzyA"
      },
      "source": [
        "## Q5. 0~10까지 랜덤 실수값으로 5 X 6 데이터 행렬 만들고 다음의 값을 구하시오"
      ]
    },
    {
      "cell_type": "code",
      "metadata": {
        "colab": {
          "base_uri": "https://localhost:8080/"
        },
        "id": "GeOwiUGfN_VX",
        "outputId": "760162f7-6cac-42bb-c9d5-e185d9720628"
      },
      "source": [
        "np.random.seed(2021)\n",
        "m = np.random.uniform(0, 10, 30).reshape(5,6)\n",
        "m"
      ],
      "execution_count": 11,
      "outputs": [
        {
          "output_type": "execute_result",
          "data": {
            "text/plain": [
              "array([[6.05978279, 7.33369361, 1.38947157, 3.12673084, 9.97243281,\n",
              "        1.28162375],\n",
              "       [1.78993106, 7.52925429, 6.62160514, 7.84310132, 0.96894396,\n",
              "        0.58571285],\n",
              "       [9.6239599 , 6.16557444, 0.86629961, 5.61272363, 6.16524709,\n",
              "        9.63843023],\n",
              "       [5.74304294, 3.71160848, 4.52145244, 2.01850248, 5.69305118,\n",
              "        1.95095974],\n",
              "       [5.83704016, 4.76313474, 5.178144  , 8.23098634, 7.32225027,\n",
              "        0.69056275]])"
            ]
          },
          "metadata": {
            "tags": []
          },
          "execution_count": 11
        }
      ]
    },
    {
      "cell_type": "code",
      "metadata": {
        "colab": {
          "base_uri": "https://localhost:8080/"
        },
        "id": "SXwPTtWTYsYR",
        "outputId": "a508c244-217d-4b13-c8c0-81df37431b76"
      },
      "source": [
        "m.max(), m.sum(axis=1), m.max(axis=1), m.mean(axis=0), m.min(axis=0)"
      ],
      "execution_count": 12,
      "outputs": [
        {
          "output_type": "execute_result",
          "data": {
            "text/plain": [
              "(9.972432813403188,\n",
              " array([29.16373537, 25.33854862, 38.07223489, 23.63861727, 32.02211826]),\n",
              " array([9.97243281, 7.84310132, 9.63843023, 5.74304294, 8.23098634]),\n",
              " array([5.81075137, 5.90065311, 3.71539455, 5.36640892, 6.02438506,\n",
              "        2.82945787]),\n",
              " array([1.78993106, 3.71160848, 0.86629961, 2.01850248, 0.96894396,\n",
              "        0.58571285]))"
            ]
          },
          "metadata": {
            "tags": []
          },
          "execution_count": 12
        }
      ]
    },
    {
      "cell_type": "markdown",
      "metadata": {
        "id": "12wkerzST0LD"
      },
      "source": [
        "## Q6. 영어 성적 기준으로 각 열 재정렬"
      ]
    },
    {
      "cell_type": "code",
      "metadata": {
        "colab": {
          "base_uri": "https://localhost:8080/"
        },
        "id": "Rv2hM6-UT0LF",
        "outputId": "27a84e8e-241a-47db-bcd3-debb547e504b"
      },
      "source": [
        "# 1행 학번, 2행 영어, 3행 수학 > 3개가 set로 같이 정렬되어야 한다.\n",
        "arr = np.array([[1,2,3,4],\n",
        "       [46,99,100,71],\n",
        "       [81,59,90,100]])\n",
        "arr"
      ],
      "execution_count": 13,
      "outputs": [
        {
          "output_type": "execute_result",
          "data": {
            "text/plain": [
              "array([[  1,   2,   3,   4],\n",
              "       [ 46,  99, 100,  71],\n",
              "       [ 81,  59,  90, 100]])"
            ]
          },
          "metadata": {
            "tags": []
          },
          "execution_count": 13
        }
      ]
    },
    {
      "cell_type": "code",
      "metadata": {
        "colab": {
          "base_uri": "https://localhost:8080/"
        },
        "id": "uffj6Bs-UlnQ",
        "outputId": "e5587be2-1e02-4992-ccbf-bf24d72d34de"
      },
      "source": [
        "np.argsort(arr)"
      ],
      "execution_count": 14,
      "outputs": [
        {
          "output_type": "execute_result",
          "data": {
            "text/plain": [
              "array([[0, 1, 2, 3],\n",
              "       [0, 3, 1, 2],\n",
              "       [1, 0, 2, 3]])"
            ]
          },
          "metadata": {
            "tags": []
          },
          "execution_count": 14
        }
      ]
    },
    {
      "cell_type": "code",
      "metadata": {
        "colab": {
          "base_uri": "https://localhost:8080/"
        },
        "id": "xLJrU1SXbdeV",
        "outputId": "f1e0f924-77e3-4ead-fc85-a4398d6d51a4"
      },
      "source": [
        "np.sort(arr)"
      ],
      "execution_count": 15,
      "outputs": [
        {
          "output_type": "execute_result",
          "data": {
            "text/plain": [
              "array([[  1,   2,   3,   4],\n",
              "       [ 46,  71,  99, 100],\n",
              "       [ 59,  81,  90, 100]])"
            ]
          },
          "metadata": {
            "tags": []
          },
          "execution_count": 15
        }
      ]
    },
    {
      "cell_type": "code",
      "metadata": {
        "colab": {
          "base_uri": "https://localhost:8080/"
        },
        "id": "mvmSuffDbxu9",
        "outputId": "3719cee4-183d-4bac-f78e-8ef1ec45bb1a"
      },
      "source": [
        "s = np.argsort(arr[1])\n",
        "s"
      ],
      "execution_count": 16,
      "outputs": [
        {
          "output_type": "execute_result",
          "data": {
            "text/plain": [
              "array([0, 3, 1, 2])"
            ]
          },
          "metadata": {
            "tags": []
          },
          "execution_count": 16
        }
      ]
    },
    {
      "cell_type": "code",
      "metadata": {
        "colab": {
          "base_uri": "https://localhost:8080/"
        },
        "id": "KhhOfrvsa_wK",
        "outputId": "b0a5f492-3c3a-4a8a-b7ef-e7f991523135"
      },
      "source": [
        "# des sort\n",
        "s[::-1]"
      ],
      "execution_count": 17,
      "outputs": [
        {
          "output_type": "execute_result",
          "data": {
            "text/plain": [
              "array([2, 1, 3, 0])"
            ]
          },
          "metadata": {
            "tags": []
          },
          "execution_count": 17
        }
      ]
    },
    {
      "cell_type": "code",
      "metadata": {
        "colab": {
          "base_uri": "https://localhost:8080/"
        },
        "id": "bKCgjt4bTlBR",
        "outputId": "53818a29-2f3c-45f9-e5eb-316fcada2f4e"
      },
      "source": [
        "arr[:, s[::-1]]"
      ],
      "execution_count": 18,
      "outputs": [
        {
          "output_type": "execute_result",
          "data": {
            "text/plain": [
              "array([[  3,   2,   4,   1],\n",
              "       [100,  99,  71,  46],\n",
              "       [ 90,  59, 100,  81]])"
            ]
          },
          "metadata": {
            "tags": []
          },
          "execution_count": 18
        }
      ]
    },
    {
      "cell_type": "markdown",
      "metadata": {
        "id": "wJlrEPDzT0VL"
      },
      "source": [
        "## Q7. 주사위를 100번 던지는 가상 실험, 던져서 나오는  숫자 평균 구하기"
      ]
    },
    {
      "cell_type": "code",
      "metadata": {
        "colab": {
          "base_uri": "https://localhost:8080/"
        },
        "id": "E_vwHC8wT0VM",
        "outputId": "70db30f9-3237-4b9f-ba99-a78e002ec6fb"
      },
      "source": [
        "np.random.seed(2021)\n",
        "a = np.random.randint(1, 7, 100)\n",
        "a"
      ],
      "execution_count": 19,
      "outputs": [
        {
          "output_type": "execute_result",
          "data": {
            "text/plain": [
              "array([5, 6, 2, 1, 6, 5, 4, 6, 6, 6, 1, 5, 2, 6, 2, 2, 5, 6, 3, 3, 1, 4,\n",
              "       2, 1, 3, 4, 5, 6, 1, 6, 2, 3, 6, 2, 6, 2, 3, 3, 5, 6, 3, 4, 2, 3,\n",
              "       3, 1, 3, 5, 6, 4, 4, 2, 2, 2, 3, 6, 4, 4, 5, 4, 2, 5, 2, 2, 5, 4,\n",
              "       6, 4, 4, 4, 3, 2, 4, 3, 6, 3, 3, 1, 5, 4, 2, 4, 2, 5, 3, 4, 2, 3,\n",
              "       6, 3, 6, 3, 4, 5, 6, 2, 2, 6, 1, 6])"
            ]
          },
          "metadata": {
            "tags": []
          },
          "execution_count": 19
        }
      ]
    },
    {
      "cell_type": "code",
      "metadata": {
        "colab": {
          "base_uri": "https://localhost:8080/"
        },
        "id": "OzpkzVCuWfIE",
        "outputId": "1ce1b330-3448-4270-c73b-97a10cb044be"
      },
      "source": [
        "np.mean(a)"
      ],
      "execution_count": 20,
      "outputs": [
        {
          "output_type": "execute_result",
          "data": {
            "text/plain": [
              "3.7"
            ]
          },
          "metadata": {
            "tags": []
          },
          "execution_count": 20
        }
      ]
    },
    {
      "cell_type": "markdown",
      "metadata": {
        "id": "5drjkCkVT0gn"
      },
      "source": [
        "## Q8. 가격이 만원인 주식이 있다. 이 주식의 일간 수익률은 표준정규분포를 따른다. 250일 동안의 주기를 무작위로 생성"
      ]
    },
    {
      "cell_type": "code",
      "metadata": {
        "id": "NQhcNR96T0gn",
        "colab": {
          "base_uri": "https://localhost:8080/"
        },
        "outputId": "ae369ec2-0008-4399-92d8-6bd1743289a4"
      },
      "source": [
        "np.random.seed(2021)\n",
        "price = 10000\n",
        "rate = np.random.normal(0,0.01,10)\n",
        "for i in range(10):\n",
        "  price += np.round(price * rate[i])\n",
        "  print(price, end=', ')"
      ],
      "execution_count": 23,
      "outputs": [
        {
          "output_type": "stream",
          "text": [
            "10149.0, 10218.0, 10175.0, 10093.0, 10149.0, 10077.0, 10191.0, 10257.0, 10268.0, 10311.0, "
          ],
          "name": "stdout"
        }
      ]
    },
    {
      "cell_type": "code",
      "metadata": {
        "id": "rfinEwpKdBbC"
      },
      "source": [
        "np.random.seed(2021)\n",
        "price_list = []\n",
        "price = 10000\n",
        "rate = np.random.normal(0,0.01,250)\n",
        "for i in range(250):\n",
        "  price += np.round(price * rate[i])\n",
        "  price_list.append(int(price))"
      ],
      "execution_count": 24,
      "outputs": []
    },
    {
      "cell_type": "code",
      "metadata": {
        "id": "hD1FxrBrbaNt",
        "colab": {
          "base_uri": "https://localhost:8080/"
        },
        "outputId": "a9607f98-a1b3-4951-f9a7-4c7428ef7127"
      },
      "source": [
        "price_list[:10]"
      ],
      "execution_count": 27,
      "outputs": [
        {
          "output_type": "execute_result",
          "data": {
            "text/plain": [
              "[10149, 10218, 10175, 10093, 10149, 10077, 10191, 10257, 10268, 10311]"
            ]
          },
          "metadata": {
            "tags": []
          },
          "execution_count": 27
        }
      ]
    },
    {
      "cell_type": "code",
      "metadata": {
        "id": "_5hvast3kMBN"
      },
      "source": [
        ""
      ],
      "execution_count": null,
      "outputs": []
    }
  ]
}