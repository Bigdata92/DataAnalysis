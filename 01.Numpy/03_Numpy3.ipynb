{
  "nbformat": 4,
  "nbformat_minor": 0,
  "metadata": {
    "colab": {
      "name": "03_Numpy3.ipynb",
      "provenance": [],
      "collapsed_sections": []
    },
    "kernelspec": {
      "name": "python3",
      "display_name": "Python 3"
    },
    "language_info": {
      "name": "python"
    }
  },
  "cells": [
    {
      "cell_type": "markdown",
      "metadata": {
        "id": "Ryx9urjF4tyW"
      },
      "source": [
        "# Numpy - part 3"
      ]
    },
    {
      "cell_type": "code",
      "metadata": {
        "id": "MfgWJmiw4qrX"
      },
      "source": [
        "import numpy as np"
      ],
      "execution_count": null,
      "outputs": []
    },
    {
      "cell_type": "markdown",
      "metadata": {
        "id": "OBGkiWQ_4zkB"
      },
      "source": [
        "## 6. Array operation"
      ]
    },
    {
      "cell_type": "code",
      "metadata": {
        "colab": {
          "base_uri": "https://localhost:8080/"
        },
        "id": "mtByDHOe4zC1",
        "outputId": "63d743f1-36f8-4fd9-82ab-1f96e74d04f2"
      },
      "source": [
        "a = np.arange(1,7).reshape(2,3)\n",
        "a"
      ],
      "execution_count": null,
      "outputs": [
        {
          "output_type": "execute_result",
          "data": {
            "text/plain": [
              "array([[1, 2, 3],\n",
              "       [4, 5, 6]])"
            ]
          },
          "metadata": {
            "tags": []
          },
          "execution_count": 2
        }
      ]
    },
    {
      "cell_type": "code",
      "metadata": {
        "colab": {
          "base_uri": "https://localhost:8080/"
        },
        "id": "1A9cBAIj4-Xl",
        "outputId": "973bd1d9-3dae-4634-acd0-4596ef54669d"
      },
      "source": [
        "a + a"
      ],
      "execution_count": null,
      "outputs": [
        {
          "output_type": "execute_result",
          "data": {
            "text/plain": [
              "array([[ 2,  4,  6],\n",
              "       [ 8, 10, 12]])"
            ]
          },
          "metadata": {
            "tags": []
          },
          "execution_count": 3
        }
      ]
    },
    {
      "cell_type": "code",
      "metadata": {
        "colab": {
          "base_uri": "https://localhost:8080/"
        },
        "id": "CVW4SaNM4_AB",
        "outputId": "93166863-c0fa-4dce-9882-eb055bc8d4e8"
      },
      "source": [
        "a - a"
      ],
      "execution_count": null,
      "outputs": [
        {
          "output_type": "execute_result",
          "data": {
            "text/plain": [
              "array([[0, 0, 0],\n",
              "       [0, 0, 0]])"
            ]
          },
          "metadata": {
            "tags": []
          },
          "execution_count": 4
        }
      ]
    },
    {
      "cell_type": "code",
      "metadata": {
        "colab": {
          "base_uri": "https://localhost:8080/"
        },
        "id": "famcdOhH4_dt",
        "outputId": "de694e7d-1e2e-4493-fdd2-2b9816badbbf"
      },
      "source": [
        "a * a"
      ],
      "execution_count": null,
      "outputs": [
        {
          "output_type": "execute_result",
          "data": {
            "text/plain": [
              "array([[ 1,  4,  9],\n",
              "       [16, 25, 36]])"
            ]
          },
          "metadata": {
            "tags": []
          },
          "execution_count": 5
        }
      ]
    },
    {
      "cell_type": "markdown",
      "metadata": {
        "id": "4NLShb6L5E_r"
      },
      "source": [
        "### dot product"
      ]
    },
    {
      "cell_type": "code",
      "metadata": {
        "colab": {
          "base_uri": "https://localhost:8080/"
        },
        "id": "GBrCpBo55Aap",
        "outputId": "6b8e7c70-853f-4dbc-aa4f-08b05af4744f"
      },
      "source": [
        "np.dot(a, a.T)"
      ],
      "execution_count": null,
      "outputs": [
        {
          "output_type": "execute_result",
          "data": {
            "text/plain": [
              "array([[14, 32],\n",
              "       [32, 77]])"
            ]
          },
          "metadata": {
            "tags": []
          },
          "execution_count": 6
        }
      ]
    },
    {
      "cell_type": "code",
      "metadata": {
        "colab": {
          "base_uri": "https://localhost:8080/"
        },
        "id": "l6T_mJqC6KQR",
        "outputId": "aaf0f3d6-32de-4396-a6f0-53d635f88e68"
      },
      "source": [
        "a.dot(a.T)"
      ],
      "execution_count": null,
      "outputs": [
        {
          "output_type": "execute_result",
          "data": {
            "text/plain": [
              "array([[14, 32],\n",
              "       [32, 77]])"
            ]
          },
          "metadata": {
            "tags": []
          },
          "execution_count": 7
        }
      ]
    },
    {
      "cell_type": "markdown",
      "metadata": {
        "id": "6YaV7ze_6sDg"
      },
      "source": [
        "### broadcasting"
      ]
    },
    {
      "cell_type": "code",
      "metadata": {
        "colab": {
          "base_uri": "https://localhost:8080/"
        },
        "id": "UcDJ481R6pdm",
        "outputId": "eaaa59fa-d2bb-43ed-8bbf-a4e3fff488fa"
      },
      "source": [
        "a"
      ],
      "execution_count": null,
      "outputs": [
        {
          "output_type": "execute_result",
          "data": {
            "text/plain": [
              "array([[1, 2, 3],\n",
              "       [4, 5, 6]])"
            ]
          },
          "metadata": {
            "tags": []
          },
          "execution_count": 8
        }
      ]
    },
    {
      "cell_type": "code",
      "metadata": {
        "colab": {
          "base_uri": "https://localhost:8080/"
        },
        "id": "oQMxexa66uSK",
        "outputId": "132edac4-7e26-43ab-ed38-1b1cbc7f7ec7"
      },
      "source": [
        "a + 3"
      ],
      "execution_count": null,
      "outputs": [
        {
          "output_type": "execute_result",
          "data": {
            "text/plain": [
              "array([[4, 5, 6],\n",
              "       [7, 8, 9]])"
            ]
          },
          "metadata": {
            "tags": []
          },
          "execution_count": 9
        }
      ]
    },
    {
      "cell_type": "code",
      "metadata": {
        "colab": {
          "base_uri": "https://localhost:8080/"
        },
        "id": "KvhTMOX16u7x",
        "outputId": "a51c6828-0744-4ccf-9862-5ded5048f943"
      },
      "source": [
        "a // 3"
      ],
      "execution_count": null,
      "outputs": [
        {
          "output_type": "execute_result",
          "data": {
            "text/plain": [
              "array([[0, 0, 1],\n",
              "       [1, 1, 2]])"
            ]
          },
          "metadata": {
            "tags": []
          },
          "execution_count": 10
        }
      ]
    },
    {
      "cell_type": "code",
      "metadata": {
        "colab": {
          "base_uri": "https://localhost:8080/"
        },
        "id": "PA21ewRA6-M4",
        "outputId": "5436b986-f130-4403-b6e9-9f02699e5a1b"
      },
      "source": [
        "a % 3"
      ],
      "execution_count": null,
      "outputs": [
        {
          "output_type": "execute_result",
          "data": {
            "text/plain": [
              "array([[1, 2, 0],\n",
              "       [1, 2, 0]])"
            ]
          },
          "metadata": {
            "tags": []
          },
          "execution_count": 11
        }
      ]
    },
    {
      "cell_type": "code",
      "metadata": {
        "id": "7bsTdBw76_NJ"
      },
      "source": [
        "b = np.array([10,20,30])"
      ],
      "execution_count": null,
      "outputs": []
    },
    {
      "cell_type": "code",
      "metadata": {
        "colab": {
          "base_uri": "https://localhost:8080/"
        },
        "id": "uWUXuHNO7S4G",
        "outputId": "259ac9b3-ae31-4936-8e0b-363b56614ed1"
      },
      "source": [
        "# 2D matrix, 1D vector plus possible\n",
        "a + b "
      ],
      "execution_count": null,
      "outputs": [
        {
          "output_type": "execute_result",
          "data": {
            "text/plain": [
              "array([[11, 22, 33],\n",
              "       [14, 25, 36]])"
            ]
          },
          "metadata": {
            "tags": []
          },
          "execution_count": 13
        }
      ]
    },
    {
      "cell_type": "markdown",
      "metadata": {
        "id": "-8M2YQIr72Br"
      },
      "source": [
        "## 7. Comparison"
      ]
    },
    {
      "cell_type": "markdown",
      "metadata": {
        "id": "lBW8AG4676mY"
      },
      "source": [
        "### all & any"
      ]
    },
    {
      "cell_type": "code",
      "metadata": {
        "colab": {
          "base_uri": "https://localhost:8080/"
        },
        "id": "G8FcZTfl7Tek",
        "outputId": "855e65e1-8f4c-4ec2-c3ba-b8f7475b2a2e"
      },
      "source": [
        "a = np.arange(10)\n",
        "a"
      ],
      "execution_count": null,
      "outputs": [
        {
          "output_type": "execute_result",
          "data": {
            "text/plain": [
              "array([0, 1, 2, 3, 4, 5, 6, 7, 8, 9])"
            ]
          },
          "metadata": {
            "tags": []
          },
          "execution_count": 14
        }
      ]
    },
    {
      "cell_type": "code",
      "metadata": {
        "colab": {
          "base_uri": "https://localhost:8080/"
        },
        "id": "HGHpyOfj7_SY",
        "outputId": "01f3d5d4-e2ee-4a87-dc14-bbda011338f0"
      },
      "source": [
        "a>4"
      ],
      "execution_count": null,
      "outputs": [
        {
          "output_type": "execute_result",
          "data": {
            "text/plain": [
              "array([False, False, False, False, False,  True,  True,  True,  True,\n",
              "        True])"
            ]
          },
          "metadata": {
            "tags": []
          },
          "execution_count": 15
        }
      ]
    },
    {
      "cell_type": "code",
      "metadata": {
        "colab": {
          "base_uri": "https://localhost:8080/"
        },
        "id": "gmqLpmti8Ant",
        "outputId": "fd13c094-b076-4487-f09a-33b8997fc693"
      },
      "source": [
        "np.all(a>4), np.any(a>4)"
      ],
      "execution_count": null,
      "outputs": [
        {
          "output_type": "execute_result",
          "data": {
            "text/plain": [
              "(False, True)"
            ]
          },
          "metadata": {
            "tags": []
          },
          "execution_count": 16
        }
      ]
    },
    {
      "cell_type": "code",
      "metadata": {
        "colab": {
          "base_uri": "https://localhost:8080/"
        },
        "id": "gGv3M8IO8dV7",
        "outputId": "3c29e68f-f7c4-42e2-bbbe-a10577a50013"
      },
      "source": [
        "x = np.array([1,3,0])\n",
        "y = np.array([5,2,1])\n",
        "x > y"
      ],
      "execution_count": null,
      "outputs": [
        {
          "output_type": "execute_result",
          "data": {
            "text/plain": [
              "array([False,  True, False])"
            ]
          },
          "metadata": {
            "tags": []
          },
          "execution_count": 17
        }
      ]
    },
    {
      "cell_type": "code",
      "metadata": {
        "colab": {
          "base_uri": "https://localhost:8080/"
        },
        "id": "uT-6jmkR87TO",
        "outputId": "7c2a105a-3e1a-4825-e327-00ea2c6afa4b"
      },
      "source": [
        "x == y"
      ],
      "execution_count": null,
      "outputs": [
        {
          "output_type": "execute_result",
          "data": {
            "text/plain": [
              "array([False, False, False])"
            ]
          },
          "metadata": {
            "tags": []
          },
          "execution_count": 18
        }
      ]
    },
    {
      "cell_type": "markdown",
      "metadata": {
        "id": "yETDy3Hg89Mx"
      },
      "source": [
        "### logical operation"
      ]
    },
    {
      "cell_type": "code",
      "metadata": {
        "colab": {
          "base_uri": "https://localhost:8080/"
        },
        "id": "HlFIyZ9587w5",
        "outputId": "63fa97e1-215d-444f-fb77-d262bec02583"
      },
      "source": [
        "a = np.array([1,3,0], float)\n",
        "b = np.logical_and(a>0, a<3)\n",
        "b"
      ],
      "execution_count": null,
      "outputs": [
        {
          "output_type": "execute_result",
          "data": {
            "text/plain": [
              "array([ True, False, False])"
            ]
          },
          "metadata": {
            "tags": []
          },
          "execution_count": 19
        }
      ]
    },
    {
      "cell_type": "code",
      "metadata": {
        "colab": {
          "base_uri": "https://localhost:8080/"
        },
        "id": "B_ZA6-fq9cMB",
        "outputId": "af35a537-7810-4578-d02d-96c43c2dc964"
      },
      "source": [
        "c = np.logical_not(b)\n",
        "c"
      ],
      "execution_count": null,
      "outputs": [
        {
          "output_type": "execute_result",
          "data": {
            "text/plain": [
              "array([False,  True,  True])"
            ]
          },
          "metadata": {
            "tags": []
          },
          "execution_count": 22
        }
      ]
    },
    {
      "cell_type": "code",
      "metadata": {
        "colab": {
          "base_uri": "https://localhost:8080/"
        },
        "id": "_Ol5vZJ89gii",
        "outputId": "8200614b-634a-4455-a49d-e1ad5e81bd12"
      },
      "source": [
        "np.logical_or(b,c)"
      ],
      "execution_count": null,
      "outputs": [
        {
          "output_type": "execute_result",
          "data": {
            "text/plain": [
              "array([ True,  True,  True])"
            ]
          },
          "metadata": {
            "tags": []
          },
          "execution_count": 23
        }
      ]
    },
    {
      "cell_type": "code",
      "metadata": {
        "colab": {
          "base_uri": "https://localhost:8080/"
        },
        "id": "hjqpzduS919-",
        "outputId": "0a723802-f7ea-4f49-8d35-00ba3bb4453d"
      },
      "source": [
        "np.logical_xor(b,c)"
      ],
      "execution_count": null,
      "outputs": [
        {
          "output_type": "execute_result",
          "data": {
            "text/plain": [
              "array([ True,  True,  True])"
            ]
          },
          "metadata": {
            "tags": []
          },
          "execution_count": 24
        }
      ]
    },
    {
      "cell_type": "code",
      "metadata": {
        "colab": {
          "base_uri": "https://localhost:8080/"
        },
        "id": "r6cE8RTs97sY",
        "outputId": "187e41a2-7913-4bf8-bdb6-4fec614f90df"
      },
      "source": [
        "np.where(a>1, 10, 0) # where(condition, True 일 때 값, False 일 때 값)"
      ],
      "execution_count": null,
      "outputs": [
        {
          "output_type": "execute_result",
          "data": {
            "text/plain": [
              "array([ 0, 10,  0])"
            ]
          },
          "metadata": {
            "tags": []
          },
          "execution_count": 25
        }
      ]
    },
    {
      "cell_type": "code",
      "metadata": {
        "colab": {
          "base_uri": "https://localhost:8080/"
        },
        "id": "glXrj7vi-vQq",
        "outputId": "fe6fe190-39f2-49c9-af46-3b064726208e"
      },
      "source": [
        "np.where(np.arange(10,20) > 15) # return index"
      ],
      "execution_count": null,
      "outputs": [
        {
          "output_type": "execute_result",
          "data": {
            "text/plain": [
              "(array([6, 7, 8, 9]),)"
            ]
          },
          "metadata": {
            "tags": []
          },
          "execution_count": 26
        }
      ]
    },
    {
      "cell_type": "code",
      "metadata": {
        "colab": {
          "base_uri": "https://localhost:8080/"
        },
        "id": "Hb26WcTS-zeJ",
        "outputId": "7ebffa23-d629-4e60-d0c9-9ca40f5e02de"
      },
      "source": [
        "# Infinite, Not a Number\n",
        "a = np.array([np.Inf, np.NaN, 1, np.nan, np.inf, np.NAN])\n",
        "a"
      ],
      "execution_count": null,
      "outputs": [
        {
          "output_type": "execute_result",
          "data": {
            "text/plain": [
              "array([inf, nan,  1., nan, inf, nan])"
            ]
          },
          "metadata": {
            "tags": []
          },
          "execution_count": 28
        }
      ]
    },
    {
      "cell_type": "code",
      "metadata": {
        "colab": {
          "base_uri": "https://localhost:8080/"
        },
        "id": "ayHbxVHz_WyZ",
        "outputId": "1b2f4c3c-5f20-4069-b12b-cfde9bf84de8"
      },
      "source": [
        "np.isnan(a)"
      ],
      "execution_count": null,
      "outputs": [
        {
          "output_type": "execute_result",
          "data": {
            "text/plain": [
              "array([False,  True, False,  True, False,  True])"
            ]
          },
          "metadata": {
            "tags": []
          },
          "execution_count": 29
        }
      ]
    },
    {
      "cell_type": "code",
      "metadata": {
        "colab": {
          "base_uri": "https://localhost:8080/"
        },
        "id": "7FrOgk0L_2ik",
        "outputId": "384f763c-730f-4f56-f9cc-6839ab9b0505"
      },
      "source": [
        "np.isfinite(a)"
      ],
      "execution_count": null,
      "outputs": [
        {
          "output_type": "execute_result",
          "data": {
            "text/plain": [
              "array([False, False,  True, False, False, False])"
            ]
          },
          "metadata": {
            "tags": []
          },
          "execution_count": 30
        }
      ]
    },
    {
      "cell_type": "code",
      "metadata": {
        "colab": {
          "base_uri": "https://localhost:8080/"
        },
        "id": "mg8xa0QT_4Uz",
        "outputId": "0fb49dc4-fde5-456b-a5d7-fa642aff4ebb"
      },
      "source": [
        "np.isnan(a).sum()"
      ],
      "execution_count": null,
      "outputs": [
        {
          "output_type": "execute_result",
          "data": {
            "text/plain": [
              "3"
            ]
          },
          "metadata": {
            "tags": []
          },
          "execution_count": 31
        }
      ]
    },
    {
      "cell_type": "markdown",
      "metadata": {
        "id": "LJcW3fb7ENpW"
      },
      "source": [
        "### argmax, argmin"
      ]
    },
    {
      "cell_type": "code",
      "metadata": {
        "colab": {
          "base_uri": "https://localhost:8080/"
        },
        "id": "K5DN21ltAblX",
        "outputId": "8068dc9c-0d2b-42bf-b06f-6d93c4802fa1"
      },
      "source": [
        "a = np.array([1,2,4,5,8,78,23,3])\n",
        "np.argmax(a), np.argmin(a)"
      ],
      "execution_count": null,
      "outputs": [
        {
          "output_type": "execute_result",
          "data": {
            "text/plain": [
              "(5, 0)"
            ]
          },
          "metadata": {
            "tags": []
          },
          "execution_count": 38
        }
      ]
    },
    {
      "cell_type": "code",
      "metadata": {
        "colab": {
          "base_uri": "https://localhost:8080/"
        },
        "id": "MALk606OAc3y",
        "outputId": "65cfcb83-7265-4550-a8ee-f5c9f05f8881"
      },
      "source": [
        "a = a.reshape(2, -1)\n",
        "np.argmax(a), np.argmin(a)"
      ],
      "execution_count": null,
      "outputs": [
        {
          "output_type": "execute_result",
          "data": {
            "text/plain": [
              "(5, 0)"
            ]
          },
          "metadata": {
            "tags": []
          },
          "execution_count": 42
        }
      ]
    },
    {
      "cell_type": "code",
      "metadata": {
        "colab": {
          "base_uri": "https://localhost:8080/"
        },
        "id": "UBydIDFFFP3K",
        "outputId": "988dda4f-f42b-4249-aa1a-a8b6d226d447"
      },
      "source": [
        "index = 5\n",
        "row, col = index // 4, index % 4\n",
        "row, col"
      ],
      "execution_count": null,
      "outputs": [
        {
          "output_type": "execute_result",
          "data": {
            "text/plain": [
              "(1, 1)"
            ]
          },
          "metadata": {
            "tags": []
          },
          "execution_count": 43
        }
      ]
    },
    {
      "cell_type": "code",
      "metadata": {
        "colab": {
          "base_uri": "https://localhost:8080/"
        },
        "id": "_1_iW_inFWx1",
        "outputId": "af071108-140d-43b6-8844-5cf88cd94dc7"
      },
      "source": [
        "a[row, col]"
      ],
      "execution_count": null,
      "outputs": [
        {
          "output_type": "execute_result",
          "data": {
            "text/plain": [
              "78"
            ]
          },
          "metadata": {
            "tags": []
          },
          "execution_count": 45
        }
      ]
    },
    {
      "cell_type": "code",
      "metadata": {
        "colab": {
          "base_uri": "https://localhost:8080/"
        },
        "id": "m6mzo3pvEtG8",
        "outputId": "bc0621a7-887b-42a3-d6ca-0c33271161d0"
      },
      "source": [
        "np.argmax(a, axis=1), np.argmin(a, axis=1)"
      ],
      "execution_count": null,
      "outputs": [
        {
          "output_type": "execute_result",
          "data": {
            "text/plain": [
              "(array([3, 1]), array([0, 3]))"
            ]
          },
          "metadata": {
            "tags": []
          },
          "execution_count": 40
        }
      ]
    },
    {
      "cell_type": "code",
      "metadata": {
        "colab": {
          "base_uri": "https://localhost:8080/"
        },
        "id": "_BPLub-CE6KD",
        "outputId": "a1cf47e1-a593-4c8a-f24e-cd4f9c58af08"
      },
      "source": [
        "a"
      ],
      "execution_count": null,
      "outputs": [
        {
          "output_type": "execute_result",
          "data": {
            "text/plain": [
              "array([[ 1,  2,  4,  5],\n",
              "       [ 8, 78, 23,  3]])"
            ]
          },
          "metadata": {
            "tags": []
          },
          "execution_count": 41
        }
      ]
    },
    {
      "cell_type": "markdown",
      "metadata": {
        "id": "L17uSIcCFyC9"
      },
      "source": [
        "## 8. Boolean & fancy index"
      ]
    },
    {
      "cell_type": "markdown",
      "metadata": {
        "id": "b2d6atZ3GLeD"
      },
      "source": [
        "### boolean index"
      ]
    },
    {
      "cell_type": "code",
      "metadata": {
        "colab": {
          "base_uri": "https://localhost:8080/"
        },
        "id": "Kw4P3dSmE6Xh",
        "outputId": "23acf125-dd24-467b-ff72-188e003cab52"
      },
      "source": [
        "a > 4"
      ],
      "execution_count": null,
      "outputs": [
        {
          "output_type": "execute_result",
          "data": {
            "text/plain": [
              "array([[False, False, False,  True],\n",
              "       [ True,  True,  True, False]])"
            ]
          },
          "metadata": {
            "tags": []
          },
          "execution_count": 46
        }
      ]
    },
    {
      "cell_type": "code",
      "metadata": {
        "colab": {
          "base_uri": "https://localhost:8080/"
        },
        "id": "NhXXX6CoF2wa",
        "outputId": "a8e6f855-ad6d-49d9-cd59-3e29c6a7ad84"
      },
      "source": [
        "a[a>4]"
      ],
      "execution_count": null,
      "outputs": [
        {
          "output_type": "execute_result",
          "data": {
            "text/plain": [
              "array([ 5,  8, 78, 23])"
            ]
          },
          "metadata": {
            "tags": []
          },
          "execution_count": 47
        }
      ]
    },
    {
      "cell_type": "markdown",
      "metadata": {
        "id": "LCXeT4NKGN10"
      },
      "source": [
        "### fancy index"
      ]
    },
    {
      "cell_type": "code",
      "metadata": {
        "colab": {
          "base_uri": "https://localhost:8080/"
        },
        "id": "UhZGQQvkF3xE",
        "outputId": "ead95a23-3f79-4c5b-ead6-3d37d56cb0a5"
      },
      "source": [
        "a = np.array([2,4,6,8])\n",
        "b = np.array([1,3,2,0,0,1])\n",
        "a[b]"
      ],
      "execution_count": null,
      "outputs": [
        {
          "output_type": "execute_result",
          "data": {
            "text/plain": [
              "array([4, 8, 6, 2, 2, 4])"
            ]
          },
          "metadata": {
            "tags": []
          },
          "execution_count": 48
        }
      ]
    },
    {
      "cell_type": "code",
      "metadata": {
        "colab": {
          "base_uri": "https://localhost:8080/"
        },
        "id": "mkfhiXkUGnji",
        "outputId": "77d1ebea-7d38-4c4c-b565-e9bc9e5ba682"
      },
      "source": [
        "a.take(b)"
      ],
      "execution_count": null,
      "outputs": [
        {
          "output_type": "execute_result",
          "data": {
            "text/plain": [
              "array([4, 8, 6, 2, 2, 4])"
            ]
          },
          "metadata": {
            "tags": []
          },
          "execution_count": 49
        }
      ]
    },
    {
      "cell_type": "code",
      "metadata": {
        "colab": {
          "base_uri": "https://localhost:8080/"
        },
        "id": "CIr5T6i2GrsX",
        "outputId": "7089a48e-1aa7-49c3-a605-e544d65e639b"
      },
      "source": [
        "a = np.arange(1,13).reshape(3,4)\n",
        "b = np.array([1,2,0,1]) # row index\n",
        "c = np.array([2,1,3,0]) # col index\n",
        "a[b, c]"
      ],
      "execution_count": null,
      "outputs": [
        {
          "output_type": "execute_result",
          "data": {
            "text/plain": [
              "array([ 7, 10,  4,  5])"
            ]
          },
          "metadata": {
            "tags": []
          },
          "execution_count": 50
        }
      ]
    },
    {
      "cell_type": "markdown",
      "metadata": {
        "id": "JJeVJ1L1Hq1h"
      },
      "source": [
        "# 9. descriptive statistics"
      ]
    },
    {
      "cell_type": "code",
      "metadata": {
        "id": "fVrptudwHPr_"
      },
      "source": [
        "a = np.random.randint(1, 10000, 1000)"
      ],
      "execution_count": null,
      "outputs": []
    },
    {
      "cell_type": "code",
      "metadata": {
        "colab": {
          "base_uri": "https://localhost:8080/"
        },
        "id": "sD09j2VLIV6J",
        "outputId": "abc919cb-5c6c-437a-f431-65f8a94e7100"
      },
      "source": [
        "# percentile(사분위수)\n",
        "for q in [0, 25, 50, 75, 100]:\n",
        "  print(np.percentile(a, q))"
      ],
      "execution_count": null,
      "outputs": [
        {
          "output_type": "stream",
          "text": [
            "6.0\n",
            "2572.0\n",
            "4978.5\n",
            "7464.75\n",
            "9994.0\n"
          ],
          "name": "stdout"
        }
      ]
    },
    {
      "cell_type": "code",
      "metadata": {
        "id": "LvxMNmD6IsLF"
      },
      "source": [
        "import matplotlib.pyplot as plt\n"
      ],
      "execution_count": null,
      "outputs": []
    },
    {
      "cell_type": "code",
      "metadata": {
        "colab": {
          "base_uri": "https://localhost:8080/",
          "height": 265
        },
        "id": "dmboGSOWJb-K",
        "outputId": "5b676bfa-e0de-4832-a5fc-e8af812474e1"
      },
      "source": [
        "plt.boxplot(a)\n",
        "plt.show()"
      ],
      "execution_count": null,
      "outputs": [
        {
          "output_type": "display_data",
          "data": {
            "image/png": "[encoded data removed]",
            "text/plain": [
              "<Figure size 432x288 with 1 Axes>"
            ]
          },
          "metadata": {
            "tags": [],
            "needs_background": "light"
          }
        }
      ]
    },
    {
      "cell_type": "code",
      "metadata": {
        "id": "5duk-_vHJd1s"
      },
      "source": [
        ""
      ],
      "execution_count": null,
      "outputs": []
    }
  ]
}