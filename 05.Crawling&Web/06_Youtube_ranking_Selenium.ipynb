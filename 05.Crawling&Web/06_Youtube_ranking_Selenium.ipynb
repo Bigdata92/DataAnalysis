{
  "nbformat": 4,
  "nbformat_minor": 0,
  "metadata": {
    "colab": {
      "name": "06_Youtube_ranking_Selenium.ipynb",
      "provenance": [],
      "collapsed_sections": []
    },
    "kernelspec": {
      "name": "python3",
      "display_name": "Python 3"
    },
    "language_info": {
      "name": "python"
    },
    "widgets": {
      "application/vnd.jupyter.widget-state+json": {
        "57d1421a26d34e42937ea657a1bb38a5": {
          "model_module": "@jupyter-widgets/controls",
          "model_name": "HBoxModel",
          "model_module_version": "1.5.0",
          "state": {
            "_view_name": "HBoxView",
            "_dom_classes": [],
            "_model_name": "HBoxModel",
            "_view_module": "@jupyter-widgets/controls",
            "_model_module_version": "1.5.0",
            "_view_count": null,
            "_view_module_version": "1.5.0",
            "box_style": "",
            "layout": "IPY_MODEL_4198d3debfbd4996aeb09e3889139c89",
            "_model_module": "@jupyter-widgets/controls",
            "children": [
              "IPY_MODEL_2214bc95465d41cba0329f72ae1034f9",
              "IPY_MODEL_4645909e61584f7cb08c8ffd1adb6f0f",
              "IPY_MODEL_632cc9e7e3504331a32fa31118b20e38"
            ]
          }
        },
        "4198d3debfbd4996aeb09e3889139c89": {
          "model_module": "@jupyter-widgets/base",
          "model_name": "LayoutModel",
          "model_module_version": "1.2.0",
          "state": {
            "_view_name": "LayoutView",
            "grid_template_rows": null,
            "right": null,
            "justify_content": null,
            "_view_module": "@jupyter-widgets/base",
            "overflow": null,
            "_model_module_version": "1.2.0",
            "_view_count": null,
            "flex_flow": null,
            "width": null,
            "min_width": null,
            "border": null,
            "align_items": null,
            "bottom": null,
            "_model_module": "@jupyter-widgets/base",
            "top": null,
            "grid_column": null,
            "overflow_y": null,
            "overflow_x": null,
            "grid_auto_flow": null,
            "grid_area": null,
            "grid_template_columns": null,
            "flex": null,
            "_model_name": "LayoutModel",
            "justify_items": null,
            "grid_row": null,
            "max_height": null,
            "align_content": null,
            "visibility": null,
            "align_self": null,
            "height": null,
            "min_height": null,
            "padding": null,
            "grid_auto_rows": null,
            "grid_gap": null,
            "max_width": null,
            "order": null,
            "_view_module_version": "1.2.0",
            "grid_template_areas": null,
            "object_position": null,
            "object_fit": null,
            "grid_auto_columns": null,
            "margin": null,
            "display": null,
            "left": null
          }
        },
        "2214bc95465d41cba0329f72ae1034f9": {
          "model_module": "@jupyter-widgets/controls",
          "model_name": "HTMLModel",
          "model_module_version": "1.5.0",
          "state": {
            "_view_name": "HTMLView",
            "style": "IPY_MODEL_02aaa9e2a35d4cc28189064719d3a980",
            "_dom_classes": [],
            "description": "",
            "_model_name": "HTMLModel",
            "placeholder": "​",
            "_view_module": "@jupyter-widgets/controls",
            "_model_module_version": "1.5.0",
            "value": "100%",
            "_view_count": null,
            "_view_module_version": "1.5.0",
            "description_tooltip": null,
            "_model_module": "@jupyter-widgets/controls",
            "layout": "IPY_MODEL_fabf9e4d6f944a4bb209342bd7b10d68"
          }
        },
        "4645909e61584f7cb08c8ffd1adb6f0f": {
          "model_module": "@jupyter-widgets/controls",
          "model_name": "FloatProgressModel",
          "model_module_version": "1.5.0",
          "state": {
            "_view_name": "ProgressView",
            "style": "IPY_MODEL_bd7e9d98946e4b58a124153fcd872de7",
            "_dom_classes": [],
            "description": "",
            "_model_name": "FloatProgressModel",
            "bar_style": "success",
            "max": 10,
            "_view_module": "@jupyter-widgets/controls",
            "_model_module_version": "1.5.0",
            "value": 10,
            "_view_count": null,
            "_view_module_version": "1.5.0",
            "orientation": "horizontal",
            "min": 0,
            "description_tooltip": null,
            "_model_module": "@jupyter-widgets/controls",
            "layout": "IPY_MODEL_40eca151be0341b891610699a88f5153"
          }
        },
        "632cc9e7e3504331a32fa31118b20e38": {
          "model_module": "@jupyter-widgets/controls",
          "model_name": "HTMLModel",
          "model_module_version": "1.5.0",
          "state": {
            "_view_name": "HTMLView",
            "style": "IPY_MODEL_2d23326d786d4c5eaa76db37f2c487b6",
            "_dom_classes": [],
            "description": "",
            "_model_name": "HTMLModel",
            "placeholder": "​",
            "_view_module": "@jupyter-widgets/controls",
            "_model_module_version": "1.5.0",
            "value": " 10/10 [08:09&lt;00:00, 48.98s/it]",
            "_view_count": null,
            "_view_module_version": "1.5.0",
            "description_tooltip": null,
            "_model_module": "@jupyter-widgets/controls",
            "layout": "IPY_MODEL_4d5f0b5aae464486ae40e0c67ce3be76"
          }
        },
        "02aaa9e2a35d4cc28189064719d3a980": {
          "model_module": "@jupyter-widgets/controls",
          "model_name": "DescriptionStyleModel",
          "model_module_version": "1.5.0",
          "state": {
            "_view_name": "StyleView",
            "_model_name": "DescriptionStyleModel",
            "description_width": "",
            "_view_module": "@jupyter-widgets/base",
            "_model_module_version": "1.5.0",
            "_view_count": null,
            "_view_module_version": "1.2.0",
            "_model_module": "@jupyter-widgets/controls"
          }
        },
        "fabf9e4d6f944a4bb209342bd7b10d68": {
          "model_module": "@jupyter-widgets/base",
          "model_name": "LayoutModel",
          "model_module_version": "1.2.0",
          "state": {
            "_view_name": "LayoutView",
            "grid_template_rows": null,
            "right": null,
            "justify_content": null,
            "_view_module": "@jupyter-widgets/base",
            "overflow": null,
            "_model_module_version": "1.2.0",
            "_view_count": null,
            "flex_flow": null,
            "width": null,
            "min_width": null,
            "border": null,
            "align_items": null,
            "bottom": null,
            "_model_module": "@jupyter-widgets/base",
            "top": null,
            "grid_column": null,
            "overflow_y": null,
            "overflow_x": null,
            "grid_auto_flow": null,
            "grid_area": null,
            "grid_template_columns": null,
            "flex": null,
            "_model_name": "LayoutModel",
            "justify_items": null,
            "grid_row": null,
            "max_height": null,
            "align_content": null,
            "visibility": null,
            "align_self": null,
            "height": null,
            "min_height": null,
            "padding": null,
            "grid_auto_rows": null,
            "grid_gap": null,
            "max_width": null,
            "order": null,
            "_view_module_version": "1.2.0",
            "grid_template_areas": null,
            "object_position": null,
            "object_fit": null,
            "grid_auto_columns": null,
            "margin": null,
            "display": null,
            "left": null
          }
        },
        "bd7e9d98946e4b58a124153fcd872de7": {
          "model_module": "@jupyter-widgets/controls",
          "model_name": "ProgressStyleModel",
          "model_module_version": "1.5.0",
          "state": {
            "_view_name": "StyleView",
            "_model_name": "ProgressStyleModel",
            "description_width": "",
            "_view_module": "@jupyter-widgets/base",
            "_model_module_version": "1.5.0",
            "_view_count": null,
            "_view_module_version": "1.2.0",
            "bar_color": null,
            "_model_module": "@jupyter-widgets/controls"
          }
        },
        "40eca151be0341b891610699a88f5153": {
          "model_module": "@jupyter-widgets/base",
          "model_name": "LayoutModel",
          "model_module_version": "1.2.0",
          "state": {
            "_view_name": "LayoutView",
            "grid_template_rows": null,
            "right": null,
            "justify_content": null,
            "_view_module": "@jupyter-widgets/base",
            "overflow": null,
            "_model_module_version": "1.2.0",
            "_view_count": null,
            "flex_flow": null,
            "width": null,
            "min_width": null,
            "border": null,
            "align_items": null,
            "bottom": null,
            "_model_module": "@jupyter-widgets/base",
            "top": null,
            "grid_column": null,
            "overflow_y": null,
            "overflow_x": null,
            "grid_auto_flow": null,
            "grid_area": null,
            "grid_template_columns": null,
            "flex": null,
            "_model_name": "LayoutModel",
            "justify_items": null,
            "grid_row": null,
            "max_height": null,
            "align_content": null,
            "visibility": null,
            "align_self": null,
            "height": null,
            "min_height": null,
            "padding": null,
            "grid_auto_rows": null,
            "grid_gap": null,
            "max_width": null,
            "order": null,
            "_view_module_version": "1.2.0",
            "grid_template_areas": null,
            "object_position": null,
            "object_fit": null,
            "grid_auto_columns": null,
            "margin": null,
            "display": null,
            "left": null
          }
        },
        "2d23326d786d4c5eaa76db37f2c487b6": {
          "model_module": "@jupyter-widgets/controls",
          "model_name": "DescriptionStyleModel",
          "model_module_version": "1.5.0",
          "state": {
            "_view_name": "StyleView",
            "_model_name": "DescriptionStyleModel",
            "description_width": "",
            "_view_module": "@jupyter-widgets/base",
            "_model_module_version": "1.5.0",
            "_view_count": null,
            "_view_module_version": "1.2.0",
            "_model_module": "@jupyter-widgets/controls"
          }
        },
        "4d5f0b5aae464486ae40e0c67ce3be76": {
          "model_module": "@jupyter-widgets/base",
          "model_name": "LayoutModel",
          "model_module_version": "1.2.0",
          "state": {
            "_view_name": "LayoutView",
            "grid_template_rows": null,
            "right": null,
            "justify_content": null,
            "_view_module": "@jupyter-widgets/base",
            "overflow": null,
            "_model_module_version": "1.2.0",
            "_view_count": null,
            "flex_flow": null,
            "width": null,
            "min_width": null,
            "border": null,
            "align_items": null,
            "bottom": null,
            "_model_module": "@jupyter-widgets/base",
            "top": null,
            "grid_column": null,
            "overflow_y": null,
            "overflow_x": null,
            "grid_auto_flow": null,
            "grid_area": null,
            "grid_template_columns": null,
            "flex": null,
            "_model_name": "LayoutModel",
            "justify_items": null,
            "grid_row": null,
            "max_height": null,
            "align_content": null,
            "visibility": null,
            "align_self": null,
            "height": null,
            "min_height": null,
            "padding": null,
            "grid_auto_rows": null,
            "grid_gap": null,
            "max_width": null,
            "order": null,
            "_view_module_version": "1.2.0",
            "grid_template_areas": null,
            "object_position": null,
            "object_fit": null,
            "grid_auto_columns": null,
            "margin": null,
            "display": null,
            "left": null
          }
        }
      }
    }
  },
  "cells": [
    {
      "cell_type": "markdown",
      "metadata": {
        "id": "MKctXVxWqzLm"
      },
      "source": [
        "# collect youtube ranking data and visualize only Selenium"
      ]
    },
    {
      "cell_type": "code",
      "metadata": {
        "colab": {
          "base_uri": "https://localhost:8080/"
        },
        "id": "XtVC69C9qrME",
        "outputId": "806db86c-c74f-4cd0-9616-1dc0ff521102"
      },
      "source": [
        "!apt-get update > /dev/null\n",
        "!pip install selenium > /dev/null\n",
        "!apt install chromium-chromedriver > /dev/null"
      ],
      "execution_count": 1,
      "outputs": [
        {
          "output_type": "stream",
          "text": [
            "\n",
            "WARNING: apt does not have a stable CLI interface. Use with caution in scripts.\n",
            "\n"
          ],
          "name": "stdout"
        }
      ]
    },
    {
      "cell_type": "code",
      "metadata": {
        "id": "4vO_kLfzq5Z-"
      },
      "source": [
        "from selenium import webdriver\n",
        "from selenium.webdriver.common.keys import Keys\n",
        "import time\n",
        "import pandas as pd"
      ],
      "execution_count": 13,
      "outputs": []
    },
    {
      "cell_type": "code",
      "metadata": {
        "id": "fdk5WicPrf0D"
      },
      "source": [
        "options = webdriver.ChromeOptions()\n",
        "options.add_argument('--headless')   # 화면없이 실행\n",
        "options.add_argument('--no-sandbox')\n",
        "options.add_argument('--single-process')\n",
        "options.add_argument('--disable-dev-shm-usage')\n",
        "driver = webdriver.Chrome('chromedriver', options=options)"
      ],
      "execution_count": 14,
      "outputs": []
    },
    {
      "cell_type": "code",
      "metadata": {
        "id": "Xk8Vq5gVrhIO"
      },
      "source": [
        "url = 'https://youtube-rank.com/board/bbs/board.php?bo_table=youtube&page=1'\n",
        "driver.get(url)\n",
        "# time.sleep(2)"
      ],
      "execution_count": 15,
      "outputs": []
    },
    {
      "cell_type": "code",
      "metadata": {
        "id": "Xnedm5sHrok-"
      },
      "source": [
        "# pop-up window exist, close pop-up and back to main window\n",
        "widnow_len = len(driver.window_handles)\n",
        "if widnow_len == 2:\n",
        "  driver.switch_to.window(driver.window_handles[1])\n",
        "  driver.close()\n",
        "\n",
        "driver.switch_to.window(driver.window_handles[0])\n",
        "\n",
        "# If you don't PAGE_DOWN, just show part of the page \n",
        "# so you have to PAGE_DOWN first\n",
        "body = driver.find_element_by_css_selector('body')\n",
        "for i in range(30):\n",
        "  body.send_keys(Keys.PAGE_DOWN)\n",
        "  time.sleep(1)"
      ],
      "execution_count": 21,
      "outputs": []
    },
    {
      "cell_type": "code",
      "metadata": {
        "id": "cyDoMRR2r2FB",
        "colab": {
          "base_uri": "https://localhost:8080/"
        },
        "outputId": "55025215-4d23-498c-8624-eb0fa3792443"
      },
      "source": [
        "# soup.select('form > table > tbody > tr')\n",
        "trs = driver.find_elements_by_css_selector('.aos-init')\n",
        "len(trs)"
      ],
      "execution_count": 22,
      "outputs": [
        {
          "output_type": "execute_result",
          "data": {
            "text/plain": [
              "100"
            ]
          },
          "metadata": {},
          "execution_count": 22
        }
      ]
    },
    {
      "cell_type": "code",
      "metadata": {
        "id": "e3O2T3A95gfz"
      },
      "source": [
        "def covert_unit(s):\n",
        "  \n",
        "  s = s.replace('억', '').replace('개', '').replace(',', '')\n",
        "  s = s.replace('만', '0000')\n",
        "  return f'{int(s):,d}'"
      ],
      "execution_count": 23,
      "outputs": []
    },
    {
      "cell_type": "code",
      "metadata": {
        "id": "bnzlmHL1-u6v"
      },
      "source": [
        "from tqdm.notebook import tqdm"
      ],
      "execution_count": 25,
      "outputs": []
    },
    {
      "cell_type": "code",
      "metadata": {
        "colab": {
          "base_uri": "https://localhost:8080/",
          "height": 48,
          "referenced_widgets": [
            "57d1421a26d34e42937ea657a1bb38a5",
            "4198d3debfbd4996aeb09e3889139c89",
            "2214bc95465d41cba0329f72ae1034f9",
            "4645909e61584f7cb08c8ffd1adb6f0f",
            "632cc9e7e3504331a32fa31118b20e38",
            "02aaa9e2a35d4cc28189064719d3a980",
            "fabf9e4d6f944a4bb209342bd7b10d68",
            "bd7e9d98946e4b58a124153fcd872de7",
            "40eca151be0341b891610699a88f5153",
            "2d23326d786d4c5eaa76db37f2c487b6",
            "4d5f0b5aae464486ae40e0c67ce3be76"
          ]
        },
        "id": "0jjX73RC38mA",
        "outputId": "5bfe1452-0135-4672-c146-0bf888819a53"
      },
      "source": [
        "results = []\n",
        "for page in tqdm(range(1,11)):\n",
        "  url = 'https://youtube-rank.com/board/bbs/board.php?bo_table=youtube&page=' + str(page)\n",
        "  driver.get(url)\n",
        "  time.sleep(3)\n",
        "\n",
        "  widnow_len = len(driver.window_handles)\n",
        "  if widnow_len == 2:\n",
        "    driver.switch_to.window(driver.window_handles[1])\n",
        "    driver.close()\n",
        "  driver.switch_to.window(driver.window_handles[0])\n",
        "\n",
        "  # If you don't PAGE_DOWN, just show part of the page \n",
        "  # so you have to PAGE_DOWN first\n",
        "  body = driver.find_element_by_css_selector('body')\n",
        "  for i in range(30):\n",
        "    body.send_keys(Keys.PAGE_DOWN)\n",
        "    time.sleep(1)\n",
        "\n",
        "  trs = driver.find_elements_by_css_selector('.aos-init')\n",
        "\n",
        "  for tr in trs:\n",
        "    category = tr.find_element_by_css_selector('p.category').text.strip(' \\n[]')\n",
        "  # category = channel.select_one('p.category').get_text().strip(' \\n[] ')\n",
        "    name = tr.find_element_by_css_selector('.subject a').text.strip()\n",
        "  # name = channel.select_one('.subject a').text.strip()\n",
        "    subscriber = covert_unit(tr.find_element_by_css_selector('.subscriber_cnt').text)\n",
        "  # subscriber = channel.select_one('.subscriber_cnt').text\n",
        "    view = covert_unit(tr.find_element_by_css_selector('.view_cnt').text)\n",
        "  # view = channel.select_one('.view_cnt').text\n",
        "    video = covert_unit(tr.find_element_by_css_selector('.video_cnt').text)\n",
        "  # video = channel.select_one('.video_cnt').text[:-1]\n",
        "    results.append([category, name, subscriber, view, video])"
      ],
      "execution_count": 27,
      "outputs": [
        {
          "output_type": "display_data",
          "data": {
            "application/vnd.jupyter.widget-view+json": {
              "model_id": "57d1421a26d34e42937ea657a1bb38a5",
              "version_minor": 0,
              "version_major": 2
            },
            "text/plain": [
              "  0%|          | 0/10 [00:00<?, ?it/s]"
            ]
          },
          "metadata": {}
        }
      ]
    },
    {
      "cell_type": "code",
      "metadata": {
        "colab": {
          "base_uri": "https://localhost:8080/",
          "height": 202
        },
        "id": "9eW1YZwY7IoR",
        "outputId": "70bb8064-6b03-462b-ae8d-afc5ef152c42"
      },
      "source": [
        "df = pd.DataFrame(results, columns=['카테고리','채널명','구독자수','조회수','비디오수'])\n",
        "df.head()"
      ],
      "execution_count": 29,
      "outputs": [
        {
          "output_type": "execute_result",
          "data": {
            "text/html": [
              "<div>\n",
              "<style scoped>\n",
              "    .dataframe tbody tr th:only-of-type {\n",
              "        vertical-align: middle;\n",
              "    }\n",
              "\n",
              "    .dataframe tbody tr th {\n",
              "        vertical-align: top;\n",
              "    }\n",
              "\n",
              "    .dataframe thead th {\n",
              "        text-align: right;\n",
              "    }\n",
              "</style>\n",
              "<table border=\"1\" class=\"dataframe\">\n",
              "  <thead>\n",
              "    <tr style=\"text-align: right;\">\n",
              "      <th></th>\n",
              "      <th>카테고리</th>\n",
              "      <th>채널명</th>\n",
              "      <th>구독자수</th>\n",
              "      <th>조회수</th>\n",
              "      <th>비디오수</th>\n",
              "    </tr>\n",
              "  </thead>\n",
              "  <tbody>\n",
              "    <tr>\n",
              "      <th>0</th>\n",
              "      <td>음악/댄스/가수</td>\n",
              "      <td>BLACKPINK</td>\n",
              "      <td>64,100,000</td>\n",
              "      <td>19,018,090,000</td>\n",
              "      <td>371</td>\n",
              "    </tr>\n",
              "    <tr>\n",
              "      <th>1</th>\n",
              "      <td>음악/댄스/가수</td>\n",
              "      <td>HYBE LABELS</td>\n",
              "      <td>60,400,000</td>\n",
              "      <td>18,775,490,000</td>\n",
              "      <td>655</td>\n",
              "    </tr>\n",
              "    <tr>\n",
              "      <th>2</th>\n",
              "      <td>음악/댄스/가수</td>\n",
              "      <td>BANGTANTV</td>\n",
              "      <td>56,500,000</td>\n",
              "      <td>12,212,970,000</td>\n",
              "      <td>1,581</td>\n",
              "    </tr>\n",
              "    <tr>\n",
              "      <th>3</th>\n",
              "      <td>음악/댄스/가수</td>\n",
              "      <td>SMTOWN</td>\n",
              "      <td>28,500,000</td>\n",
              "      <td>21,925,740,000</td>\n",
              "      <td>3,729</td>\n",
              "    </tr>\n",
              "    <tr>\n",
              "      <th>4</th>\n",
              "      <td>키즈/어린이</td>\n",
              "      <td>Boram Tube Vlog [보람튜브 브이로그]</td>\n",
              "      <td>26,500,000</td>\n",
              "      <td>11,052,880,000</td>\n",
              "      <td>223</td>\n",
              "    </tr>\n",
              "  </tbody>\n",
              "</table>\n",
              "</div>"
            ],
            "text/plain": [
              "       카테고리                          채널명        구독자수             조회수   비디오수\n",
              "0  음악/댄스/가수                    BLACKPINK  64,100,000  19,018,090,000    371\n",
              "1  음악/댄스/가수                  HYBE LABELS  60,400,000  18,775,490,000    655\n",
              "2  음악/댄스/가수                    BANGTANTV  56,500,000  12,212,970,000  1,581\n",
              "3  음악/댄스/가수                       SMTOWN  28,500,000  21,925,740,000  3,729\n",
              "4    키즈/어린이  Boram Tube Vlog [보람튜브 브이로그]  26,500,000  11,052,880,000    223"
            ]
          },
          "metadata": {},
          "execution_count": 29
        }
      ]
    },
    {
      "cell_type": "code",
      "metadata": {
        "colab": {
          "base_uri": "https://localhost:8080/",
          "height": 202
        },
        "id": "L-qdc3R_J_yQ",
        "outputId": "ad381b42-6242-4920-af1a-cc43e9ae8d4b"
      },
      "source": [
        "df.tail()"
      ],
      "execution_count": 30,
      "outputs": [
        {
          "output_type": "execute_result",
          "data": {
            "text/html": [
              "<div>\n",
              "<style scoped>\n",
              "    .dataframe tbody tr th:only-of-type {\n",
              "        vertical-align: middle;\n",
              "    }\n",
              "\n",
              "    .dataframe tbody tr th {\n",
              "        vertical-align: top;\n",
              "    }\n",
              "\n",
              "    .dataframe thead th {\n",
              "        text-align: right;\n",
              "    }\n",
              "</style>\n",
              "<table border=\"1\" class=\"dataframe\">\n",
              "  <thead>\n",
              "    <tr style=\"text-align: right;\">\n",
              "      <th></th>\n",
              "      <th>카테고리</th>\n",
              "      <th>채널명</th>\n",
              "      <th>구독자수</th>\n",
              "      <th>조회수</th>\n",
              "      <th>비디오수</th>\n",
              "    </tr>\n",
              "  </thead>\n",
              "  <tbody>\n",
              "    <tr>\n",
              "      <th>995</th>\n",
              "      <td>미분류</td>\n",
              "      <td>복지마블TV [Welfare Marble]</td>\n",
              "      <td>510,000</td>\n",
              "      <td>50,210,000</td>\n",
              "      <td>242</td>\n",
              "    </tr>\n",
              "    <tr>\n",
              "      <th>996</th>\n",
              "      <td>게임</td>\n",
              "      <td>OGN</td>\n",
              "      <td>510,000</td>\n",
              "      <td>609,090,000</td>\n",
              "      <td>27,433</td>\n",
              "    </tr>\n",
              "    <tr>\n",
              "      <th>997</th>\n",
              "      <td>게임</td>\n",
              "      <td>미소</td>\n",
              "      <td>510,000</td>\n",
              "      <td>210,780,000</td>\n",
              "      <td>3,084</td>\n",
              "    </tr>\n",
              "    <tr>\n",
              "      <th>998</th>\n",
              "      <td>음식/요리/레시피</td>\n",
              "      <td>Muggo</td>\n",
              "      <td>510,000</td>\n",
              "      <td>183,720,000</td>\n",
              "      <td>1,388</td>\n",
              "    </tr>\n",
              "    <tr>\n",
              "      <th>999</th>\n",
              "      <td>게임</td>\n",
              "      <td>두치와뿌꾸</td>\n",
              "      <td>510,000</td>\n",
              "      <td>780,240,000</td>\n",
              "      <td>9,901</td>\n",
              "    </tr>\n",
              "  </tbody>\n",
              "</table>\n",
              "</div>"
            ],
            "text/plain": [
              "          카테고리                      채널명     구독자수          조회수    비디오수\n",
              "995        미분류  복지마블TV [Welfare Marble]  510,000   50,210,000     242\n",
              "996         게임                      OGN  510,000  609,090,000  27,433\n",
              "997         게임                       미소  510,000  210,780,000   3,084\n",
              "998  음식/요리/레시피                    Muggo  510,000  183,720,000   1,388\n",
              "999         게임                    두치와뿌꾸  510,000  780,240,000   9,901"
            ]
          },
          "metadata": {},
          "execution_count": 30
        }
      ]
    },
    {
      "cell_type": "code",
      "metadata": {
        "id": "eOevlDtqK6rv"
      },
      "source": [
        ""
      ],
      "execution_count": null,
      "outputs": []
    }
  ]
}