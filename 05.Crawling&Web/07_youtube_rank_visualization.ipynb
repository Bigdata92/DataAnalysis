{
  "nbformat": 4,
  "nbformat_minor": 0,
  "metadata": {
    "colab": {
      "name": "07_youtube_rank_visualization.ipynb",
      "provenance": [],
      "collapsed_sections": []
    },
    "kernelspec": {
      "name": "python3",
      "display_name": "Python 3"
    },
    "language_info": {
      "name": "python"
    }
  },
  "cells": [
    {
      "cell_type": "markdown",
      "metadata": {
        "id": "89gHGQYRUU76"
      },
      "source": [
        "# youtube_rank_visualization"
      ]
    },
    {
      "cell_type": "code",
      "metadata": {
        "id": "fenPgo6bUH8Z"
      },
      "source": [
        "!apt-get install -y fonts-nanum > /dev/null\n",
        "!fc-cache -fv > /dev/null\n",
        "!rm -rf ~/.cache/matplotlib > /dev/null\n",
        "# 런타임 다시시작"
      ],
      "execution_count": 1,
      "outputs": []
    },
    {
      "cell_type": "code",
      "metadata": {
        "id": "zWdc8rsHUgCb"
      },
      "source": [
        "import numpy as np\n",
        "import pandas as pd\n",
        "import matplotlib as mpl\n",
        "import matplotlib.pyplot as plt\n",
        "mpl.rcParams['axes.unicode_minus'] = False\n",
        "plt.rc('font', family='NanumBarunGothic')"
      ],
      "execution_count": 1,
      "outputs": []
    },
    {
      "cell_type": "code",
      "metadata": {
        "colab": {
          "resources": {
            "http://localhost:8080/nbextensions/google.colab/files.js": {
              "data": "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",
              "ok": true,
              "headers": [
                [
                  "content-type",
                  "application/javascript"
                ]
              ],
              "status": 200,
              "status_text": ""
            }
          },
          "base_uri": "https://localhost:8080/",
          "height": 76
        },
        "id": "kzczcW67U54c",
        "outputId": "2e9df346-9fb1-4f7b-9973-9ba70a43ad62"
      },
      "source": [
        "from google.colab import files\n",
        "uploaded = files.upload()\n",
        "filename = list(uploaded.keys())[0]"
      ],
      "execution_count": 2,
      "outputs": [
        {
          "output_type": "display_data",
          "data": {
            "text/html": [
              "\n",
              "     <input type=\"file\" id=\"files-f75c7820-0256-4829-ab93-d0308852180e\" name=\"files[]\" multiple disabled\n",
              "        style=\"border:none\" />\n",
              "     <output id=\"result-f75c7820-0256-4829-ab93-d0308852180e\">\n",
              "      Upload widget is only available when the cell has been executed in the\n",
              "      current browser session. Please rerun this cell to enable.\n",
              "      </output>\n",
              "      <script src=\"/nbextensions/google.colab/files.js\"></script> "
            ],
            "text/plain": [
              "<IPython.core.display.HTML object>"
            ]
          },
          "metadata": {}
        },
        {
          "output_type": "stream",
          "text": [
            "Saving 유투브_순위.csv to 유투브_순위.csv\n"
          ],
          "name": "stdout"
        }
      ]
    },
    {
      "cell_type": "code",
      "metadata": {
        "colab": {
          "base_uri": "https://localhost:8080/",
          "height": 202
        },
        "id": "11ZITiAuVE9m",
        "outputId": "b7609db4-ba58-4a6b-e46d-6fd514d45948"
      },
      "source": [
        "df = pd.read_csv(filename)\n",
        "df.head()"
      ],
      "execution_count": 3,
      "outputs": [
        {
          "output_type": "execute_result",
          "data": {
            "text/html": [
              "<div>\n",
              "<style scoped>\n",
              "    .dataframe tbody tr th:only-of-type {\n",
              "        vertical-align: middle;\n",
              "    }\n",
              "\n",
              "    .dataframe tbody tr th {\n",
              "        vertical-align: top;\n",
              "    }\n",
              "\n",
              "    .dataframe thead th {\n",
              "        text-align: right;\n",
              "    }\n",
              "</style>\n",
              "<table border=\"1\" class=\"dataframe\">\n",
              "  <thead>\n",
              "    <tr style=\"text-align: right;\">\n",
              "      <th></th>\n",
              "      <th>카테고리</th>\n",
              "      <th>채널명</th>\n",
              "      <th>구독자수</th>\n",
              "      <th>조회수</th>\n",
              "      <th>비디오수</th>\n",
              "    </tr>\n",
              "  </thead>\n",
              "  <tbody>\n",
              "    <tr>\n",
              "      <th>0</th>\n",
              "      <td>음악/댄스/가수</td>\n",
              "      <td>BLACKPINK</td>\n",
              "      <td>64,100,000</td>\n",
              "      <td>19,018,090,000</td>\n",
              "      <td>371</td>\n",
              "    </tr>\n",
              "    <tr>\n",
              "      <th>1</th>\n",
              "      <td>음악/댄스/가수</td>\n",
              "      <td>HYBE LABELS</td>\n",
              "      <td>60,400,000</td>\n",
              "      <td>18,775,490,000</td>\n",
              "      <td>655</td>\n",
              "    </tr>\n",
              "    <tr>\n",
              "      <th>2</th>\n",
              "      <td>음악/댄스/가수</td>\n",
              "      <td>BANGTANTV</td>\n",
              "      <td>56,500,000</td>\n",
              "      <td>12,212,970,000</td>\n",
              "      <td>1,581</td>\n",
              "    </tr>\n",
              "    <tr>\n",
              "      <th>3</th>\n",
              "      <td>음악/댄스/가수</td>\n",
              "      <td>SMTOWN</td>\n",
              "      <td>28,500,000</td>\n",
              "      <td>21,925,740,000</td>\n",
              "      <td>3,729</td>\n",
              "    </tr>\n",
              "    <tr>\n",
              "      <th>4</th>\n",
              "      <td>키즈/어린이</td>\n",
              "      <td>Boram Tube Vlog [보람튜브 브이로그]</td>\n",
              "      <td>26,500,000</td>\n",
              "      <td>11,052,880,000</td>\n",
              "      <td>223</td>\n",
              "    </tr>\n",
              "  </tbody>\n",
              "</table>\n",
              "</div>"
            ],
            "text/plain": [
              "       카테고리                          채널명        구독자수             조회수   비디오수\n",
              "0  음악/댄스/가수                    BLACKPINK  64,100,000  19,018,090,000    371\n",
              "1  음악/댄스/가수                  HYBE LABELS  60,400,000  18,775,490,000    655\n",
              "2  음악/댄스/가수                    BANGTANTV  56,500,000  12,212,970,000  1,581\n",
              "3  음악/댄스/가수                       SMTOWN  28,500,000  21,925,740,000  3,729\n",
              "4    키즈/어린이  Boram Tube Vlog [보람튜브 브이로그]  26,500,000  11,052,880,000    223"
            ]
          },
          "metadata": {},
          "execution_count": 3
        }
      ]
    },
    {
      "cell_type": "code",
      "metadata": {
        "colab": {
          "base_uri": "https://localhost:8080/",
          "height": 202
        },
        "id": "ZlYUPk0pVRy1",
        "outputId": "bf401f21-adc0-4e29-e140-30da84a76529"
      },
      "source": [
        "# 구독자수(str) > 구독자수2(int) \n",
        "df['구독자수2'] = df.구독자수.apply(lambda x : int(x.replace(',', ''))) # one-time use\n",
        "df.head()"
      ],
      "execution_count": 4,
      "outputs": [
        {
          "output_type": "execute_result",
          "data": {
            "text/html": [
              "<div>\n",
              "<style scoped>\n",
              "    .dataframe tbody tr th:only-of-type {\n",
              "        vertical-align: middle;\n",
              "    }\n",
              "\n",
              "    .dataframe tbody tr th {\n",
              "        vertical-align: top;\n",
              "    }\n",
              "\n",
              "    .dataframe thead th {\n",
              "        text-align: right;\n",
              "    }\n",
              "</style>\n",
              "<table border=\"1\" class=\"dataframe\">\n",
              "  <thead>\n",
              "    <tr style=\"text-align: right;\">\n",
              "      <th></th>\n",
              "      <th>카테고리</th>\n",
              "      <th>채널명</th>\n",
              "      <th>구독자수</th>\n",
              "      <th>조회수</th>\n",
              "      <th>비디오수</th>\n",
              "      <th>구독자수2</th>\n",
              "    </tr>\n",
              "  </thead>\n",
              "  <tbody>\n",
              "    <tr>\n",
              "      <th>0</th>\n",
              "      <td>음악/댄스/가수</td>\n",
              "      <td>BLACKPINK</td>\n",
              "      <td>64,100,000</td>\n",
              "      <td>19,018,090,000</td>\n",
              "      <td>371</td>\n",
              "      <td>64100000</td>\n",
              "    </tr>\n",
              "    <tr>\n",
              "      <th>1</th>\n",
              "      <td>음악/댄스/가수</td>\n",
              "      <td>HYBE LABELS</td>\n",
              "      <td>60,400,000</td>\n",
              "      <td>18,775,490,000</td>\n",
              "      <td>655</td>\n",
              "      <td>60400000</td>\n",
              "    </tr>\n",
              "    <tr>\n",
              "      <th>2</th>\n",
              "      <td>음악/댄스/가수</td>\n",
              "      <td>BANGTANTV</td>\n",
              "      <td>56,500,000</td>\n",
              "      <td>12,212,970,000</td>\n",
              "      <td>1,581</td>\n",
              "      <td>56500000</td>\n",
              "    </tr>\n",
              "    <tr>\n",
              "      <th>3</th>\n",
              "      <td>음악/댄스/가수</td>\n",
              "      <td>SMTOWN</td>\n",
              "      <td>28,500,000</td>\n",
              "      <td>21,925,740,000</td>\n",
              "      <td>3,729</td>\n",
              "      <td>28500000</td>\n",
              "    </tr>\n",
              "    <tr>\n",
              "      <th>4</th>\n",
              "      <td>키즈/어린이</td>\n",
              "      <td>Boram Tube Vlog [보람튜브 브이로그]</td>\n",
              "      <td>26,500,000</td>\n",
              "      <td>11,052,880,000</td>\n",
              "      <td>223</td>\n",
              "      <td>26500000</td>\n",
              "    </tr>\n",
              "  </tbody>\n",
              "</table>\n",
              "</div>"
            ],
            "text/plain": [
              "       카테고리                          채널명  ...   비디오수     구독자수2\n",
              "0  음악/댄스/가수                    BLACKPINK  ...    371  64100000\n",
              "1  음악/댄스/가수                  HYBE LABELS  ...    655  60400000\n",
              "2  음악/댄스/가수                    BANGTANTV  ...  1,581  56500000\n",
              "3  음악/댄스/가수                       SMTOWN  ...  3,729  28500000\n",
              "4    키즈/어린이  Boram Tube Vlog [보람튜브 브이로그]  ...    223  26500000\n",
              "\n",
              "[5 rows x 6 columns]"
            ]
          },
          "metadata": {},
          "execution_count": 4
        }
      ]
    },
    {
      "cell_type": "code",
      "metadata": {
        "id": "2ZTQoBldVYDl"
      },
      "source": [
        "def str2int(x): # multiple-time use\n",
        "  return int(x.replace(',', ''))"
      ],
      "execution_count": 5,
      "outputs": []
    },
    {
      "cell_type": "code",
      "metadata": {
        "colab": {
          "base_uri": "https://localhost:8080/",
          "height": 202
        },
        "id": "e-oar38PWhst",
        "outputId": "132b4d01-45b8-4143-9367-8ccd6bc2cdb2"
      },
      "source": [
        "df['비디오수2'] = df.비디오수.apply(str2int)\n",
        "df.head()"
      ],
      "execution_count": 6,
      "outputs": [
        {
          "output_type": "execute_result",
          "data": {
            "text/html": [
              "<div>\n",
              "<style scoped>\n",
              "    .dataframe tbody tr th:only-of-type {\n",
              "        vertical-align: middle;\n",
              "    }\n",
              "\n",
              "    .dataframe tbody tr th {\n",
              "        vertical-align: top;\n",
              "    }\n",
              "\n",
              "    .dataframe thead th {\n",
              "        text-align: right;\n",
              "    }\n",
              "</style>\n",
              "<table border=\"1\" class=\"dataframe\">\n",
              "  <thead>\n",
              "    <tr style=\"text-align: right;\">\n",
              "      <th></th>\n",
              "      <th>카테고리</th>\n",
              "      <th>채널명</th>\n",
              "      <th>구독자수</th>\n",
              "      <th>조회수</th>\n",
              "      <th>비디오수</th>\n",
              "      <th>구독자수2</th>\n",
              "      <th>비디오수2</th>\n",
              "    </tr>\n",
              "  </thead>\n",
              "  <tbody>\n",
              "    <tr>\n",
              "      <th>0</th>\n",
              "      <td>음악/댄스/가수</td>\n",
              "      <td>BLACKPINK</td>\n",
              "      <td>64,100,000</td>\n",
              "      <td>19,018,090,000</td>\n",
              "      <td>371</td>\n",
              "      <td>64100000</td>\n",
              "      <td>371</td>\n",
              "    </tr>\n",
              "    <tr>\n",
              "      <th>1</th>\n",
              "      <td>음악/댄스/가수</td>\n",
              "      <td>HYBE LABELS</td>\n",
              "      <td>60,400,000</td>\n",
              "      <td>18,775,490,000</td>\n",
              "      <td>655</td>\n",
              "      <td>60400000</td>\n",
              "      <td>655</td>\n",
              "    </tr>\n",
              "    <tr>\n",
              "      <th>2</th>\n",
              "      <td>음악/댄스/가수</td>\n",
              "      <td>BANGTANTV</td>\n",
              "      <td>56,500,000</td>\n",
              "      <td>12,212,970,000</td>\n",
              "      <td>1,581</td>\n",
              "      <td>56500000</td>\n",
              "      <td>1581</td>\n",
              "    </tr>\n",
              "    <tr>\n",
              "      <th>3</th>\n",
              "      <td>음악/댄스/가수</td>\n",
              "      <td>SMTOWN</td>\n",
              "      <td>28,500,000</td>\n",
              "      <td>21,925,740,000</td>\n",
              "      <td>3,729</td>\n",
              "      <td>28500000</td>\n",
              "      <td>3729</td>\n",
              "    </tr>\n",
              "    <tr>\n",
              "      <th>4</th>\n",
              "      <td>키즈/어린이</td>\n",
              "      <td>Boram Tube Vlog [보람튜브 브이로그]</td>\n",
              "      <td>26,500,000</td>\n",
              "      <td>11,052,880,000</td>\n",
              "      <td>223</td>\n",
              "      <td>26500000</td>\n",
              "      <td>223</td>\n",
              "    </tr>\n",
              "  </tbody>\n",
              "</table>\n",
              "</div>"
            ],
            "text/plain": [
              "       카테고리                          채널명        구독자수  ...   비디오수     구독자수2  비디오수2\n",
              "0  음악/댄스/가수                    BLACKPINK  64,100,000  ...    371  64100000    371\n",
              "1  음악/댄스/가수                  HYBE LABELS  60,400,000  ...    655  60400000    655\n",
              "2  음악/댄스/가수                    BANGTANTV  56,500,000  ...  1,581  56500000   1581\n",
              "3  음악/댄스/가수                       SMTOWN  28,500,000  ...  3,729  28500000   3729\n",
              "4    키즈/어린이  Boram Tube Vlog [보람튜브 브이로그]  26,500,000  ...    223  26500000    223\n",
              "\n",
              "[5 rows x 7 columns]"
            ]
          },
          "metadata": {},
          "execution_count": 6
        }
      ]
    },
    {
      "cell_type": "markdown",
      "metadata": {
        "id": "-ItuRqXuXV63"
      },
      "source": [
        "- 비디오수 top20 (채널명, 비디오수) bar-graph"
      ]
    },
    {
      "cell_type": "code",
      "metadata": {
        "colab": {
          "base_uri": "https://localhost:8080/",
          "height": 355
        },
        "id": "yHgrkQQUW77w",
        "outputId": "2c144e2d-6657-4f15-bee4-bfde0ce60a65"
      },
      "source": [
        " df.sort_values(by='비디오수2', ascending=False).head(10)"
      ],
      "execution_count": 7,
      "outputs": [
        {
          "output_type": "execute_result",
          "data": {
            "text/html": [
              "<div>\n",
              "<style scoped>\n",
              "    .dataframe tbody tr th:only-of-type {\n",
              "        vertical-align: middle;\n",
              "    }\n",
              "\n",
              "    .dataframe tbody tr th {\n",
              "        vertical-align: top;\n",
              "    }\n",
              "\n",
              "    .dataframe thead th {\n",
              "        text-align: right;\n",
              "    }\n",
              "</style>\n",
              "<table border=\"1\" class=\"dataframe\">\n",
              "  <thead>\n",
              "    <tr style=\"text-align: right;\">\n",
              "      <th></th>\n",
              "      <th>카테고리</th>\n",
              "      <th>채널명</th>\n",
              "      <th>구독자수</th>\n",
              "      <th>조회수</th>\n",
              "      <th>비디오수</th>\n",
              "      <th>구독자수2</th>\n",
              "      <th>비디오수2</th>\n",
              "    </tr>\n",
              "  </thead>\n",
              "  <tbody>\n",
              "    <tr>\n",
              "      <th>154</th>\n",
              "      <td>뉴스/정치/사회</td>\n",
              "      <td>YTN news</td>\n",
              "      <td>2,500,000</td>\n",
              "      <td>5,472,290,000</td>\n",
              "      <td>553,828</td>\n",
              "      <td>2500000</td>\n",
              "      <td>553828</td>\n",
              "    </tr>\n",
              "    <tr>\n",
              "      <th>707</th>\n",
              "      <td>뉴스/정치/사회</td>\n",
              "      <td>연합뉴스TV</td>\n",
              "      <td>700,000</td>\n",
              "      <td>921,360,000</td>\n",
              "      <td>362,917</td>\n",
              "      <td>700000</td>\n",
              "      <td>362917</td>\n",
              "    </tr>\n",
              "    <tr>\n",
              "      <th>60</th>\n",
              "      <td>TV/방송</td>\n",
              "      <td>SBS Drama</td>\n",
              "      <td>5,490,000</td>\n",
              "      <td>5,757,750,000</td>\n",
              "      <td>340,880</td>\n",
              "      <td>5490000</td>\n",
              "      <td>340880</td>\n",
              "    </tr>\n",
              "    <tr>\n",
              "      <th>56</th>\n",
              "      <td>TV/방송</td>\n",
              "      <td>SBS Entertainment</td>\n",
              "      <td>5,730,000</td>\n",
              "      <td>6,677,740,000</td>\n",
              "      <td>216,786</td>\n",
              "      <td>5730000</td>\n",
              "      <td>216786</td>\n",
              "    </tr>\n",
              "    <tr>\n",
              "      <th>337</th>\n",
              "      <td>뉴스/정치/사회</td>\n",
              "      <td>KBS News</td>\n",
              "      <td>1,320,000</td>\n",
              "      <td>1,848,670,000</td>\n",
              "      <td>176,412</td>\n",
              "      <td>1320000</td>\n",
              "      <td>176412</td>\n",
              "    </tr>\n",
              "    <tr>\n",
              "      <th>968</th>\n",
              "      <td>뉴스/정치/사회</td>\n",
              "      <td>Arirang News</td>\n",
              "      <td>530,000</td>\n",
              "      <td>237,800,000</td>\n",
              "      <td>123,984</td>\n",
              "      <td>530000</td>\n",
              "      <td>123984</td>\n",
              "    </tr>\n",
              "    <tr>\n",
              "      <th>244</th>\n",
              "      <td>뉴스/정치/사회</td>\n",
              "      <td>JTBC News</td>\n",
              "      <td>1,710,000</td>\n",
              "      <td>2,417,270,000</td>\n",
              "      <td>116,717</td>\n",
              "      <td>1710000</td>\n",
              "      <td>116717</td>\n",
              "    </tr>\n",
              "    <tr>\n",
              "      <th>287</th>\n",
              "      <td>뉴스/정치/사회</td>\n",
              "      <td>MBCNEWS</td>\n",
              "      <td>1,510,000</td>\n",
              "      <td>3,402,340,000</td>\n",
              "      <td>115,638</td>\n",
              "      <td>1510000</td>\n",
              "      <td>115638</td>\n",
              "    </tr>\n",
              "    <tr>\n",
              "      <th>112</th>\n",
              "      <td>TV/방송</td>\n",
              "      <td>KBS Drama</td>\n",
              "      <td>3,470,000</td>\n",
              "      <td>4,266,300,000</td>\n",
              "      <td>114,166</td>\n",
              "      <td>3470000</td>\n",
              "      <td>114166</td>\n",
              "    </tr>\n",
              "    <tr>\n",
              "      <th>230</th>\n",
              "      <td>뉴스/정치/사회</td>\n",
              "      <td>SBS 뉴스</td>\n",
              "      <td>1,780,000</td>\n",
              "      <td>2,684,970,000</td>\n",
              "      <td>111,502</td>\n",
              "      <td>1780000</td>\n",
              "      <td>111502</td>\n",
              "    </tr>\n",
              "  </tbody>\n",
              "</table>\n",
              "</div>"
            ],
            "text/plain": [
              "         카테고리                채널명       구독자수  ...     비디오수    구독자수2   비디오수2\n",
              "154  뉴스/정치/사회           YTN news  2,500,000  ...  553,828  2500000  553828\n",
              "707  뉴스/정치/사회             연합뉴스TV    700,000  ...  362,917   700000  362917\n",
              "60      TV/방송          SBS Drama  5,490,000  ...  340,880  5490000  340880\n",
              "56      TV/방송  SBS Entertainment  5,730,000  ...  216,786  5730000  216786\n",
              "337  뉴스/정치/사회           KBS News  1,320,000  ...  176,412  1320000  176412\n",
              "968  뉴스/정치/사회       Arirang News    530,000  ...  123,984   530000  123984\n",
              "244  뉴스/정치/사회          JTBC News  1,710,000  ...  116,717  1710000  116717\n",
              "287  뉴스/정치/사회            MBCNEWS  1,510,000  ...  115,638  1510000  115638\n",
              "112     TV/방송          KBS Drama  3,470,000  ...  114,166  3470000  114166\n",
              "230  뉴스/정치/사회             SBS 뉴스  1,780,000  ...  111,502  1780000  111502\n",
              "\n",
              "[10 rows x 7 columns]"
            ]
          },
          "metadata": {},
          "execution_count": 7
        }
      ]
    },
    {
      "cell_type": "code",
      "metadata": {
        "colab": {
          "base_uri": "https://localhost:8080/",
          "height": 280
        },
        "id": "gL2dKiuVX2jK",
        "outputId": "648fc887-522b-4579-f4c2-370065b9a202"
      },
      "source": [
        "df2 = df.sort_values(by='비디오수2', ascending=False).head(20)\n",
        "\n",
        "plt.title('비디오수 top20 (채널명, 비디오수) bar-graph')\n",
        "plt.barh(df2.채널명, df2.비디오수2)\n",
        "plt.show()"
      ],
      "execution_count": 8,
      "outputs": [
        {
          "output_type": "display_data",
          "data": {
            "image/png": "[encoded data removed]",
            "text/plain": [
              "<Figure size 432x288 with 1 Axes>"
            ]
          },
          "metadata": {
            "needs_background": "light"
          }
        }
      ]
    },
    {
      "cell_type": "code",
      "metadata": {
        "colab": {
          "base_uri": "https://localhost:8080/",
          "height": 497
        },
        "id": "dl41w4puZXIx",
        "outputId": "9ff5c5b1-54ef-4036-d190-e02513abfded"
      },
      "source": [
        "df2 = df[['채널명', '비디오수2']].sort_values(by='비디오수2', ascending=False)\n",
        "df2.set_index('채널명', inplace=True)\n",
        "df2.head(20).sort_values(by='비디오수2').plot(kind='barh', grid=True, figsize=(12,8))\n",
        "plt.title('비디오수 top20 (채널명, 비디오수) bar-graph')\n",
        "plt.show()"
      ],
      "execution_count": 9,
      "outputs": [
        {
          "output_type": "display_data",
          "data": {
            "image/png": "[encoded data removed]",
            "text/plain": [
              "<Figure size 864x576 with 1 Axes>"
            ]
          },
          "metadata": {
            "needs_background": "light"
          }
        }
      ]
    },
    {
      "cell_type": "code",
      "metadata": {
        "colab": {
          "base_uri": "https://localhost:8080/",
          "height": 512
        },
        "id": "v8peQuyucn32",
        "outputId": "97191377-3765-4d18-c804-1cea094a78ac"
      },
      "source": [
        "import seaborn as sns\n",
        "df2 = df[['채널명', '비디오수2']].sort_values(by='비디오수2', ascending=False)\n",
        "plt.figure(figsize=(12,8))\n",
        "sns.barplot(y='채널명', x='비디오수2', data=df2.head(20))\n",
        "plt.title('비디오수 top20 (채널명, 비디오수) bar-graph')\n",
        "plt.show()"
      ],
      "execution_count": 10,
      "outputs": [
        {
          "output_type": "display_data",
          "data": {
            "image/png": "[encoded data removed]",
            "text/plain": [
              "<Figure size 864x576 with 1 Axes>"
            ]
          },
          "metadata": {
            "needs_background": "light"
          }
        }
      ]
    },
    {
      "cell_type": "markdown",
      "metadata": {
        "id": "CnDf6J9ygSgE"
      },
      "source": [
        "- 조회수 기준 top20 시각화"
      ]
    },
    {
      "cell_type": "code",
      "metadata": {
        "colab": {
          "base_uri": "https://localhost:8080/",
          "height": 414
        },
        "id": "NqoJ2HsIeOt-",
        "outputId": "5b38a703-bc37-42b4-eed7-768564939e66"
      },
      "source": [
        "df3 = df[['채널명', '조회수']]\n",
        "df3"
      ],
      "execution_count": 11,
      "outputs": [
        {
          "output_type": "execute_result",
          "data": {
            "text/html": [
              "<div>\n",
              "<style scoped>\n",
              "    .dataframe tbody tr th:only-of-type {\n",
              "        vertical-align: middle;\n",
              "    }\n",
              "\n",
              "    .dataframe tbody tr th {\n",
              "        vertical-align: top;\n",
              "    }\n",
              "\n",
              "    .dataframe thead th {\n",
              "        text-align: right;\n",
              "    }\n",
              "</style>\n",
              "<table border=\"1\" class=\"dataframe\">\n",
              "  <thead>\n",
              "    <tr style=\"text-align: right;\">\n",
              "      <th></th>\n",
              "      <th>채널명</th>\n",
              "      <th>조회수</th>\n",
              "    </tr>\n",
              "  </thead>\n",
              "  <tbody>\n",
              "    <tr>\n",
              "      <th>0</th>\n",
              "      <td>BLACKPINK</td>\n",
              "      <td>19,018,090,000</td>\n",
              "    </tr>\n",
              "    <tr>\n",
              "      <th>1</th>\n",
              "      <td>HYBE LABELS</td>\n",
              "      <td>18,775,490,000</td>\n",
              "    </tr>\n",
              "    <tr>\n",
              "      <th>2</th>\n",
              "      <td>BANGTANTV</td>\n",
              "      <td>12,212,970,000</td>\n",
              "    </tr>\n",
              "    <tr>\n",
              "      <th>3</th>\n",
              "      <td>SMTOWN</td>\n",
              "      <td>21,925,740,000</td>\n",
              "    </tr>\n",
              "    <tr>\n",
              "      <th>4</th>\n",
              "      <td>Boram Tube Vlog [보람튜브 브이로그]</td>\n",
              "      <td>11,052,880,000</td>\n",
              "    </tr>\n",
              "    <tr>\n",
              "      <th>...</th>\n",
              "      <td>...</td>\n",
              "      <td>...</td>\n",
              "    </tr>\n",
              "    <tr>\n",
              "      <th>995</th>\n",
              "      <td>복지마블TV [Welfare Marble]</td>\n",
              "      <td>50,210,000</td>\n",
              "    </tr>\n",
              "    <tr>\n",
              "      <th>996</th>\n",
              "      <td>OGN</td>\n",
              "      <td>609,090,000</td>\n",
              "    </tr>\n",
              "    <tr>\n",
              "      <th>997</th>\n",
              "      <td>미소</td>\n",
              "      <td>210,780,000</td>\n",
              "    </tr>\n",
              "    <tr>\n",
              "      <th>998</th>\n",
              "      <td>Muggo</td>\n",
              "      <td>183,720,000</td>\n",
              "    </tr>\n",
              "    <tr>\n",
              "      <th>999</th>\n",
              "      <td>두치와뿌꾸</td>\n",
              "      <td>780,240,000</td>\n",
              "    </tr>\n",
              "  </tbody>\n",
              "</table>\n",
              "<p>1000 rows × 2 columns</p>\n",
              "</div>"
            ],
            "text/plain": [
              "                             채널명             조회수\n",
              "0                      BLACKPINK  19,018,090,000\n",
              "1                    HYBE LABELS  18,775,490,000\n",
              "2                      BANGTANTV  12,212,970,000\n",
              "3                         SMTOWN  21,925,740,000\n",
              "4    Boram Tube Vlog [보람튜브 브이로그]  11,052,880,000\n",
              "..                           ...             ...\n",
              "995      복지마블TV [Welfare Marble]      50,210,000\n",
              "996                          OGN     609,090,000\n",
              "997                           미소     210,780,000\n",
              "998                        Muggo     183,720,000\n",
              "999                        두치와뿌꾸     780,240,000\n",
              "\n",
              "[1000 rows x 2 columns]"
            ]
          },
          "metadata": {},
          "execution_count": 11
        }
      ]
    },
    {
      "cell_type": "code",
      "metadata": {
        "colab": {
          "base_uri": "https://localhost:8080/",
          "height": 527
        },
        "id": "NV8UDw_Rgh02",
        "outputId": "b148a7e8-0a51-4f3f-f3f4-2affb184456e"
      },
      "source": [
        "df3.조회수 = df3.조회수.apply(str2int)\n",
        "df3"
      ],
      "execution_count": 12,
      "outputs": [
        {
          "output_type": "stream",
          "text": [
            "/usr/local/lib/python3.7/dist-packages/pandas/core/generic.py:5170: SettingWithCopyWarning: \n",
            "A value is trying to be set on a copy of a slice from a DataFrame.\n",
            "Try using .loc[row_indexer,col_indexer] = value instead\n",
            "\n",
            "See the caveats in the documentation: https://pandas.pydata.org/pandas-docs/stable/user_guide/indexing.html#returning-a-view-versus-a-copy\n",
            "  self[name] = value\n"
          ],
          "name": "stderr"
        },
        {
          "output_type": "execute_result",
          "data": {
            "text/html": [
              "<div>\n",
              "<style scoped>\n",
              "    .dataframe tbody tr th:only-of-type {\n",
              "        vertical-align: middle;\n",
              "    }\n",
              "\n",
              "    .dataframe tbody tr th {\n",
              "        vertical-align: top;\n",
              "    }\n",
              "\n",
              "    .dataframe thead th {\n",
              "        text-align: right;\n",
              "    }\n",
              "</style>\n",
              "<table border=\"1\" class=\"dataframe\">\n",
              "  <thead>\n",
              "    <tr style=\"text-align: right;\">\n",
              "      <th></th>\n",
              "      <th>채널명</th>\n",
              "      <th>조회수</th>\n",
              "    </tr>\n",
              "  </thead>\n",
              "  <tbody>\n",
              "    <tr>\n",
              "      <th>0</th>\n",
              "      <td>BLACKPINK</td>\n",
              "      <td>19018090000</td>\n",
              "    </tr>\n",
              "    <tr>\n",
              "      <th>1</th>\n",
              "      <td>HYBE LABELS</td>\n",
              "      <td>18775490000</td>\n",
              "    </tr>\n",
              "    <tr>\n",
              "      <th>2</th>\n",
              "      <td>BANGTANTV</td>\n",
              "      <td>12212970000</td>\n",
              "    </tr>\n",
              "    <tr>\n",
              "      <th>3</th>\n",
              "      <td>SMTOWN</td>\n",
              "      <td>21925740000</td>\n",
              "    </tr>\n",
              "    <tr>\n",
              "      <th>4</th>\n",
              "      <td>Boram Tube Vlog [보람튜브 브이로그]</td>\n",
              "      <td>11052880000</td>\n",
              "    </tr>\n",
              "    <tr>\n",
              "      <th>...</th>\n",
              "      <td>...</td>\n",
              "      <td>...</td>\n",
              "    </tr>\n",
              "    <tr>\n",
              "      <th>995</th>\n",
              "      <td>복지마블TV [Welfare Marble]</td>\n",
              "      <td>50210000</td>\n",
              "    </tr>\n",
              "    <tr>\n",
              "      <th>996</th>\n",
              "      <td>OGN</td>\n",
              "      <td>609090000</td>\n",
              "    </tr>\n",
              "    <tr>\n",
              "      <th>997</th>\n",
              "      <td>미소</td>\n",
              "      <td>210780000</td>\n",
              "    </tr>\n",
              "    <tr>\n",
              "      <th>998</th>\n",
              "      <td>Muggo</td>\n",
              "      <td>183720000</td>\n",
              "    </tr>\n",
              "    <tr>\n",
              "      <th>999</th>\n",
              "      <td>두치와뿌꾸</td>\n",
              "      <td>780240000</td>\n",
              "    </tr>\n",
              "  </tbody>\n",
              "</table>\n",
              "<p>1000 rows × 2 columns</p>\n",
              "</div>"
            ],
            "text/plain": [
              "                             채널명          조회수\n",
              "0                      BLACKPINK  19018090000\n",
              "1                    HYBE LABELS  18775490000\n",
              "2                      BANGTANTV  12212970000\n",
              "3                         SMTOWN  21925740000\n",
              "4    Boram Tube Vlog [보람튜브 브이로그]  11052880000\n",
              "..                           ...          ...\n",
              "995      복지마블TV [Welfare Marble]     50210000\n",
              "996                          OGN    609090000\n",
              "997                           미소    210780000\n",
              "998                        Muggo    183720000\n",
              "999                        두치와뿌꾸    780240000\n",
              "\n",
              "[1000 rows x 2 columns]"
            ]
          },
          "metadata": {},
          "execution_count": 12
        }
      ]
    },
    {
      "cell_type": "code",
      "metadata": {
        "colab": {
          "base_uri": "https://localhost:8080/",
          "height": 662
        },
        "id": "ErATNxnChj6-",
        "outputId": "8f9f97cf-5455-441b-bb8d-d59b367b7e9b"
      },
      "source": [
        "df3.sort_values(by='조회수', ascending=False).head(20)"
      ],
      "execution_count": 13,
      "outputs": [
        {
          "output_type": "execute_result",
          "data": {
            "text/html": [
              "<div>\n",
              "<style scoped>\n",
              "    .dataframe tbody tr th:only-of-type {\n",
              "        vertical-align: middle;\n",
              "    }\n",
              "\n",
              "    .dataframe tbody tr th {\n",
              "        vertical-align: top;\n",
              "    }\n",
              "\n",
              "    .dataframe thead th {\n",
              "        text-align: right;\n",
              "    }\n",
              "</style>\n",
              "<table border=\"1\" class=\"dataframe\">\n",
              "  <thead>\n",
              "    <tr style=\"text-align: right;\">\n",
              "      <th></th>\n",
              "      <th>채널명</th>\n",
              "      <th>조회수</th>\n",
              "    </tr>\n",
              "  </thead>\n",
              "  <tbody>\n",
              "    <tr>\n",
              "      <th>3</th>\n",
              "      <td>SMTOWN</td>\n",
              "      <td>21925740000</td>\n",
              "    </tr>\n",
              "    <tr>\n",
              "      <th>6</th>\n",
              "      <td>1theK (원더케이)</td>\n",
              "      <td>20621630000</td>\n",
              "    </tr>\n",
              "    <tr>\n",
              "      <th>0</th>\n",
              "      <td>BLACKPINK</td>\n",
              "      <td>19018090000</td>\n",
              "    </tr>\n",
              "    <tr>\n",
              "      <th>1</th>\n",
              "      <td>HYBE LABELS</td>\n",
              "      <td>18775490000</td>\n",
              "    </tr>\n",
              "    <tr>\n",
              "      <th>26</th>\n",
              "      <td>MBCentertainment</td>\n",
              "      <td>14336180000</td>\n",
              "    </tr>\n",
              "    <tr>\n",
              "      <th>7</th>\n",
              "      <td>JYP Entertainment</td>\n",
              "      <td>13750840000</td>\n",
              "    </tr>\n",
              "    <tr>\n",
              "      <th>9</th>\n",
              "      <td>Mnet K-POP</td>\n",
              "      <td>12982140000</td>\n",
              "    </tr>\n",
              "    <tr>\n",
              "      <th>8</th>\n",
              "      <td>Coldplay</td>\n",
              "      <td>12776030000</td>\n",
              "    </tr>\n",
              "    <tr>\n",
              "      <th>11</th>\n",
              "      <td>KBS WORLD TV</td>\n",
              "      <td>12374030000</td>\n",
              "    </tr>\n",
              "    <tr>\n",
              "      <th>2</th>\n",
              "      <td>BANGTANTV</td>\n",
              "      <td>12212970000</td>\n",
              "    </tr>\n",
              "    <tr>\n",
              "      <th>4</th>\n",
              "      <td>Boram Tube Vlog [보람튜브 브이로그]</td>\n",
              "      <td>11052880000</td>\n",
              "    </tr>\n",
              "    <tr>\n",
              "      <th>40</th>\n",
              "      <td>JTBC Entertainment</td>\n",
              "      <td>9730420000</td>\n",
              "    </tr>\n",
              "    <tr>\n",
              "      <th>27</th>\n",
              "      <td>Mnet Official</td>\n",
              "      <td>9069970000</td>\n",
              "    </tr>\n",
              "    <tr>\n",
              "      <th>12</th>\n",
              "      <td>officialpsy</td>\n",
              "      <td>8626750000</td>\n",
              "    </tr>\n",
              "    <tr>\n",
              "      <th>17</th>\n",
              "      <td>Stone Music Entertainment</td>\n",
              "      <td>7873090000</td>\n",
              "    </tr>\n",
              "    <tr>\n",
              "      <th>25</th>\n",
              "      <td>The Late Show with Stephen Colbert</td>\n",
              "      <td>7836780000</td>\n",
              "    </tr>\n",
              "    <tr>\n",
              "      <th>21</th>\n",
              "      <td>MBCkpop</td>\n",
              "      <td>7368470000</td>\n",
              "    </tr>\n",
              "    <tr>\n",
              "      <th>74</th>\n",
              "      <td>KBS Entertain</td>\n",
              "      <td>7061170000</td>\n",
              "    </tr>\n",
              "    <tr>\n",
              "      <th>5</th>\n",
              "      <td>1MILLION Dance Studio</td>\n",
              "      <td>6701160000</td>\n",
              "    </tr>\n",
              "    <tr>\n",
              "      <th>14</th>\n",
              "      <td>BIGBANG</td>\n",
              "      <td>6679980000</td>\n",
              "    </tr>\n",
              "  </tbody>\n",
              "</table>\n",
              "</div>"
            ],
            "text/plain": [
              "                                   채널명          조회수\n",
              "3                               SMTOWN  21925740000\n",
              "6                         1theK (원더케이)  20621630000\n",
              "0                            BLACKPINK  19018090000\n",
              "1                          HYBE LABELS  18775490000\n",
              "26                    MBCentertainment  14336180000\n",
              "7                    JYP Entertainment  13750840000\n",
              "9                           Mnet K-POP  12982140000\n",
              "8                             Coldplay  12776030000\n",
              "11                        KBS WORLD TV  12374030000\n",
              "2                            BANGTANTV  12212970000\n",
              "4          Boram Tube Vlog [보람튜브 브이로그]  11052880000\n",
              "40                  JTBC Entertainment   9730420000\n",
              "27                       Mnet Official   9069970000\n",
              "12                         officialpsy   8626750000\n",
              "17           Stone Music Entertainment   7873090000\n",
              "25  The Late Show with Stephen Colbert   7836780000\n",
              "21                             MBCkpop   7368470000\n",
              "74                       KBS Entertain   7061170000\n",
              "5                1MILLION Dance Studio   6701160000\n",
              "14                             BIGBANG   6679980000"
            ]
          },
          "metadata": {},
          "execution_count": 13
        }
      ]
    },
    {
      "cell_type": "code",
      "metadata": {
        "colab": {
          "base_uri": "https://localhost:8080/",
          "height": 512
        },
        "id": "f2Mz-6qVg9Jo",
        "outputId": "7d6c2f2d-78a9-48ce-f415-797b6d92b972"
      },
      "source": [
        "plt.figure(figsize=(12,8))\n",
        "sns.barplot(x='조회수', y='채널명', data=df3.sort_values(by='조회수', ascending=False).head(20))\n",
        "plt.title('조회수 기준 top20 시각화')\n",
        "plt.show()"
      ],
      "execution_count": 14,
      "outputs": [
        {
          "output_type": "display_data",
          "data": {
            "image/png": "[encoded data removed]",
            "text/plain": [
              "<Figure size 864x576 with 1 Axes>"
            ]
          },
          "metadata": {
            "needs_background": "light"
          }
        }
      ]
    },
    {
      "cell_type": "markdown",
      "metadata": {
        "id": "J685oxeLig06"
      },
      "source": [
        "- the number of channel per category distribution"
      ]
    },
    {
      "cell_type": "code",
      "metadata": {
        "colab": {
          "base_uri": "https://localhost:8080/",
          "height": 692
        },
        "id": "QNBHkrn5hcCr",
        "outputId": "4e59d65e-5419-4f25-c7ef-d3dac76765e3"
      },
      "source": [
        "df.카테고리.value_counts().to_frame()"
      ],
      "execution_count": 15,
      "outputs": [
        {
          "output_type": "execute_result",
          "data": {
            "text/html": [
              "<div>\n",
              "<style scoped>\n",
              "    .dataframe tbody tr th:only-of-type {\n",
              "        vertical-align: middle;\n",
              "    }\n",
              "\n",
              "    .dataframe tbody tr th {\n",
              "        vertical-align: top;\n",
              "    }\n",
              "\n",
              "    .dataframe thead th {\n",
              "        text-align: right;\n",
              "    }\n",
              "</style>\n",
              "<table border=\"1\" class=\"dataframe\">\n",
              "  <thead>\n",
              "    <tr style=\"text-align: right;\">\n",
              "      <th></th>\n",
              "      <th>카테고리</th>\n",
              "    </tr>\n",
              "  </thead>\n",
              "  <tbody>\n",
              "    <tr>\n",
              "      <th>음악/댄스/가수</th>\n",
              "      <td>171</td>\n",
              "    </tr>\n",
              "    <tr>\n",
              "      <th>TV/방송</th>\n",
              "      <td>146</td>\n",
              "    </tr>\n",
              "    <tr>\n",
              "      <th>미분류</th>\n",
              "      <td>114</td>\n",
              "    </tr>\n",
              "    <tr>\n",
              "      <th>키즈/어린이</th>\n",
              "      <td>88</td>\n",
              "    </tr>\n",
              "    <tr>\n",
              "      <th>음식/요리/레시피</th>\n",
              "      <td>85</td>\n",
              "    </tr>\n",
              "    <tr>\n",
              "      <th>게임</th>\n",
              "      <td>74</td>\n",
              "    </tr>\n",
              "    <tr>\n",
              "      <th>BJ/인물/연예인</th>\n",
              "      <td>71</td>\n",
              "    </tr>\n",
              "    <tr>\n",
              "      <th>뉴스/정치/사회</th>\n",
              "      <td>53</td>\n",
              "    </tr>\n",
              "    <tr>\n",
              "      <th>패션/미용</th>\n",
              "      <td>44</td>\n",
              "    </tr>\n",
              "    <tr>\n",
              "      <th>취미/라이프</th>\n",
              "      <td>38</td>\n",
              "    </tr>\n",
              "    <tr>\n",
              "      <th>영화/만화/애니</th>\n",
              "      <td>33</td>\n",
              "    </tr>\n",
              "    <tr>\n",
              "      <th>교육/강의</th>\n",
              "      <td>22</td>\n",
              "    </tr>\n",
              "    <tr>\n",
              "      <th>애완/반려동물</th>\n",
              "      <td>19</td>\n",
              "    </tr>\n",
              "    <tr>\n",
              "      <th>주식/경제/부동산</th>\n",
              "      <td>8</td>\n",
              "    </tr>\n",
              "    <tr>\n",
              "      <th>IT/기술/컴퓨터</th>\n",
              "      <td>8</td>\n",
              "    </tr>\n",
              "    <tr>\n",
              "      <th>스포츠/운동</th>\n",
              "      <td>8</td>\n",
              "    </tr>\n",
              "    <tr>\n",
              "      <th>해외</th>\n",
              "      <td>6</td>\n",
              "    </tr>\n",
              "    <tr>\n",
              "      <th>회사/오피셜</th>\n",
              "      <td>5</td>\n",
              "    </tr>\n",
              "    <tr>\n",
              "      <th>국내/해외/여행</th>\n",
              "      <td>4</td>\n",
              "    </tr>\n",
              "    <tr>\n",
              "      <th>자동차</th>\n",
              "      <td>2</td>\n",
              "    </tr>\n",
              "    <tr>\n",
              "      <th>취미</th>\n",
              "      <td>1</td>\n",
              "    </tr>\n",
              "  </tbody>\n",
              "</table>\n",
              "</div>"
            ],
            "text/plain": [
              "           카테고리\n",
              "음악/댄스/가수    171\n",
              "TV/방송       146\n",
              "미분류         114\n",
              "키즈/어린이       88\n",
              "음식/요리/레시피    85\n",
              "게임           74\n",
              "BJ/인물/연예인    71\n",
              "뉴스/정치/사회     53\n",
              "패션/미용        44\n",
              "취미/라이프       38\n",
              "영화/만화/애니     33\n",
              "교육/강의        22\n",
              "애완/반려동물      19\n",
              "주식/경제/부동산     8\n",
              "IT/기술/컴퓨터     8\n",
              "스포츠/운동        8\n",
              "해외            6\n",
              "회사/오피셜        5\n",
              "국내/해외/여행      4\n",
              "자동차           2\n",
              "취미            1"
            ]
          },
          "metadata": {},
          "execution_count": 15
        }
      ]
    },
    {
      "cell_type": "code",
      "metadata": {
        "colab": {
          "base_uri": "https://localhost:8080/",
          "height": 723
        },
        "id": "jWCv4qWB2nOE",
        "outputId": "2d7eb589-d55e-40dc-a655-84ba46e4825a"
      },
      "source": [
        "df[['카테고리', '구독자수2']].groupby('카테고리').count()"
      ],
      "execution_count": 16,
      "outputs": [
        {
          "output_type": "execute_result",
          "data": {
            "text/html": [
              "<div>\n",
              "<style scoped>\n",
              "    .dataframe tbody tr th:only-of-type {\n",
              "        vertical-align: middle;\n",
              "    }\n",
              "\n",
              "    .dataframe tbody tr th {\n",
              "        vertical-align: top;\n",
              "    }\n",
              "\n",
              "    .dataframe thead th {\n",
              "        text-align: right;\n",
              "    }\n",
              "</style>\n",
              "<table border=\"1\" class=\"dataframe\">\n",
              "  <thead>\n",
              "    <tr style=\"text-align: right;\">\n",
              "      <th></th>\n",
              "      <th>구독자수2</th>\n",
              "    </tr>\n",
              "    <tr>\n",
              "      <th>카테고리</th>\n",
              "      <th></th>\n",
              "    </tr>\n",
              "  </thead>\n",
              "  <tbody>\n",
              "    <tr>\n",
              "      <th>BJ/인물/연예인</th>\n",
              "      <td>71</td>\n",
              "    </tr>\n",
              "    <tr>\n",
              "      <th>IT/기술/컴퓨터</th>\n",
              "      <td>8</td>\n",
              "    </tr>\n",
              "    <tr>\n",
              "      <th>TV/방송</th>\n",
              "      <td>146</td>\n",
              "    </tr>\n",
              "    <tr>\n",
              "      <th>게임</th>\n",
              "      <td>74</td>\n",
              "    </tr>\n",
              "    <tr>\n",
              "      <th>교육/강의</th>\n",
              "      <td>22</td>\n",
              "    </tr>\n",
              "    <tr>\n",
              "      <th>국내/해외/여행</th>\n",
              "      <td>4</td>\n",
              "    </tr>\n",
              "    <tr>\n",
              "      <th>뉴스/정치/사회</th>\n",
              "      <td>53</td>\n",
              "    </tr>\n",
              "    <tr>\n",
              "      <th>미분류</th>\n",
              "      <td>114</td>\n",
              "    </tr>\n",
              "    <tr>\n",
              "      <th>스포츠/운동</th>\n",
              "      <td>8</td>\n",
              "    </tr>\n",
              "    <tr>\n",
              "      <th>애완/반려동물</th>\n",
              "      <td>19</td>\n",
              "    </tr>\n",
              "    <tr>\n",
              "      <th>영화/만화/애니</th>\n",
              "      <td>33</td>\n",
              "    </tr>\n",
              "    <tr>\n",
              "      <th>음식/요리/레시피</th>\n",
              "      <td>85</td>\n",
              "    </tr>\n",
              "    <tr>\n",
              "      <th>음악/댄스/가수</th>\n",
              "      <td>171</td>\n",
              "    </tr>\n",
              "    <tr>\n",
              "      <th>자동차</th>\n",
              "      <td>2</td>\n",
              "    </tr>\n",
              "    <tr>\n",
              "      <th>주식/경제/부동산</th>\n",
              "      <td>8</td>\n",
              "    </tr>\n",
              "    <tr>\n",
              "      <th>취미</th>\n",
              "      <td>1</td>\n",
              "    </tr>\n",
              "    <tr>\n",
              "      <th>취미/라이프</th>\n",
              "      <td>38</td>\n",
              "    </tr>\n",
              "    <tr>\n",
              "      <th>키즈/어린이</th>\n",
              "      <td>88</td>\n",
              "    </tr>\n",
              "    <tr>\n",
              "      <th>패션/미용</th>\n",
              "      <td>44</td>\n",
              "    </tr>\n",
              "    <tr>\n",
              "      <th>해외</th>\n",
              "      <td>6</td>\n",
              "    </tr>\n",
              "    <tr>\n",
              "      <th>회사/오피셜</th>\n",
              "      <td>5</td>\n",
              "    </tr>\n",
              "  </tbody>\n",
              "</table>\n",
              "</div>"
            ],
            "text/plain": [
              "           구독자수2\n",
              "카테고리            \n",
              "BJ/인물/연예인     71\n",
              "IT/기술/컴퓨터      8\n",
              "TV/방송        146\n",
              "게임            74\n",
              "교육/강의         22\n",
              "국내/해외/여행       4\n",
              "뉴스/정치/사회      53\n",
              "미분류          114\n",
              "스포츠/운동         8\n",
              "애완/반려동물       19\n",
              "영화/만화/애니      33\n",
              "음식/요리/레시피     85\n",
              "음악/댄스/가수     171\n",
              "자동차            2\n",
              "주식/경제/부동산      8\n",
              "취미             1\n",
              "취미/라이프        38\n",
              "키즈/어린이        88\n",
              "패션/미용         44\n",
              "해외             6\n",
              "회사/오피셜         5"
            ]
          },
          "metadata": {},
          "execution_count": 16
        }
      ]
    },
    {
      "cell_type": "code",
      "metadata": {
        "colab": {
          "base_uri": "https://localhost:8080/",
          "height": 482
        },
        "id": "bTKV5Vz22_1k",
        "outputId": "b63ec6c4-3f69-41ab-fa03-efea98d42360"
      },
      "source": [
        "df3 = df[['카테고리', '구독자수2']].groupby('카테고리').count()\n",
        "plt.figure(figsize=(12, 8))\n",
        "plt.pie(x='구독자수2', data=df3, labels=df3.index, autopct='%1.1f%%')\n",
        "plt.title('the number of channel per category distribution')\n",
        "plt.show()"
      ],
      "execution_count": 17,
      "outputs": [
        {
          "output_type": "display_data",
          "data": {
            "image/png": "[encoded data removed]",
            "text/plain": [
              "<Figure size 864x576 with 1 Axes>"
            ]
          },
          "metadata": {}
        }
      ]
    },
    {
      "cell_type": "markdown",
      "metadata": {
        "id": "CxjxuF1K7-eC"
      },
      "source": [
        "- number of subscriber sum per category visualization"
      ]
    },
    {
      "cell_type": "code",
      "metadata": {
        "colab": {
          "base_uri": "https://localhost:8080/",
          "height": 723
        },
        "id": "2x_sbf2T38es",
        "outputId": "30c2ba6c-d799-480f-84d0-d03d4d7d3ded"
      },
      "source": [
        "df4 = df[['카테고리', '구독자수2']].groupby('카테고리').agg(['count', 'sum'])\n",
        "df4.columns = ['채널수', '구독자수_합계']\n",
        "df4.sort_values(by='구독자수_합계', ascending=False, inplace=True)\n",
        "df4"
      ],
      "execution_count": 18,
      "outputs": [
        {
          "output_type": "execute_result",
          "data": {
            "text/html": [
              "<div>\n",
              "<style scoped>\n",
              "    .dataframe tbody tr th:only-of-type {\n",
              "        vertical-align: middle;\n",
              "    }\n",
              "\n",
              "    .dataframe tbody tr th {\n",
              "        vertical-align: top;\n",
              "    }\n",
              "\n",
              "    .dataframe thead th {\n",
              "        text-align: right;\n",
              "    }\n",
              "</style>\n",
              "<table border=\"1\" class=\"dataframe\">\n",
              "  <thead>\n",
              "    <tr style=\"text-align: right;\">\n",
              "      <th></th>\n",
              "      <th>채널수</th>\n",
              "      <th>구독자수_합계</th>\n",
              "    </tr>\n",
              "    <tr>\n",
              "      <th>카테고리</th>\n",
              "      <th></th>\n",
              "      <th></th>\n",
              "    </tr>\n",
              "  </thead>\n",
              "  <tbody>\n",
              "    <tr>\n",
              "      <th>음악/댄스/가수</th>\n",
              "      <td>171</td>\n",
              "      <td>675030000</td>\n",
              "    </tr>\n",
              "    <tr>\n",
              "      <th>키즈/어린이</th>\n",
              "      <td>88</td>\n",
              "      <td>257860000</td>\n",
              "    </tr>\n",
              "    <tr>\n",
              "      <th>TV/방송</th>\n",
              "      <td>146</td>\n",
              "      <td>229940000</td>\n",
              "    </tr>\n",
              "    <tr>\n",
              "      <th>음식/요리/레시피</th>\n",
              "      <td>85</td>\n",
              "      <td>180730000</td>\n",
              "    </tr>\n",
              "    <tr>\n",
              "      <th>미분류</th>\n",
              "      <td>114</td>\n",
              "      <td>143750000</td>\n",
              "    </tr>\n",
              "    <tr>\n",
              "      <th>BJ/인물/연예인</th>\n",
              "      <td>71</td>\n",
              "      <td>97640000</td>\n",
              "    </tr>\n",
              "    <tr>\n",
              "      <th>뉴스/정치/사회</th>\n",
              "      <td>53</td>\n",
              "      <td>71100000</td>\n",
              "    </tr>\n",
              "    <tr>\n",
              "      <th>게임</th>\n",
              "      <td>74</td>\n",
              "      <td>67180000</td>\n",
              "    </tr>\n",
              "    <tr>\n",
              "      <th>취미/라이프</th>\n",
              "      <td>38</td>\n",
              "      <td>47930000</td>\n",
              "    </tr>\n",
              "    <tr>\n",
              "      <th>패션/미용</th>\n",
              "      <td>44</td>\n",
              "      <td>44380000</td>\n",
              "    </tr>\n",
              "    <tr>\n",
              "      <th>영화/만화/애니</th>\n",
              "      <td>33</td>\n",
              "      <td>34700000</td>\n",
              "    </tr>\n",
              "    <tr>\n",
              "      <th>애완/반려동물</th>\n",
              "      <td>19</td>\n",
              "      <td>26890000</td>\n",
              "    </tr>\n",
              "    <tr>\n",
              "      <th>교육/강의</th>\n",
              "      <td>22</td>\n",
              "      <td>23460000</td>\n",
              "    </tr>\n",
              "    <tr>\n",
              "      <th>해외</th>\n",
              "      <td>6</td>\n",
              "      <td>12140000</td>\n",
              "    </tr>\n",
              "    <tr>\n",
              "      <th>회사/오피셜</th>\n",
              "      <td>5</td>\n",
              "      <td>11800000</td>\n",
              "    </tr>\n",
              "    <tr>\n",
              "      <th>스포츠/운동</th>\n",
              "      <td>8</td>\n",
              "      <td>10850000</td>\n",
              "    </tr>\n",
              "    <tr>\n",
              "      <th>IT/기술/컴퓨터</th>\n",
              "      <td>8</td>\n",
              "      <td>7960000</td>\n",
              "    </tr>\n",
              "    <tr>\n",
              "      <th>주식/경제/부동산</th>\n",
              "      <td>8</td>\n",
              "      <td>7850000</td>\n",
              "    </tr>\n",
              "    <tr>\n",
              "      <th>국내/해외/여행</th>\n",
              "      <td>4</td>\n",
              "      <td>3440000</td>\n",
              "    </tr>\n",
              "    <tr>\n",
              "      <th>자동차</th>\n",
              "      <td>2</td>\n",
              "      <td>1240000</td>\n",
              "    </tr>\n",
              "    <tr>\n",
              "      <th>취미</th>\n",
              "      <td>1</td>\n",
              "      <td>600000</td>\n",
              "    </tr>\n",
              "  </tbody>\n",
              "</table>\n",
              "</div>"
            ],
            "text/plain": [
              "           채널수    구독자수_합계\n",
              "카테고리                     \n",
              "음악/댄스/가수   171  675030000\n",
              "키즈/어린이      88  257860000\n",
              "TV/방송      146  229940000\n",
              "음식/요리/레시피   85  180730000\n",
              "미분류        114  143750000\n",
              "BJ/인물/연예인   71   97640000\n",
              "뉴스/정치/사회    53   71100000\n",
              "게임          74   67180000\n",
              "취미/라이프      38   47930000\n",
              "패션/미용       44   44380000\n",
              "영화/만화/애니    33   34700000\n",
              "애완/반려동물     19   26890000\n",
              "교육/강의       22   23460000\n",
              "해외           6   12140000\n",
              "회사/오피셜       5   11800000\n",
              "스포츠/운동       8   10850000\n",
              "IT/기술/컴퓨터    8    7960000\n",
              "주식/경제/부동산    8    7850000\n",
              "국내/해외/여행     4    3440000\n",
              "자동차          2    1240000\n",
              "취미           1     600000"
            ]
          },
          "metadata": {},
          "execution_count": 18
        }
      ]
    },
    {
      "cell_type": "code",
      "metadata": {
        "colab": {
          "base_uri": "https://localhost:8080/",
          "height": 512
        },
        "id": "2hqoE9eH7uu-",
        "outputId": "e59ffff2-7a54-40c7-85e2-dfb1573a85f6"
      },
      "source": [
        "plt.figure(figsize=(12,8))\n",
        "sns.barplot(x='구독자수_합계', y=df4.index, data=df4)\n",
        "plt.title('카테고리 별 구독자 수')\n",
        "plt.show()"
      ],
      "execution_count": 21,
      "outputs": [
        {
          "output_type": "display_data",
          "data": {
            "image/png": "[encoded data removed]",
            "text/plain": [
              "<Figure size 864x576 with 1 Axes>"
            ]
          },
          "metadata": {
            "needs_background": "light"
          }
        }
      ]
    }
  ]
}