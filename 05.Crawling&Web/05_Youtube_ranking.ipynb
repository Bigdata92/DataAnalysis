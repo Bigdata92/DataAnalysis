{
  "nbformat": 4,
  "nbformat_minor": 0,
  "metadata": {
    "colab": {
      "name": "05_Youtube_ranking.ipynb",
      "provenance": [],
      "collapsed_sections": []
    },
    "kernelspec": {
      "name": "python3",
      "display_name": "Python 3"
    },
    "language_info": {
      "name": "python"
    }
  },
  "cells": [
    {
      "cell_type": "markdown",
      "metadata": {
        "id": "3Be9pu9qA5VY"
      },
      "source": [
        "# collect youtube ranking data and visualize"
      ]
    },
    {
      "cell_type": "code",
      "metadata": {
        "colab": {
          "base_uri": "https://localhost:8080/"
        },
        "id": "QiugFbUTA0Pr",
        "outputId": "8da56715-6e76-4c0d-b098-3ec35e753e8c"
      },
      "source": [
        "!apt-get update > /dev/null\n",
        "!pip install selenium > /dev/null\n",
        "!apt install chromium-chromedriver > /dev/null"
      ],
      "execution_count": 1,
      "outputs": [
        {
          "output_type": "stream",
          "text": [
            "\n",
            "WARNING: apt does not have a stable CLI interface. Use with caution in scripts.\n",
            "\n"
          ],
          "name": "stdout"
        }
      ]
    },
    {
      "cell_type": "code",
      "metadata": {
        "id": "Tce5AxO-BWWJ"
      },
      "source": [
        "from selenium import webdriver\n",
        "from bs4 import BeautifulSoup\n",
        "import time\n",
        "import pandas as pd"
      ],
      "execution_count": 2,
      "outputs": []
    },
    {
      "cell_type": "code",
      "metadata": {
        "id": "6pxcI8bKCsv-"
      },
      "source": [
        "options = webdriver.ChromeOptions()\n",
        "options.add_argument('--headless')   # 화면없이 실행\n",
        "options.add_argument('--no-sandbox')\n",
        "options.add_argument('--single-process')\n",
        "options.add_argument('--disable-dev-shm-usage')\n",
        "driver = webdriver.Chrome('chromedriver', options=options)"
      ],
      "execution_count": 3,
      "outputs": []
    },
    {
      "cell_type": "code",
      "metadata": {
        "id": "hGPSMBNQDNmo"
      },
      "source": [
        "url = 'https://youtube-rank.com/board/bbs/board.php?bo_table=youtube'\n",
        "driver.get(url)\n",
        "# time.sleep(2)"
      ],
      "execution_count": 4,
      "outputs": []
    },
    {
      "cell_type": "code",
      "metadata": {
        "colab": {
          "base_uri": "https://localhost:8080/"
        },
        "id": "SsWSWqMtDigT",
        "outputId": "f0364892-00d7-4b31-d73d-d0e4352d1729"
      },
      "source": [
        "trs = driver.find_elements_by_tag_name('tr')\n",
        "len(trs)"
      ],
      "execution_count": 5,
      "outputs": [
        {
          "output_type": "execute_result",
          "data": {
            "text/plain": [
              "102"
            ]
          },
          "metadata": {
            "tags": []
          },
          "execution_count": 5
        }
      ]
    },
    {
      "cell_type": "code",
      "metadata": {
        "id": "ROFXwhTND0O-"
      },
      "source": [
        "html = driver.page_source\n",
        "soup = BeautifulSoup(html, 'html.parser')"
      ],
      "execution_count": 6,
      "outputs": []
    },
    {
      "cell_type": "code",
      "metadata": {
        "colab": {
          "base_uri": "https://localhost:8080/"
        },
        "id": "0ityN6PDEHtS",
        "outputId": "e42d8616-2201-47c5-9282-d79fc4612346"
      },
      "source": [
        "# soup.select('form > table > tbody > tr')\n",
        "channel_list = soup.select('.aos-init')\n",
        "len(channel_list)"
      ],
      "execution_count": 7,
      "outputs": [
        {
          "output_type": "execute_result",
          "data": {
            "text/plain": [
              "100"
            ]
          },
          "metadata": {
            "tags": []
          },
          "execution_count": 7
        }
      ]
    },
    {
      "cell_type": "code",
      "metadata": {
        "colab": {
          "base_uri": "https://localhost:8080/",
          "height": 35
        },
        "id": "XA8zCTEuE2se",
        "outputId": "24024a15-359c-43a9-8215-ed5af70eabb1"
      },
      "source": [
        "channel = channel_list[0]\n",
        "category = channel.select_one('p.category').get_text().strip()\n",
        "category"
      ],
      "execution_count": 8,
      "outputs": [
        {
          "output_type": "execute_result",
          "data": {
            "application/vnd.google.colaboratory.intrinsic+json": {
              "type": "string"
            },
            "text/plain": [
              "'[음악/댄스/가수]'"
            ]
          },
          "metadata": {
            "tags": []
          },
          "execution_count": 8
        }
      ]
    },
    {
      "cell_type": "code",
      "metadata": {
        "colab": {
          "base_uri": "https://localhost:8080/",
          "height": 35
        },
        "id": "XLlPBgqhFSWy",
        "outputId": "13ace906-2e53-4401-a511-b682f297ed61"
      },
      "source": [
        "name = channel.select_one('.subject a').text.strip()\n",
        "name"
      ],
      "execution_count": 9,
      "outputs": [
        {
          "output_type": "execute_result",
          "data": {
            "application/vnd.google.colaboratory.intrinsic+json": {
              "type": "string"
            },
            "text/plain": [
              "'BLACKPINK'"
            ]
          },
          "metadata": {
            "tags": []
          },
          "execution_count": 9
        }
      ]
    },
    {
      "cell_type": "code",
      "metadata": {
        "colab": {
          "base_uri": "https://localhost:8080/"
        },
        "id": "vvkZxB0sFy4l",
        "outputId": "2ce98254-6703-4051-aa5e-aecc1977addc"
      },
      "source": [
        "subscriber = channel.select_one('.subscriber_cnt').text\n",
        "view = channel.select_one('.view_cnt').text\n",
        "video = channel.select_one('.view_cnt').text[:-1]\n",
        "subscriber, view, video"
      ],
      "execution_count": 10,
      "outputs": [
        {
          "output_type": "execute_result",
          "data": {
            "text/plain": [
              "('6400만', '190억0381만', '190억0381')"
            ]
          },
          "metadata": {
            "tags": []
          },
          "execution_count": 10
        }
      ]
    },
    {
      "cell_type": "code",
      "metadata": {
        "id": "eR0-z2fJHNhU"
      },
      "source": [
        "channels = []\n",
        "for channel in channel_list:\n",
        "  category = channel.select_one('p.category').get_text().strip(' \\n[] ')\n",
        "  name = channel.select_one('.subject a').text.strip()\n",
        "  subscriber = channel.select_one('.subscriber_cnt').text\n",
        "  view = channel.select_one('.view_cnt').text\n",
        "  video = channel.select_one('.view_cnt').text[:-1]\n",
        "  channels.append([category, name, subscriber, view, video])"
      ],
      "execution_count": 25,
      "outputs": []
    },
    {
      "cell_type": "code",
      "metadata": {
        "colab": {
          "base_uri": "https://localhost:8080/",
          "height": 202
        },
        "id": "dmQo7VihN3R6",
        "outputId": "efcba6aa-10c5-4e5b-a88c-652f6944b4ba"
      },
      "source": [
        "df = pd.DataFrame(channels, columns=['category', 'name', 'subscriber', 'view', 'video'])\n",
        "df.head()"
      ],
      "execution_count": 26,
      "outputs": [
        {
          "output_type": "execute_result",
          "data": {
            "text/html": [
              "<div>\n",
              "<style scoped>\n",
              "    .dataframe tbody tr th:only-of-type {\n",
              "        vertical-align: middle;\n",
              "    }\n",
              "\n",
              "    .dataframe tbody tr th {\n",
              "        vertical-align: top;\n",
              "    }\n",
              "\n",
              "    .dataframe thead th {\n",
              "        text-align: right;\n",
              "    }\n",
              "</style>\n",
              "<table border=\"1\" class=\"dataframe\">\n",
              "  <thead>\n",
              "    <tr style=\"text-align: right;\">\n",
              "      <th></th>\n",
              "      <th>category</th>\n",
              "      <th>name</th>\n",
              "      <th>subscriber</th>\n",
              "      <th>view</th>\n",
              "      <th>video</th>\n",
              "    </tr>\n",
              "  </thead>\n",
              "  <tbody>\n",
              "    <tr>\n",
              "      <th>0</th>\n",
              "      <td>음악/댄스/가수</td>\n",
              "      <td>May J Lee 메이제이 리</td>\n",
              "      <td>57만</td>\n",
              "      <td>2861만</td>\n",
              "      <td>2861</td>\n",
              "    </tr>\n",
              "    <tr>\n",
              "      <th>1</th>\n",
              "      <td>BJ/인물/연예인</td>\n",
              "      <td>덕자전성시대</td>\n",
              "      <td>56만</td>\n",
              "      <td>6116만</td>\n",
              "      <td>6116</td>\n",
              "    </tr>\n",
              "    <tr>\n",
              "      <th>2</th>\n",
              "      <td>음악/댄스/가수</td>\n",
              "      <td>SUGA - Topic</td>\n",
              "      <td>56만</td>\n",
              "      <td>1만</td>\n",
              "      <td>1</td>\n",
              "    </tr>\n",
              "    <tr>\n",
              "      <th>3</th>\n",
              "      <td>TV/방송</td>\n",
              "      <td>KBS Entertain: 깔깔티비</td>\n",
              "      <td>56만</td>\n",
              "      <td>7억9237만</td>\n",
              "      <td>7억9237</td>\n",
              "    </tr>\n",
              "    <tr>\n",
              "      <th>4</th>\n",
              "      <td>애완/반려동물</td>\n",
              "      <td>Arirang은 고양이들내가 주인</td>\n",
              "      <td>56만</td>\n",
              "      <td>1억6574만</td>\n",
              "      <td>1억6574</td>\n",
              "    </tr>\n",
              "  </tbody>\n",
              "</table>\n",
              "</div>"
            ],
            "text/plain": [
              "    category                 name subscriber     view   video\n",
              "0   음악/댄스/가수     May J Lee 메이제이 리        57만    2861만    2861\n",
              "1  BJ/인물/연예인               덕자전성시대        56만    6116만    6116\n",
              "2   음악/댄스/가수         SUGA - Topic        56만       1만       1\n",
              "3      TV/방송  KBS Entertain: 깔깔티비        56만  7억9237만  7억9237\n",
              "4    애완/반려동물   Arirang은 고양이들내가 주인        56만  1억6574만  1억6574"
            ]
          },
          "metadata": {
            "tags": []
          },
          "execution_count": 26
        }
      ]
    },
    {
      "cell_type": "code",
      "metadata": {
        "colab": {
          "base_uri": "https://localhost:8080/",
          "height": 202
        },
        "id": "RrY6F29IQ4Rw",
        "outputId": "2f912b4e-eaf5-42f9-fa95-888e4f5e8e65"
      },
      "source": [
        "df.tail()"
      ],
      "execution_count": 27,
      "outputs": [
        {
          "output_type": "execute_result",
          "data": {
            "text/html": [
              "<div>\n",
              "<style scoped>\n",
              "    .dataframe tbody tr th:only-of-type {\n",
              "        vertical-align: middle;\n",
              "    }\n",
              "\n",
              "    .dataframe tbody tr th {\n",
              "        vertical-align: top;\n",
              "    }\n",
              "\n",
              "    .dataframe thead th {\n",
              "        text-align: right;\n",
              "    }\n",
              "</style>\n",
              "<table border=\"1\" class=\"dataframe\">\n",
              "  <thead>\n",
              "    <tr style=\"text-align: right;\">\n",
              "      <th></th>\n",
              "      <th>category</th>\n",
              "      <th>name</th>\n",
              "      <th>subscriber</th>\n",
              "      <th>view</th>\n",
              "      <th>video</th>\n",
              "    </tr>\n",
              "  </thead>\n",
              "  <tbody>\n",
              "    <tr>\n",
              "      <th>95</th>\n",
              "      <td>게임</td>\n",
              "      <td>미소</td>\n",
              "      <td>51만</td>\n",
              "      <td>2억1077만</td>\n",
              "      <td>2억1077</td>\n",
              "    </tr>\n",
              "    <tr>\n",
              "      <th>96</th>\n",
              "      <td>미분류</td>\n",
              "      <td>밉지않은 관종언니</td>\n",
              "      <td>51만</td>\n",
              "      <td>6774만</td>\n",
              "      <td>6774</td>\n",
              "    </tr>\n",
              "    <tr>\n",
              "      <th>97</th>\n",
              "      <td>미분류</td>\n",
              "      <td>복지마블TV [Welfare Marble]</td>\n",
              "      <td>51만</td>\n",
              "      <td>4996만</td>\n",
              "      <td>4996</td>\n",
              "    </tr>\n",
              "    <tr>\n",
              "      <th>98</th>\n",
              "      <td>음식/요리/레시피</td>\n",
              "      <td>Muggo</td>\n",
              "      <td>51만</td>\n",
              "      <td>1억8372만</td>\n",
              "      <td>1억8372</td>\n",
              "    </tr>\n",
              "    <tr>\n",
              "      <th>99</th>\n",
              "      <td>게임</td>\n",
              "      <td>임선비</td>\n",
              "      <td>51만</td>\n",
              "      <td>2억3429만</td>\n",
              "      <td>2억3429</td>\n",
              "    </tr>\n",
              "  </tbody>\n",
              "</table>\n",
              "</div>"
            ],
            "text/plain": [
              "     category                     name subscriber     view   video\n",
              "95         게임                       미소        51만  2억1077만  2억1077\n",
              "96        미분류                밉지않은 관종언니        51만    6774만    6774\n",
              "97        미분류  복지마블TV [Welfare Marble]        51만    4996만    4996\n",
              "98  음식/요리/레시피                    Muggo        51만  1억8372만  1억8372\n",
              "99         게임                      임선비        51만  2억3429만  2억3429"
            ]
          },
          "metadata": {
            "tags": []
          },
          "execution_count": 27
        }
      ]
    },
    {
      "cell_type": "markdown",
      "metadata": {
        "id": "KywRIVM7RAHY"
      },
      "source": [
        "- func : 10 thousand, 1 million to number"
      ]
    },
    {
      "cell_type": "code",
      "metadata": {
        "id": "4czOM7UVQ8R_"
      },
      "source": [
        "def covert_unit(s):\n",
        "  \n",
        "  s = s.replace('억', '').replace('개', '').replace(',', '')\n",
        "  s = s.replace('만', '0000')\n",
        "  return f'{int(s):,d}'"
      ],
      "execution_count": 28,
      "outputs": []
    },
    {
      "cell_type": "code",
      "metadata": {
        "colab": {
          "base_uri": "https://localhost:8080/",
          "height": 35
        },
        "id": "_1F_Dd9RRelB",
        "outputId": "c01b1464-d79e-4f76-8d17-14219c5df773"
      },
      "source": [
        "covert_unit('10억6557만')"
      ],
      "execution_count": 29,
      "outputs": [
        {
          "output_type": "execute_result",
          "data": {
            "application/vnd.google.colaboratory.intrinsic+json": {
              "type": "string"
            },
            "text/plain": [
              "'1,065,570,000'"
            ]
          },
          "metadata": {
            "tags": []
          },
          "execution_count": 29
        }
      ]
    },
    {
      "cell_type": "markdown",
      "metadata": {
        "id": "C5HoOFpRdAWj"
      },
      "source": [
        "- second page"
      ]
    },
    {
      "cell_type": "code",
      "metadata": {
        "id": "OSfDKt2wRhO8"
      },
      "source": [
        "driver.find_element_by_xpath('//*[@id=\"list-skin\"]/nav/span/a[1]').click()"
      ],
      "execution_count": 30,
      "outputs": []
    },
    {
      "cell_type": "code",
      "metadata": {
        "id": "g7n2H57BcSsr"
      },
      "source": [
        "html = driver.page_source\n",
        "soup = BeautifulSoup(html, 'html.parser')"
      ],
      "execution_count": 31,
      "outputs": []
    },
    {
      "cell_type": "code",
      "metadata": {
        "colab": {
          "base_uri": "https://localhost:8080/"
        },
        "id": "JavGUcPmczxm",
        "outputId": "d534a076-049f-4d53-b016-a13eec28191e"
      },
      "source": [
        "channel_list = soup.select('.aos-init')\n",
        "len(channel_list)"
      ],
      "execution_count": 32,
      "outputs": [
        {
          "output_type": "execute_result",
          "data": {
            "text/plain": [
              "100"
            ]
          },
          "metadata": {
            "tags": []
          },
          "execution_count": 32
        }
      ]
    },
    {
      "cell_type": "code",
      "metadata": {
        "id": "SSN05bHXcZno"
      },
      "source": [
        "results = []\n",
        "for channel in channel_list:\n",
        "  category = channel.select_one('p.category').get_text().strip(' \\n[] ')\n",
        "  name = channel.select_one('.subject a').text.strip()\n",
        "  subscriber = channel.select_one('.subscriber_cnt').text\n",
        "  view = channel.select_one('.view_cnt').text\n",
        "  video = channel.select_one('.view_cnt').text[:-1]\n",
        "  results.append([category, name, subscriber, view, video])"
      ],
      "execution_count": 37,
      "outputs": []
    },
    {
      "cell_type": "code",
      "metadata": {
        "colab": {
          "base_uri": "https://localhost:8080/",
          "height": 202
        },
        "id": "8rzlELxicuPb",
        "outputId": "9345b7f1-b0af-4e43-f1a8-ccdf351e3b26"
      },
      "source": [
        "df = pd.DataFrame(results, columns=['category', 'name', 'subscriber', 'view', 'video'])\n",
        "df.head()"
      ],
      "execution_count": 38,
      "outputs": [
        {
          "output_type": "execute_result",
          "data": {
            "text/html": [
              "<div>\n",
              "<style scoped>\n",
              "    .dataframe tbody tr th:only-of-type {\n",
              "        vertical-align: middle;\n",
              "    }\n",
              "\n",
              "    .dataframe tbody tr th {\n",
              "        vertical-align: top;\n",
              "    }\n",
              "\n",
              "    .dataframe thead th {\n",
              "        text-align: right;\n",
              "    }\n",
              "</style>\n",
              "<table border=\"1\" class=\"dataframe\">\n",
              "  <thead>\n",
              "    <tr style=\"text-align: right;\">\n",
              "      <th></th>\n",
              "      <th>category</th>\n",
              "      <th>name</th>\n",
              "      <th>subscriber</th>\n",
              "      <th>view</th>\n",
              "      <th>video</th>\n",
              "    </tr>\n",
              "  </thead>\n",
              "  <tbody>\n",
              "    <tr>\n",
              "      <th>0</th>\n",
              "      <td>음악/댄스/가수</td>\n",
              "      <td>May J Lee 메이제이 리</td>\n",
              "      <td>57만</td>\n",
              "      <td>2861만</td>\n",
              "      <td>2861</td>\n",
              "    </tr>\n",
              "    <tr>\n",
              "      <th>1</th>\n",
              "      <td>BJ/인물/연예인</td>\n",
              "      <td>덕자전성시대</td>\n",
              "      <td>56만</td>\n",
              "      <td>6116만</td>\n",
              "      <td>6116</td>\n",
              "    </tr>\n",
              "    <tr>\n",
              "      <th>2</th>\n",
              "      <td>음악/댄스/가수</td>\n",
              "      <td>SUGA - Topic</td>\n",
              "      <td>56만</td>\n",
              "      <td>1만</td>\n",
              "      <td>1</td>\n",
              "    </tr>\n",
              "    <tr>\n",
              "      <th>3</th>\n",
              "      <td>TV/방송</td>\n",
              "      <td>KBS Entertain: 깔깔티비</td>\n",
              "      <td>56만</td>\n",
              "      <td>7억9237만</td>\n",
              "      <td>7억9237</td>\n",
              "    </tr>\n",
              "    <tr>\n",
              "      <th>4</th>\n",
              "      <td>애완/반려동물</td>\n",
              "      <td>Arirang은 고양이들내가 주인</td>\n",
              "      <td>56만</td>\n",
              "      <td>1억6574만</td>\n",
              "      <td>1억6574</td>\n",
              "    </tr>\n",
              "  </tbody>\n",
              "</table>\n",
              "</div>"
            ],
            "text/plain": [
              "    category                 name subscriber     view   video\n",
              "0   음악/댄스/가수     May J Lee 메이제이 리        57만    2861만    2861\n",
              "1  BJ/인물/연예인               덕자전성시대        56만    6116만    6116\n",
              "2   음악/댄스/가수         SUGA - Topic        56만       1만       1\n",
              "3      TV/방송  KBS Entertain: 깔깔티비        56만  7억9237만  7억9237\n",
              "4    애완/반려동물   Arirang은 고양이들내가 주인        56만  1억6574만  1억6574"
            ]
          },
          "metadata": {
            "tags": []
          },
          "execution_count": 38
        }
      ]
    },
    {
      "cell_type": "markdown",
      "metadata": {
        "id": "UfwT3haDfBfI"
      },
      "source": [
        "- page 1 - 10 crawling"
      ]
    },
    {
      "cell_type": "code",
      "metadata": {
        "id": "8BOeRPwMc9GW"
      },
      "source": [
        "results = []\n",
        "for page in range(1,11):\n",
        "  url = 'https://youtube-rank.com/board/bbs/board.php?bo_table=youtube&page=' + str(page)\n",
        "  driver.get(url)\n",
        "  time.sleep(3)\n",
        "  html = driver.page_source\n",
        "  soup = BeautifulSoup(html, 'html.parser')\n",
        "  channel_list = soup.select('.aos-init')\n",
        "\n",
        "  for channel in channel_list:\n",
        "    category = channel.select_one('p.category').get_text().strip(' \\n[] ')\n",
        "    name = channel.select_one('.subject a').text.strip()\n",
        "    subscriber = channel.select_one('.subscriber_cnt').text\n",
        "    view = channel.select_one('.view_cnt').text\n",
        "    video = channel.select_one('.view_cnt').text[:-1]\n",
        "    results.append([category, name, subscriber, view, video])"
      ],
      "execution_count": 39,
      "outputs": []
    },
    {
      "cell_type": "code",
      "metadata": {
        "colab": {
          "base_uri": "https://localhost:8080/",
          "height": 202
        },
        "id": "kPZbBtQ5gCpR",
        "outputId": "c5cf114f-098c-4757-a575-ceddf56e96e3"
      },
      "source": [
        "df = pd.DataFrame(results, columns=['category', 'name', 'subscriber', 'view', 'video'])\n",
        "df.head()"
      ],
      "execution_count": 40,
      "outputs": [
        {
          "output_type": "execute_result",
          "data": {
            "text/html": [
              "<div>\n",
              "<style scoped>\n",
              "    .dataframe tbody tr th:only-of-type {\n",
              "        vertical-align: middle;\n",
              "    }\n",
              "\n",
              "    .dataframe tbody tr th {\n",
              "        vertical-align: top;\n",
              "    }\n",
              "\n",
              "    .dataframe thead th {\n",
              "        text-align: right;\n",
              "    }\n",
              "</style>\n",
              "<table border=\"1\" class=\"dataframe\">\n",
              "  <thead>\n",
              "    <tr style=\"text-align: right;\">\n",
              "      <th></th>\n",
              "      <th>category</th>\n",
              "      <th>name</th>\n",
              "      <th>subscriber</th>\n",
              "      <th>view</th>\n",
              "      <th>video</th>\n",
              "    </tr>\n",
              "  </thead>\n",
              "  <tbody>\n",
              "    <tr>\n",
              "      <th>0</th>\n",
              "      <td>음악/댄스/가수</td>\n",
              "      <td>BLACKPINK</td>\n",
              "      <td>6400만</td>\n",
              "      <td>190억0381만</td>\n",
              "      <td>190억0381</td>\n",
              "    </tr>\n",
              "    <tr>\n",
              "      <th>1</th>\n",
              "      <td>음악/댄스/가수</td>\n",
              "      <td>HYBE LABELS</td>\n",
              "      <td>6030만</td>\n",
              "      <td>187억1305만</td>\n",
              "      <td>187억1305</td>\n",
              "    </tr>\n",
              "    <tr>\n",
              "      <th>2</th>\n",
              "      <td>음악/댄스/가수</td>\n",
              "      <td>BANGTANTV</td>\n",
              "      <td>5640만</td>\n",
              "      <td>121억9496만</td>\n",
              "      <td>121억9496</td>\n",
              "    </tr>\n",
              "    <tr>\n",
              "      <th>3</th>\n",
              "      <td>음악/댄스/가수</td>\n",
              "      <td>SMTOWN</td>\n",
              "      <td>2850만</td>\n",
              "      <td>218억7092만</td>\n",
              "      <td>218억7092</td>\n",
              "    </tr>\n",
              "    <tr>\n",
              "      <th>4</th>\n",
              "      <td>키즈/어린이</td>\n",
              "      <td>Boram Tube Vlog [보람튜브 브이로그]</td>\n",
              "      <td>2650만</td>\n",
              "      <td>110억5288만</td>\n",
              "      <td>110억5288</td>\n",
              "    </tr>\n",
              "  </tbody>\n",
              "</table>\n",
              "</div>"
            ],
            "text/plain": [
              "   category                         name subscriber       view     video\n",
              "0  음악/댄스/가수                    BLACKPINK      6400만  190억0381만  190억0381\n",
              "1  음악/댄스/가수                  HYBE LABELS      6030만  187억1305만  187억1305\n",
              "2  음악/댄스/가수                    BANGTANTV      5640만  121억9496만  121억9496\n",
              "3  음악/댄스/가수                       SMTOWN      2850만  218억7092만  218억7092\n",
              "4    키즈/어린이  Boram Tube Vlog [보람튜브 브이로그]      2650만  110억5288만  110억5288"
            ]
          },
          "metadata": {
            "tags": []
          },
          "execution_count": 40
        }
      ]
    },
    {
      "cell_type": "code",
      "metadata": {
        "colab": {
          "base_uri": "https://localhost:8080/",
          "height": 202
        },
        "id": "hE52yxcTkIEo",
        "outputId": "3f8f46cc-6f19-4090-8305-1305b3cf6232"
      },
      "source": [
        "df.tail()"
      ],
      "execution_count": 41,
      "outputs": [
        {
          "output_type": "execute_result",
          "data": {
            "text/html": [
              "<div>\n",
              "<style scoped>\n",
              "    .dataframe tbody tr th:only-of-type {\n",
              "        vertical-align: middle;\n",
              "    }\n",
              "\n",
              "    .dataframe tbody tr th {\n",
              "        vertical-align: top;\n",
              "    }\n",
              "\n",
              "    .dataframe thead th {\n",
              "        text-align: right;\n",
              "    }\n",
              "</style>\n",
              "<table border=\"1\" class=\"dataframe\">\n",
              "  <thead>\n",
              "    <tr style=\"text-align: right;\">\n",
              "      <th></th>\n",
              "      <th>category</th>\n",
              "      <th>name</th>\n",
              "      <th>subscriber</th>\n",
              "      <th>view</th>\n",
              "      <th>video</th>\n",
              "    </tr>\n",
              "  </thead>\n",
              "  <tbody>\n",
              "    <tr>\n",
              "      <th>995</th>\n",
              "      <td>게임</td>\n",
              "      <td>미소</td>\n",
              "      <td>51만</td>\n",
              "      <td>2억1077만</td>\n",
              "      <td>2억1077</td>\n",
              "    </tr>\n",
              "    <tr>\n",
              "      <th>996</th>\n",
              "      <td>미분류</td>\n",
              "      <td>밉지않은 관종언니</td>\n",
              "      <td>51만</td>\n",
              "      <td>6774만</td>\n",
              "      <td>6774</td>\n",
              "    </tr>\n",
              "    <tr>\n",
              "      <th>997</th>\n",
              "      <td>미분류</td>\n",
              "      <td>복지마블TV [Welfare Marble]</td>\n",
              "      <td>51만</td>\n",
              "      <td>4996만</td>\n",
              "      <td>4996</td>\n",
              "    </tr>\n",
              "    <tr>\n",
              "      <th>998</th>\n",
              "      <td>음식/요리/레시피</td>\n",
              "      <td>Muggo</td>\n",
              "      <td>51만</td>\n",
              "      <td>1억8372만</td>\n",
              "      <td>1억8372</td>\n",
              "    </tr>\n",
              "    <tr>\n",
              "      <th>999</th>\n",
              "      <td>게임</td>\n",
              "      <td>임선비</td>\n",
              "      <td>51만</td>\n",
              "      <td>2억3429만</td>\n",
              "      <td>2억3429</td>\n",
              "    </tr>\n",
              "  </tbody>\n",
              "</table>\n",
              "</div>"
            ],
            "text/plain": [
              "      category                     name subscriber     view   video\n",
              "995         게임                       미소        51만  2억1077만  2억1077\n",
              "996        미분류                밉지않은 관종언니        51만    6774만    6774\n",
              "997        미분류  복지마블TV [Welfare Marble]        51만    4996만    4996\n",
              "998  음식/요리/레시피                    Muggo        51만  1억8372만  1억8372\n",
              "999         게임                      임선비        51만  2억3429만  2억3429"
            ]
          },
          "metadata": {
            "tags": []
          },
          "execution_count": 41
        }
      ]
    },
    {
      "cell_type": "code",
      "metadata": {
        "id": "8EJkWG9Jgex8"
      },
      "source": [
        "df.to_csv('youtube_rank.csv', index=False)"
      ],
      "execution_count": 42,
      "outputs": []
    },
    {
      "cell_type": "code",
      "metadata": {
        "id": "Rv_AQ42ghVT2"
      },
      "source": [
        "driver.close()"
      ],
      "execution_count": 43,
      "outputs": []
    },
    {
      "cell_type": "code",
      "metadata": {
        "id": "FRZVikxollDF"
      },
      "source": [
        ""
      ],
      "execution_count": null,
      "outputs": []
    }
  ]
}