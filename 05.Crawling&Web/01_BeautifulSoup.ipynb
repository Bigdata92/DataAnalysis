{
  "nbformat": 4,
  "nbformat_minor": 0,
  "metadata": {
    "colab": {
      "name": "01_BeautifulSoup.ipynb",
      "provenance": [],
      "collapsed_sections": []
    },
    "kernelspec": {
      "name": "python3",
      "display_name": "Python 3"
    },
    "language_info": {
      "name": "python"
    }
  },
  "cells": [
    {
      "cell_type": "markdown",
      "metadata": {
        "id": "klhV6HpnS88s"
      },
      "source": [
        "# BeautifulSoup 사용법"
      ]
    },
    {
      "cell_type": "code",
      "metadata": {
        "id": "Fb8OroAHSkSA"
      },
      "source": [
        "from bs4 import BeautifulSoup\n",
        "with open('00_Example.html') as fp:\n",
        "  soup = BeautifulSoup(fp, 'html.parser')"
      ],
      "execution_count": 16,
      "outputs": []
    },
    {
      "cell_type": "code",
      "metadata": {
        "colab": {
          "base_uri": "https://localhost:8080/"
        },
        "id": "yLokaXWdTeEI",
        "outputId": "291c5769-e953-41ce-fabc-ba33b7be053c"
      },
      "source": [
        "soup"
      ],
      "execution_count": 17,
      "outputs": [
        {
          "output_type": "execute_result",
          "data": {
            "text/plain": [
              "<!DOCTYPE html>\n",
              "\n",
              "<html lang=\"en\">\n",
              "<head>\n",
              "<meta charset=\"utf-8\"/>\n",
              "<meta content=\"width=device-width, initial-scale=1.0\" name=\"viewport\"/>\n",
              "<title>Web Crawling Example</title>\n",
              "</head>\n",
              "<body>\n",
              "<div>\n",
              "<p>a</p><p>b</p><p>c</p>\n",
              "</div>\n",
              "<div class=\"ex_class sample\">\n",
              "<p>1</p><p>2</p><p>3</p>\n",
              "</div>\n",
              "<div id=\"ex_id\">\n",
              "<p>X</p><p>Y</p><p>Z</p>\n",
              "</div>\n",
              "<h1>This is a heading.</h1>\n",
              "<p>This is a paragraph.</p>\n",
              "<p>This is another paragraph.</p>\n",
              "<a class=\"a sample\" href=\"www.naver.com\">Naver</a>\n",
              "</body>\n",
              "</html>"
            ]
          },
          "metadata": {
            "tags": []
          },
          "execution_count": 17
        }
      ]
    },
    {
      "cell_type": "code",
      "metadata": {
        "colab": {
          "base_uri": "https://localhost:8080/"
        },
        "id": "lxT51lDBTe4b",
        "outputId": "da963b9a-1b68-4675-9d4e-4755d69ac4db"
      },
      "source": [
        "first_div = soup.find('div')  # find() : find only 1\n",
        "first_div"
      ],
      "execution_count": 18,
      "outputs": [
        {
          "output_type": "execute_result",
          "data": {
            "text/plain": [
              "<div>\n",
              "<p>a</p><p>b</p><p>c</p>\n",
              "</div>"
            ]
          },
          "metadata": {
            "tags": []
          },
          "execution_count": 18
        }
      ]
    },
    {
      "cell_type": "code",
      "metadata": {
        "colab": {
          "base_uri": "https://localhost:8080/"
        },
        "id": "jshKhFTXUOxY",
        "outputId": "adf20945-1399-4579-ca26-79aa9fce71e5"
      },
      "source": [
        "all_divs = soup.find_all('div') # find_all() : find all\n",
        "all_divs"
      ],
      "execution_count": 19,
      "outputs": [
        {
          "output_type": "execute_result",
          "data": {
            "text/plain": [
              "[<div>\n",
              " <p>a</p><p>b</p><p>c</p>\n",
              " </div>, <div class=\"ex_class sample\">\n",
              " <p>1</p><p>2</p><p>3</p>\n",
              " </div>, <div id=\"ex_id\">\n",
              " <p>X</p><p>Y</p><p>Z</p>\n",
              " </div>]"
            ]
          },
          "metadata": {
            "tags": []
          },
          "execution_count": 19
        }
      ]
    },
    {
      "cell_type": "code",
      "metadata": {
        "colab": {
          "base_uri": "https://localhost:8080/"
        },
        "id": "lF-8b27AUgOS",
        "outputId": "17a34fd1-ec6f-41f6-ee66-c7134eabdf8d"
      },
      "source": [
        "len(all_divs)"
      ],
      "execution_count": 20,
      "outputs": [
        {
          "output_type": "execute_result",
          "data": {
            "text/plain": [
              "3"
            ]
          },
          "metadata": {
            "tags": []
          },
          "execution_count": 20
        }
      ]
    },
    {
      "cell_type": "code",
      "metadata": {
        "colab": {
          "base_uri": "https://localhost:8080/"
        },
        "id": "vqDxvbcpUpAv",
        "outputId": "371c4bd2-7f07-4712-8e90-c9cbb26a503b"
      },
      "source": [
        "for div in all_divs:\n",
        "  print(div)"
      ],
      "execution_count": 21,
      "outputs": [
        {
          "output_type": "stream",
          "text": [
            "<div>\n",
            "<p>a</p><p>b</p><p>c</p>\n",
            "</div>\n",
            "<div class=\"ex_class sample\">\n",
            "<p>1</p><p>2</p><p>3</p>\n",
            "</div>\n",
            "<div id=\"ex_id\">\n",
            "<p>X</p><p>Y</p><p>Z</p>\n",
            "</div>\n"
          ],
          "name": "stdout"
        }
      ]
    },
    {
      "cell_type": "code",
      "metadata": {
        "colab": {
          "base_uri": "https://localhost:8080/"
        },
        "id": "VcJv19IhU8bp",
        "outputId": "4ccfddf3-0d13-44d5-92cc-7fed32955cb7"
      },
      "source": [
        "all_p = soup.find_all('p')\n",
        "len(all_p)"
      ],
      "execution_count": 22,
      "outputs": [
        {
          "output_type": "execute_result",
          "data": {
            "text/plain": [
              "11"
            ]
          },
          "metadata": {
            "tags": []
          },
          "execution_count": 22
        }
      ]
    },
    {
      "cell_type": "markdown",
      "metadata": {
        "id": "BWCgjMsLVghE"
      },
      "source": [
        "- select_onde - CSS selector로 find 1"
      ]
    },
    {
      "cell_type": "code",
      "metadata": {
        "colab": {
          "base_uri": "https://localhost:8080/"
        },
        "id": "OdvS3rd6Wpr_",
        "outputId": "f2c8f7b1-0465-41a3-a176-b927d323d890"
      },
      "source": [
        "ex_id_div = soup.select_one('#ex_id')\n",
        "ex_id_div"
      ],
      "execution_count": 23,
      "outputs": [
        {
          "output_type": "execute_result",
          "data": {
            "text/plain": [
              "<div id=\"ex_id\">\n",
              "<p>X</p><p>Y</p><p>Z</p>\n",
              "</div>"
            ]
          },
          "metadata": {
            "tags": []
          },
          "execution_count": 23
        }
      ]
    },
    {
      "cell_type": "code",
      "metadata": {
        "id": "HaRqwTNPVIDY"
      },
      "source": [
        "ex_sample_div = soup.select_one('.ex_class.smample')\n",
        "ex_sample_div"
      ],
      "execution_count": 24,
      "outputs": []
    },
    {
      "cell_type": "markdown",
      "metadata": {
        "id": "2lfcEhOqXAWq"
      },
      "source": [
        "- select 0 CSS Select로 모두 찾음"
      ]
    },
    {
      "cell_type": "code",
      "metadata": {
        "colab": {
          "base_uri": "https://localhost:8080/"
        },
        "id": "NLyJgpuUXIyK",
        "outputId": "684bf075-cf95-41ed-b517-fc56f9900717"
      },
      "source": [
        "ex_id_divs = soup.select_one('#ex_id')\n",
        "ex_id_divs"
      ],
      "execution_count": 25,
      "outputs": [
        {
          "output_type": "execute_result",
          "data": {
            "text/plain": [
              "<div id=\"ex_id\">\n",
              "<p>X</p><p>Y</p><p>Z</p>\n",
              "</div>"
            ]
          },
          "metadata": {
            "tags": []
          },
          "execution_count": 25
        }
      ]
    },
    {
      "cell_type": "code",
      "metadata": {
        "colab": {
          "base_uri": "https://localhost:8080/"
        },
        "id": "fy8gwqofXMsJ",
        "outputId": "9b015f41-a915-43d2-cebf-d297dfacbfbe"
      },
      "source": [
        "sample_divs = soup.select('.sample')\n",
        "sample_divs"
      ],
      "execution_count": 26,
      "outputs": [
        {
          "output_type": "execute_result",
          "data": {
            "text/plain": [
              "[<div class=\"ex_class sample\">\n",
              " <p>1</p><p>2</p><p>3</p>\n",
              " </div>, <a class=\"a sample\" href=\"www.naver.com\">Naver</a>]"
            ]
          },
          "metadata": {
            "tags": []
          },
          "execution_count": 26
        }
      ]
    },
    {
      "cell_type": "markdown",
      "metadata": {
        "id": "yQJWGOeoYDOG"
      },
      "source": [
        "- get result"
      ]
    },
    {
      "cell_type": "code",
      "metadata": {
        "colab": {
          "base_uri": "https://localhost:8080/",
          "height": 35
        },
        "id": "jVsZjMyyXZvm",
        "outputId": "7614db49-3d76-4ef8-a911-aa1d4c9ea904"
      },
      "source": [
        "# <a class=\"a sample\" href=\"www.naver.com\">Naver</a>\n",
        "result = soup.select_one('.a.sample').get_text()\n",
        "result"
      ],
      "execution_count": 28,
      "outputs": [
        {
          "output_type": "execute_result",
          "data": {
            "application/vnd.google.colaboratory.intrinsic+json": {
              "type": "string"
            },
            "text/plain": [
              "'Naver'"
            ]
          },
          "metadata": {
            "tags": []
          },
          "execution_count": 28
        }
      ]
    },
    {
      "cell_type": "code",
      "metadata": {
        "colab": {
          "base_uri": "https://localhost:8080/",
          "height": 35
        },
        "id": "m5xEVpxEYSGU",
        "outputId": "231cf501-71f6-4163-8546-7c3c100cd449"
      },
      "source": [
        "result = soup.select_one('.a.sample').string\n",
        "result"
      ],
      "execution_count": 29,
      "outputs": [
        {
          "output_type": "execute_result",
          "data": {
            "application/vnd.google.colaboratory.intrinsic+json": {
              "type": "string"
            },
            "text/plain": [
              "'Naver'"
            ]
          },
          "metadata": {
            "tags": []
          },
          "execution_count": 29
        }
      ]
    },
    {
      "cell_type": "code",
      "metadata": {
        "colab": {
          "base_uri": "https://localhost:8080/",
          "height": 35
        },
        "id": "1iuf6oigYd2D",
        "outputId": "7b88e1e6-e122-478a-aef9-d2c646902caa"
      },
      "source": [
        "# get attribute\n",
        "href = soup.select_one('.a.sample')['href']\n",
        "href"
      ],
      "execution_count": 30,
      "outputs": [
        {
          "output_type": "execute_result",
          "data": {
            "application/vnd.google.colaboratory.intrinsic+json": {
              "type": "string"
            },
            "text/plain": [
              "'www.naver.com'"
            ]
          },
          "metadata": {
            "tags": []
          },
          "execution_count": 30
        }
      ]
    },
    {
      "cell_type": "code",
      "metadata": {
        "id": "t7VDCGxwYkQA"
      },
      "source": [
        "results = soup.select_one('#ex_id').string\n",
        "results"
      ],
      "execution_count": 33,
      "outputs": []
    },
    {
      "cell_type": "code",
      "metadata": {
        "colab": {
          "base_uri": "https://localhost:8080/"
        },
        "id": "pDKuFjqCY04v",
        "outputId": "be31ddbf-8271-4fce-9f30-2bf090ba15be"
      },
      "source": [
        "ex_id_div = soup.select_one('#ex_id')\n",
        "all_ps = ex_id_div.select('p')\n",
        "for p in all_ps:\n",
        "  print(p.string)"
      ],
      "execution_count": 35,
      "outputs": [
        {
          "output_type": "stream",
          "text": [
            "X\n",
            "Y\n",
            "Z\n"
          ],
          "name": "stdout"
        }
      ]
    },
    {
      "cell_type": "code",
      "metadata": {
        "colab": {
          "base_uri": "https://localhost:8080/"
        },
        "id": "ohzHtRrqZoQ8",
        "outputId": "a5a9342f-9326-41d6-f952-c19488638d8e"
      },
      "source": [
        "all_ps"
      ],
      "execution_count": 36,
      "outputs": [
        {
          "output_type": "execute_result",
          "data": {
            "text/plain": [
              "[<p>X</p>, <p>Y</p>, <p>Z</p>]"
            ]
          },
          "metadata": {
            "tags": []
          },
          "execution_count": 36
        }
      ]
    },
    {
      "cell_type": "code",
      "metadata": {
        "id": "DXZ4fMmLZ9xw"
      },
      "source": [
        ""
      ],
      "execution_count": null,
      "outputs": []
    }
  ]
}